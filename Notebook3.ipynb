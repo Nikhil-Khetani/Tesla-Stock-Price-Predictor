{
  "nbformat": 4,
  "nbformat_minor": 0,
  "metadata": {
    "orig_nbformat": 2,
    "kernelspec": {
      "name": "python383jvsc74a57bd01ac84e56b93d5159a59e30071584351c46219097ffd3c74f7197133884cbbc55",
      "display_name": "Python 3.8.3 64-bit"
    },
    "metadata": {
      "interpreter": {
        "hash": "ddec2621c09c2d962b6aab7d66f58bee0f37e4a1fc33df0e38a1135b5b618ec9"
      }
    },
    "colab": {
      "name": "Notebook3.ipynb",
      "provenance": [],
      "collapsed_sections": [],
      "include_colab_link": true
    },
    "language_info": {
      "name": "python",
      "version": "3.8.3"
    },
    "accelerator": "GPU"
  },
  "cells": [
    {
      "cell_type": "markdown",
      "metadata": {
        "id": "view-in-github",
        "colab_type": "text"
      },
      "source": [
        "<a href=\"https://colab.research.google.com/github/Nikhil-Khetani/Tesla-Stock-Price-Predictor/blob/main/Notebook3.ipynb\" target=\"_parent\"><img src=\"https://colab.research.google.com/assets/colab-badge.svg\" alt=\"Open In Colab\"/></a>"
      ]
    },
    {
      "cell_type": "code",
      "metadata": {
        "colab": {
          "base_uri": "https://localhost:8080/",
          "height": 206
        },
        "id": "lkn58yljPMB2",
        "outputId": "7166361d-7b80-44a2-ca60-4e2a1f00906b"
      },
      "source": [
        "from datetime import datetime, timedelta\n",
        "import matplotlib.pyplot as plt\n",
        "from matplotlib import style\n",
        "import matplotlib.dates as mdates\n",
        "import pandas as pd\n",
        "import pandas_datareader.data as web\n",
        "import numpy as np\n",
        "from sklearn.preprocessing import MinMaxScaler\n",
        "\n",
        "\n",
        "style.use('ggplot')\n",
        "\n",
        "num_epochs = 100\n",
        "input_length = 10\n",
        "batch_size = 16\n",
        "\n",
        "\n",
        "start = datetime(2011, 1, 1)\n",
        "end = datetime(2021, 1, 1)\n",
        "\n",
        "df = web.DataReader('TSLA', 'yahoo', start, end).reset_index(level=0)\n",
        "'''\n",
        "df.to_csv('tsla.csv')\n",
        "\n",
        "df = pd.read_csv('tsla.csv', index_col=0).reset_index()\n",
        "'''\n",
        "df.head()\n"
      ],
      "execution_count": 22,
      "outputs": [
        {
          "output_type": "execute_result",
          "data": {
            "text/html": [
              "<div>\n",
              "<style scoped>\n",
              "    .dataframe tbody tr th:only-of-type {\n",
              "        vertical-align: middle;\n",
              "    }\n",
              "\n",
              "    .dataframe tbody tr th {\n",
              "        vertical-align: top;\n",
              "    }\n",
              "\n",
              "    .dataframe thead th {\n",
              "        text-align: right;\n",
              "    }\n",
              "</style>\n",
              "<table border=\"1\" class=\"dataframe\">\n",
              "  <thead>\n",
              "    <tr style=\"text-align: right;\">\n",
              "      <th></th>\n",
              "      <th>Date</th>\n",
              "      <th>High</th>\n",
              "      <th>Low</th>\n",
              "      <th>Open</th>\n",
              "      <th>Close</th>\n",
              "      <th>Volume</th>\n",
              "      <th>Adj Close</th>\n",
              "    </tr>\n",
              "  </thead>\n",
              "  <tbody>\n",
              "    <tr>\n",
              "      <th>0</th>\n",
              "      <td>2011-01-03</td>\n",
              "      <td>5.400</td>\n",
              "      <td>5.180</td>\n",
              "      <td>5.368</td>\n",
              "      <td>5.324</td>\n",
              "      <td>6415000.0</td>\n",
              "      <td>5.324</td>\n",
              "    </tr>\n",
              "    <tr>\n",
              "      <th>1</th>\n",
              "      <td>2011-01-04</td>\n",
              "      <td>5.390</td>\n",
              "      <td>5.204</td>\n",
              "      <td>5.332</td>\n",
              "      <td>5.334</td>\n",
              "      <td>5937000.0</td>\n",
              "      <td>5.334</td>\n",
              "    </tr>\n",
              "    <tr>\n",
              "      <th>2</th>\n",
              "      <td>2011-01-05</td>\n",
              "      <td>5.380</td>\n",
              "      <td>5.238</td>\n",
              "      <td>5.296</td>\n",
              "      <td>5.366</td>\n",
              "      <td>7233500.0</td>\n",
              "      <td>5.366</td>\n",
              "    </tr>\n",
              "    <tr>\n",
              "      <th>3</th>\n",
              "      <td>2011-01-06</td>\n",
              "      <td>5.600</td>\n",
              "      <td>5.362</td>\n",
              "      <td>5.366</td>\n",
              "      <td>5.576</td>\n",
              "      <td>10306000.0</td>\n",
              "      <td>5.576</td>\n",
              "    </tr>\n",
              "    <tr>\n",
              "      <th>4</th>\n",
              "      <td>2011-01-07</td>\n",
              "      <td>5.716</td>\n",
              "      <td>5.580</td>\n",
              "      <td>5.600</td>\n",
              "      <td>5.648</td>\n",
              "      <td>11239500.0</td>\n",
              "      <td>5.648</td>\n",
              "    </tr>\n",
              "  </tbody>\n",
              "</table>\n",
              "</div>"
            ],
            "text/plain": [
              "        Date   High    Low   Open  Close      Volume  Adj Close\n",
              "0 2011-01-03  5.400  5.180  5.368  5.324   6415000.0      5.324\n",
              "1 2011-01-04  5.390  5.204  5.332  5.334   5937000.0      5.334\n",
              "2 2011-01-05  5.380  5.238  5.296  5.366   7233500.0      5.366\n",
              "3 2011-01-06  5.600  5.362  5.366  5.576  10306000.0      5.576\n",
              "4 2011-01-07  5.716  5.580  5.600  5.648  11239500.0      5.648"
            ]
          },
          "metadata": {
            "tags": []
          },
          "execution_count": 22
        }
      ]
    },
    {
      "cell_type": "code",
      "metadata": {
        "colab": {
          "base_uri": "https://localhost:8080/",
          "height": 206
        },
        "id": "upvHql2UPMCI",
        "outputId": "c4fae2bd-35bd-43f3-e34e-4d2d612fba3e"
      },
      "source": [
        "df = pd.DataFrame(df[['Date','Adj Close']])\n",
        "df['Date']=pd.to_datetime(df['Date'])\n",
        "df.head()"
      ],
      "execution_count": 23,
      "outputs": [
        {
          "output_type": "execute_result",
          "data": {
            "text/html": [
              "<div>\n",
              "<style scoped>\n",
              "    .dataframe tbody tr th:only-of-type {\n",
              "        vertical-align: middle;\n",
              "    }\n",
              "\n",
              "    .dataframe tbody tr th {\n",
              "        vertical-align: top;\n",
              "    }\n",
              "\n",
              "    .dataframe thead th {\n",
              "        text-align: right;\n",
              "    }\n",
              "</style>\n",
              "<table border=\"1\" class=\"dataframe\">\n",
              "  <thead>\n",
              "    <tr style=\"text-align: right;\">\n",
              "      <th></th>\n",
              "      <th>Date</th>\n",
              "      <th>Adj Close</th>\n",
              "    </tr>\n",
              "  </thead>\n",
              "  <tbody>\n",
              "    <tr>\n",
              "      <th>0</th>\n",
              "      <td>2011-01-03</td>\n",
              "      <td>5.324</td>\n",
              "    </tr>\n",
              "    <tr>\n",
              "      <th>1</th>\n",
              "      <td>2011-01-04</td>\n",
              "      <td>5.334</td>\n",
              "    </tr>\n",
              "    <tr>\n",
              "      <th>2</th>\n",
              "      <td>2011-01-05</td>\n",
              "      <td>5.366</td>\n",
              "    </tr>\n",
              "    <tr>\n",
              "      <th>3</th>\n",
              "      <td>2011-01-06</td>\n",
              "      <td>5.576</td>\n",
              "    </tr>\n",
              "    <tr>\n",
              "      <th>4</th>\n",
              "      <td>2011-01-07</td>\n",
              "      <td>5.648</td>\n",
              "    </tr>\n",
              "  </tbody>\n",
              "</table>\n",
              "</div>"
            ],
            "text/plain": [
              "        Date  Adj Close\n",
              "0 2011-01-03      5.324\n",
              "1 2011-01-04      5.334\n",
              "2 2011-01-05      5.366\n",
              "3 2011-01-06      5.576\n",
              "4 2011-01-07      5.648"
            ]
          },
          "metadata": {
            "tags": []
          },
          "execution_count": 23
        }
      ]
    },
    {
      "cell_type": "code",
      "metadata": {
        "colab": {
          "base_uri": "https://localhost:8080/"
        },
        "id": "DPqahjicPMCK",
        "outputId": "d5314f72-25f6-45db-d1a1-40adec06021b"
      },
      "source": [
        "df.info()"
      ],
      "execution_count": 24,
      "outputs": [
        {
          "output_type": "stream",
          "text": [
            "<class 'pandas.core.frame.DataFrame'>\n",
            "RangeIndex: 2517 entries, 0 to 2516\n",
            "Data columns (total 2 columns):\n",
            " #   Column     Non-Null Count  Dtype         \n",
            "---  ------     --------------  -----         \n",
            " 0   Date       2517 non-null   datetime64[ns]\n",
            " 1   Adj Close  2517 non-null   float64       \n",
            "dtypes: datetime64[ns](1), float64(1)\n",
            "memory usage: 39.5 KB\n"
          ],
          "name": "stdout"
        }
      ]
    },
    {
      "cell_type": "code",
      "metadata": {
        "id": "IOUcpoJNPMCM"
      },
      "source": [
        "df.set_index('Date', inplace=True)"
      ],
      "execution_count": 25,
      "outputs": []
    },
    {
      "cell_type": "code",
      "metadata": {
        "colab": {
          "base_uri": "https://localhost:8080/",
          "height": 238
        },
        "id": "vhHpIk8hPMCN",
        "outputId": "66ffbce4-691f-4b0c-ed57-7edba24559e8"
      },
      "source": [
        "df['2015'].head()"
      ],
      "execution_count": 26,
      "outputs": [
        {
          "output_type": "execute_result",
          "data": {
            "text/html": [
              "<div>\n",
              "<style scoped>\n",
              "    .dataframe tbody tr th:only-of-type {\n",
              "        vertical-align: middle;\n",
              "    }\n",
              "\n",
              "    .dataframe tbody tr th {\n",
              "        vertical-align: top;\n",
              "    }\n",
              "\n",
              "    .dataframe thead th {\n",
              "        text-align: right;\n",
              "    }\n",
              "</style>\n",
              "<table border=\"1\" class=\"dataframe\">\n",
              "  <thead>\n",
              "    <tr style=\"text-align: right;\">\n",
              "      <th></th>\n",
              "      <th>Adj Close</th>\n",
              "    </tr>\n",
              "    <tr>\n",
              "      <th>Date</th>\n",
              "      <th></th>\n",
              "    </tr>\n",
              "  </thead>\n",
              "  <tbody>\n",
              "    <tr>\n",
              "      <th>2015-01-02</th>\n",
              "      <td>43.862000</td>\n",
              "    </tr>\n",
              "    <tr>\n",
              "      <th>2015-01-05</th>\n",
              "      <td>42.018002</td>\n",
              "    </tr>\n",
              "    <tr>\n",
              "      <th>2015-01-06</th>\n",
              "      <td>42.256001</td>\n",
              "    </tr>\n",
              "    <tr>\n",
              "      <th>2015-01-07</th>\n",
              "      <td>42.189999</td>\n",
              "    </tr>\n",
              "    <tr>\n",
              "      <th>2015-01-08</th>\n",
              "      <td>42.124001</td>\n",
              "    </tr>\n",
              "  </tbody>\n",
              "</table>\n",
              "</div>"
            ],
            "text/plain": [
              "            Adj Close\n",
              "Date                 \n",
              "2015-01-02  43.862000\n",
              "2015-01-05  42.018002\n",
              "2015-01-06  42.256001\n",
              "2015-01-07  42.189999\n",
              "2015-01-08  42.124001"
            ]
          },
          "metadata": {
            "tags": []
          },
          "execution_count": 26
        }
      ]
    },
    {
      "cell_type": "code",
      "metadata": {
        "colab": {
          "base_uri": "https://localhost:8080/"
        },
        "id": "vHjEwcslPMCO",
        "outputId": "9a1df6ae-ddd6-47e9-bbeb-c15ee1980461"
      },
      "source": [
        "date_range = df.index.max()-df.index.min()\n",
        "print(date_range)"
      ],
      "execution_count": 27,
      "outputs": [
        {
          "output_type": "stream",
          "text": [
            "3650 days 00:00:00\n"
          ],
          "name": "stdout"
        }
      ]
    },
    {
      "cell_type": "code",
      "metadata": {
        "id": "SUUe9OtSPMCP"
      },
      "source": [
        "new_index = pd.date_range(df.index.min(),df.index.max())\n",
        "df = df.reindex(new_index)"
      ],
      "execution_count": 28,
      "outputs": []
    },
    {
      "cell_type": "code",
      "metadata": {
        "colab": {
          "base_uri": "https://localhost:8080/"
        },
        "id": "IX_FLUVCPMCQ",
        "outputId": "fc650dd2-7b46-4cdb-f195-b395e243fdaf"
      },
      "source": [
        "df['Adj Close'].value_counts(dropna=False)"
      ],
      "execution_count": 29,
      "outputs": [
        {
          "output_type": "execute_result",
          "data": {
            "text/plain": [
              "NaN          1134\n",
              "5.484000        4\n",
              "42.018002       3\n",
              "5.424000        3\n",
              "6.492000        3\n",
              "             ... \n",
              "56.366001       1\n",
              "48.292000       1\n",
              "42.888000       1\n",
              "39.209999       1\n",
              "49.548000       1\n",
              "Name: Adj Close, Length: 2354, dtype: int64"
            ]
          },
          "metadata": {
            "tags": []
          },
          "execution_count": 29
        }
      ]
    },
    {
      "cell_type": "code",
      "metadata": {
        "id": "5lX-QDTzPMCR"
      },
      "source": [
        "df['Adj Close'].interpolate(method='linear', inplace=True)"
      ],
      "execution_count": 30,
      "outputs": []
    },
    {
      "cell_type": "code",
      "metadata": {
        "colab": {
          "base_uri": "https://localhost:8080/"
        },
        "id": "GEIUv-EePMCS",
        "outputId": "833c441e-2f89-477a-a62e-f9cf0db7132e"
      },
      "source": [
        "df['Adj Close'].value_counts(dropna=False)\n"
      ],
      "execution_count": 31,
      "outputs": [
        {
          "output_type": "execute_result",
          "data": {
            "text/plain": [
              "5.484000     4\n",
              "5.634000     3\n",
              "6.492000     3\n",
              "5.320000     3\n",
              "42.018002    3\n",
              "            ..\n",
              "45.557999    1\n",
              "4.748500     1\n",
              "34.335499    1\n",
              "25.804000    1\n",
              "6.750000     1\n",
              "Name: Adj Close, Length: 3471, dtype: int64"
            ]
          },
          "metadata": {
            "tags": []
          },
          "execution_count": 31
        }
      ]
    },
    {
      "cell_type": "code",
      "metadata": {
        "colab": {
          "base_uri": "https://localhost:8080/",
          "height": 283
        },
        "id": "NKaSA7q9PMCT",
        "outputId": "7e08cf4f-6ef5-4337-dd55-961d51c6087f"
      },
      "source": [
        "plt.plot(df)"
      ],
      "execution_count": 32,
      "outputs": [
        {
          "output_type": "execute_result",
          "data": {
            "text/plain": [
              "[<matplotlib.lines.Line2D at 0x7fba04890c90>]"
            ]
          },
          "metadata": {
            "tags": []
          },
          "execution_count": 32
        },
        {
          "output_type": "display_data",
          "data": {
            "image/png": "[encoded data removed]",
            "text/plain": [
              "<Figure size 432x288 with 1 Axes>"
            ]
          },
          "metadata": {
            "tags": []
          }
        }
      ]
    },
    {
      "cell_type": "code",
      "metadata": {
        "colab": {
          "base_uri": "https://localhost:8080/",
          "height": 283
        },
        "id": "Sy1qtE9fPMCV",
        "outputId": "38f06867-b0fb-4e2a-f38f-afa34a9e53b7"
      },
      "source": [
        "train_data = pd.DataFrame(df['2014':'2017'])\n",
        "test_data = df['2018':'2019']\n",
        "\n",
        "plt.plot(train_data)\n",
        "plt.plot(test_data)"
      ],
      "execution_count": 33,
      "outputs": [
        {
          "output_type": "execute_result",
          "data": {
            "text/plain": [
              "[<matplotlib.lines.Line2D at 0x7fba04cbf0d0>]"
            ]
          },
          "metadata": {
            "tags": []
          },
          "execution_count": 33
        },
        {
          "output_type": "display_data",
          "data": {
            "image/png": "[encoded data removed]",
            "text/plain": [
              "<Figure size 432x288 with 1 Axes>"
            ]
          },
          "metadata": {
            "tags": []
          }
        }
      ]
    },
    {
      "cell_type": "code",
      "metadata": {
        "id": "DaH5qVQXPMCW"
      },
      "source": [
        "scaler = MinMaxScaler(feature_range=(-1,1))\n",
        "train_data_scaled = scaler.fit_transform(train_data)"
      ],
      "execution_count": 34,
      "outputs": []
    },
    {
      "cell_type": "code",
      "metadata": {
        "colab": {
          "base_uri": "https://localhost:8080/",
          "height": 424
        },
        "id": "CxAp3KtdPMCX",
        "outputId": "e2a6ace6-ba72-44dc-90ff-1282c8cbeb07"
      },
      "source": [
        "train_data['Scaled_close'] = train_data_scaled\n",
        "train_data = pd.DataFrame(train_data['Scaled_close'])\n",
        "train_data"
      ],
      "execution_count": 35,
      "outputs": [
        {
          "output_type": "execute_result",
          "data": {
            "text/html": [
              "<div>\n",
              "<style scoped>\n",
              "    .dataframe tbody tr th:only-of-type {\n",
              "        vertical-align: middle;\n",
              "    }\n",
              "\n",
              "    .dataframe tbody tr th {\n",
              "        vertical-align: top;\n",
              "    }\n",
              "\n",
              "    .dataframe thead th {\n",
              "        text-align: right;\n",
              "    }\n",
              "</style>\n",
              "<table border=\"1\" class=\"dataframe\">\n",
              "  <thead>\n",
              "    <tr style=\"text-align: right;\">\n",
              "      <th></th>\n",
              "      <th>Scaled_close</th>\n",
              "    </tr>\n",
              "  </thead>\n",
              "  <tbody>\n",
              "    <tr>\n",
              "      <th>2014-01-01</th>\n",
              "      <td>-0.911056</td>\n",
              "    </tr>\n",
              "    <tr>\n",
              "      <th>2014-01-02</th>\n",
              "      <td>-0.912399</td>\n",
              "    </tr>\n",
              "    <tr>\n",
              "      <th>2014-01-03</th>\n",
              "      <td>-0.916796</td>\n",
              "    </tr>\n",
              "    <tr>\n",
              "      <th>2014-01-04</th>\n",
              "      <td>-0.923743</td>\n",
              "    </tr>\n",
              "    <tr>\n",
              "      <th>2014-01-05</th>\n",
              "      <td>-0.930690</td>\n",
              "    </tr>\n",
              "    <tr>\n",
              "      <th>...</th>\n",
              "      <td>...</td>\n",
              "    </tr>\n",
              "    <tr>\n",
              "      <th>2017-12-27</th>\n",
              "      <td>0.402752</td>\n",
              "    </tr>\n",
              "    <tr>\n",
              "      <th>2017-12-28</th>\n",
              "      <td>0.433037</td>\n",
              "    </tr>\n",
              "    <tr>\n",
              "      <th>2017-12-29</th>\n",
              "      <td>0.400391</td>\n",
              "    </tr>\n",
              "    <tr>\n",
              "      <th>2017-12-30</th>\n",
              "      <td>0.419075</td>\n",
              "    </tr>\n",
              "    <tr>\n",
              "      <th>2017-12-31</th>\n",
              "      <td>0.437760</td>\n",
              "    </tr>\n",
              "  </tbody>\n",
              "</table>\n",
              "<p>1461 rows × 1 columns</p>\n",
              "</div>"
            ],
            "text/plain": [
              "            Scaled_close\n",
              "2014-01-01     -0.911056\n",
              "2014-01-02     -0.912399\n",
              "2014-01-03     -0.916796\n",
              "2014-01-04     -0.923743\n",
              "2014-01-05     -0.930690\n",
              "...                  ...\n",
              "2017-12-27      0.402752\n",
              "2017-12-28      0.433037\n",
              "2017-12-29      0.400391\n",
              "2017-12-30      0.419075\n",
              "2017-12-31      0.437760\n",
              "\n",
              "[1461 rows x 1 columns]"
            ]
          },
          "metadata": {
            "tags": []
          },
          "execution_count": 35
        }
      ]
    },
    {
      "cell_type": "code",
      "metadata": {
        "colab": {
          "base_uri": "https://localhost:8080/",
          "height": 424
        },
        "id": "9paEEfei_JrA",
        "outputId": "a6ff07b8-e2bb-48a1-c8c2-0c6d8560a9d0"
      },
      "source": [
        "train_data_lagged=train_data\n",
        "for lag in range(1, input_length + 1):\n",
        "            train_data_lagged['lag_' + str(lag)] = train_data_lagged[train_data_lagged.columns[0]].shift(lag)\n",
        "            train_data_lagged.dropna(inplace=True)\n",
        "train_data_lagged"
      ],
      "execution_count": 36,
      "outputs": [
        {
          "output_type": "execute_result",
          "data": {
            "text/html": [
              "<div>\n",
              "<style scoped>\n",
              "    .dataframe tbody tr th:only-of-type {\n",
              "        vertical-align: middle;\n",
              "    }\n",
              "\n",
              "    .dataframe tbody tr th {\n",
              "        vertical-align: top;\n",
              "    }\n",
              "\n",
              "    .dataframe thead th {\n",
              "        text-align: right;\n",
              "    }\n",
              "</style>\n",
              "<table border=\"1\" class=\"dataframe\">\n",
              "  <thead>\n",
              "    <tr style=\"text-align: right;\">\n",
              "      <th></th>\n",
              "      <th>Scaled_close</th>\n",
              "      <th>lag_1</th>\n",
              "      <th>lag_2</th>\n",
              "      <th>lag_3</th>\n",
              "      <th>lag_4</th>\n",
              "      <th>lag_5</th>\n",
              "      <th>lag_6</th>\n",
              "      <th>lag_7</th>\n",
              "      <th>lag_8</th>\n",
              "      <th>lag_9</th>\n",
              "      <th>lag_10</th>\n",
              "    </tr>\n",
              "  </thead>\n",
              "  <tbody>\n",
              "    <tr>\n",
              "      <th>2014-02-25</th>\n",
              "      <td>-0.115363</td>\n",
              "      <td>-0.362452</td>\n",
              "      <td>-0.384298</td>\n",
              "      <td>-0.406144</td>\n",
              "      <td>-0.427990</td>\n",
              "      <td>-0.424978</td>\n",
              "      <td>-0.557926</td>\n",
              "      <td>-0.476024</td>\n",
              "      <td>-0.487157</td>\n",
              "      <td>-0.498290</td>\n",
              "      <td>-0.509424</td>\n",
              "    </tr>\n",
              "    <tr>\n",
              "      <th>2014-02-26</th>\n",
              "      <td>-0.074656</td>\n",
              "      <td>-0.115363</td>\n",
              "      <td>-0.362452</td>\n",
              "      <td>-0.384298</td>\n",
              "      <td>-0.406144</td>\n",
              "      <td>-0.427990</td>\n",
              "      <td>-0.424978</td>\n",
              "      <td>-0.557926</td>\n",
              "      <td>-0.476024</td>\n",
              "      <td>-0.487157</td>\n",
              "      <td>-0.498290</td>\n",
              "    </tr>\n",
              "    <tr>\n",
              "      <th>2014-02-27</th>\n",
              "      <td>-0.078401</td>\n",
              "      <td>-0.074656</td>\n",
              "      <td>-0.115363</td>\n",
              "      <td>-0.362452</td>\n",
              "      <td>-0.384298</td>\n",
              "      <td>-0.406144</td>\n",
              "      <td>-0.427990</td>\n",
              "      <td>-0.424978</td>\n",
              "      <td>-0.557926</td>\n",
              "      <td>-0.476024</td>\n",
              "      <td>-0.487157</td>\n",
              "    </tr>\n",
              "    <tr>\n",
              "      <th>2014-02-28</th>\n",
              "      <td>-0.141333</td>\n",
              "      <td>-0.078401</td>\n",
              "      <td>-0.074656</td>\n",
              "      <td>-0.115363</td>\n",
              "      <td>-0.362452</td>\n",
              "      <td>-0.384298</td>\n",
              "      <td>-0.406144</td>\n",
              "      <td>-0.427990</td>\n",
              "      <td>-0.424978</td>\n",
              "      <td>-0.557926</td>\n",
              "      <td>-0.476024</td>\n",
              "    </tr>\n",
              "    <tr>\n",
              "      <th>2014-03-01</th>\n",
              "      <td>-0.125729</td>\n",
              "      <td>-0.141333</td>\n",
              "      <td>-0.078401</td>\n",
              "      <td>-0.074656</td>\n",
              "      <td>-0.115363</td>\n",
              "      <td>-0.362452</td>\n",
              "      <td>-0.384298</td>\n",
              "      <td>-0.406144</td>\n",
              "      <td>-0.427990</td>\n",
              "      <td>-0.424978</td>\n",
              "      <td>-0.557926</td>\n",
              "    </tr>\n",
              "    <tr>\n",
              "      <th>...</th>\n",
              "      <td>...</td>\n",
              "      <td>...</td>\n",
              "      <td>...</td>\n",
              "      <td>...</td>\n",
              "      <td>...</td>\n",
              "      <td>...</td>\n",
              "      <td>...</td>\n",
              "      <td>...</td>\n",
              "      <td>...</td>\n",
              "      <td>...</td>\n",
              "      <td>...</td>\n",
              "    </tr>\n",
              "    <tr>\n",
              "      <th>2017-12-27</th>\n",
              "      <td>0.402752</td>\n",
              "      <td>0.448750</td>\n",
              "      <td>0.464850</td>\n",
              "      <td>0.480949</td>\n",
              "      <td>0.497049</td>\n",
              "      <td>0.513148</td>\n",
              "      <td>0.565741</td>\n",
              "      <td>0.543922</td>\n",
              "      <td>0.561182</td>\n",
              "      <td>0.624440</td>\n",
              "      <td>0.636869</td>\n",
              "    </tr>\n",
              "    <tr>\n",
              "      <th>2017-12-28</th>\n",
              "      <td>0.433037</td>\n",
              "      <td>0.402752</td>\n",
              "      <td>0.448750</td>\n",
              "      <td>0.464850</td>\n",
              "      <td>0.480949</td>\n",
              "      <td>0.497049</td>\n",
              "      <td>0.513148</td>\n",
              "      <td>0.565741</td>\n",
              "      <td>0.543922</td>\n",
              "      <td>0.561182</td>\n",
              "      <td>0.624440</td>\n",
              "    </tr>\n",
              "    <tr>\n",
              "      <th>2017-12-29</th>\n",
              "      <td>0.400391</td>\n",
              "      <td>0.433037</td>\n",
              "      <td>0.402752</td>\n",
              "      <td>0.448750</td>\n",
              "      <td>0.464850</td>\n",
              "      <td>0.480949</td>\n",
              "      <td>0.497049</td>\n",
              "      <td>0.513148</td>\n",
              "      <td>0.565741</td>\n",
              "      <td>0.543922</td>\n",
              "      <td>0.561182</td>\n",
              "    </tr>\n",
              "    <tr>\n",
              "      <th>2017-12-30</th>\n",
              "      <td>0.419075</td>\n",
              "      <td>0.400391</td>\n",
              "      <td>0.433037</td>\n",
              "      <td>0.402752</td>\n",
              "      <td>0.448750</td>\n",
              "      <td>0.464850</td>\n",
              "      <td>0.480949</td>\n",
              "      <td>0.497049</td>\n",
              "      <td>0.513148</td>\n",
              "      <td>0.565741</td>\n",
              "      <td>0.543922</td>\n",
              "    </tr>\n",
              "    <tr>\n",
              "      <th>2017-12-31</th>\n",
              "      <td>0.437760</td>\n",
              "      <td>0.419075</td>\n",
              "      <td>0.400391</td>\n",
              "      <td>0.433037</td>\n",
              "      <td>0.402752</td>\n",
              "      <td>0.448750</td>\n",
              "      <td>0.464850</td>\n",
              "      <td>0.480949</td>\n",
              "      <td>0.497049</td>\n",
              "      <td>0.513148</td>\n",
              "      <td>0.565741</td>\n",
              "    </tr>\n",
              "  </tbody>\n",
              "</table>\n",
              "<p>1406 rows × 11 columns</p>\n",
              "</div>"
            ],
            "text/plain": [
              "            Scaled_close     lag_1     lag_2  ...     lag_8     lag_9    lag_10\n",
              "2014-02-25     -0.115363 -0.362452 -0.384298  ... -0.487157 -0.498290 -0.509424\n",
              "2014-02-26     -0.074656 -0.115363 -0.362452  ... -0.476024 -0.487157 -0.498290\n",
              "2014-02-27     -0.078401 -0.074656 -0.115363  ... -0.557926 -0.476024 -0.487157\n",
              "2014-02-28     -0.141333 -0.078401 -0.074656  ... -0.424978 -0.557926 -0.476024\n",
              "2014-03-01     -0.125729 -0.141333 -0.078401  ... -0.427990 -0.424978 -0.557926\n",
              "...                  ...       ...       ...  ...       ...       ...       ...\n",
              "2017-12-27      0.402752  0.448750  0.464850  ...  0.561182  0.624440  0.636869\n",
              "2017-12-28      0.433037  0.402752  0.448750  ...  0.543922  0.561182  0.624440\n",
              "2017-12-29      0.400391  0.433037  0.402752  ...  0.565741  0.543922  0.561182\n",
              "2017-12-30      0.419075  0.400391  0.433037  ...  0.513148  0.565741  0.543922\n",
              "2017-12-31      0.437760  0.419075  0.400391  ...  0.497049  0.513148  0.565741\n",
              "\n",
              "[1406 rows x 11 columns]"
            ]
          },
          "metadata": {
            "tags": []
          },
          "execution_count": 36
        }
      ]
    },
    {
      "cell_type": "code",
      "metadata": {
        "colab": {
          "base_uri": "https://localhost:8080/"
        },
        "id": "_ZtMdwTUDZsx",
        "outputId": "31b25b82-8371-4203-ba13-f386c4925fb0"
      },
      "source": [
        "lag_features  = [i for i in reversed(train_data_lagged.columns) if i!='Scaled_close']\n",
        "print(lag_features)\n",
        "X_data = np.array(train_data_lagged[lag_features])\n",
        "y_data = np.array(train_data_lagged['Scaled_close'])\n",
        "X_data.shape"
      ],
      "execution_count": 37,
      "outputs": [
        {
          "output_type": "stream",
          "text": [
            "['lag_10', 'lag_9', 'lag_8', 'lag_7', 'lag_6', 'lag_5', 'lag_4', 'lag_3', 'lag_2', 'lag_1']\n"
          ],
          "name": "stdout"
        },
        {
          "output_type": "execute_result",
          "data": {
            "text/plain": [
              "(1406, 10)"
            ]
          },
          "metadata": {
            "tags": []
          },
          "execution_count": 37
        }
      ]
    },
    {
      "cell_type": "code",
      "metadata": {
        "id": "JgYOjhp_Gezq"
      },
      "source": [
        "# for i in range(len(X_data)):\n",
        "  # print(X_data[i],y_data[i])\n"
      ],
      "execution_count": 38,
      "outputs": []
    },
    {
      "cell_type": "code",
      "metadata": {
        "id": "uWeKAhi1HfRA"
      },
      "source": [
        "import tensorflow as tf"
      ],
      "execution_count": 39,
      "outputs": []
    },
    {
      "cell_type": "code",
      "metadata": {
        "colab": {
          "base_uri": "https://localhost:8080/"
        },
        "id": "aT7y0GViIAaS",
        "outputId": "a9c4784f-9d2a-4e74-c328-ffa1cb07b935"
      },
      "source": [
        "n_features = 1\n",
        "\n",
        "\n",
        "model = tf.keras.models.Sequential()\n",
        "model.add(tf.keras.layers.LSTM(50, activation='relu', input_shape=(input_length, n_features)))\n",
        "model.add(tf.keras.layers.Dense(1))\n",
        "model.compile(optimizer='adam', loss='mse')"
      ],
      "execution_count": 40,
      "outputs": [
        {
          "output_type": "stream",
          "text": [
            "WARNING:tensorflow:Layer lstm_1 will not use cuDNN kernel since it doesn't meet the cuDNN kernel criteria. It will use generic GPU kernel as fallback when running on GPU\n"
          ],
          "name": "stdout"
        }
      ]
    },
    {
      "cell_type": "code",
      "metadata": {
        "id": "m3mlr-7NI9h7"
      },
      "source": [
        "# reshape from [samples, timesteps] into [samples, timesteps, features]\n",
        "n_features = 1\n",
        "X_data = X_data.reshape((X_data.shape[0], X_data.shape[1], n_features))"
      ],
      "execution_count": 41,
      "outputs": []
    },
    {
      "cell_type": "code",
      "metadata": {
        "colab": {
          "base_uri": "https://localhost:8080/"
        },
        "id": "O8WGnLczJF7e",
        "outputId": "5f813575-cdd9-4f86-e348-6094b42c3ffe"
      },
      "source": [
        "model.fit(X_data, y_data, epochs=200, shuffle=True,verbose=1)\n"
      ],
      "execution_count": 42,
      "outputs": [
        {
          "output_type": "stream",
          "text": [
            "Epoch 1/200\n",
            "44/44 [==============================] - 2s 15ms/step - loss: 0.0918\n",
            "Epoch 2/200\n",
            "44/44 [==============================] - 1s 14ms/step - loss: 0.0051\n",
            "Epoch 3/200\n",
            "44/44 [==============================] - 1s 15ms/step - loss: 0.0049\n",
            "Epoch 4/200\n",
            "44/44 [==============================] - 1s 17ms/step - loss: 0.0045\n",
            "Epoch 5/200\n",
            "44/44 [==============================] - 1s 17ms/step - loss: 0.0040\n",
            "Epoch 6/200\n",
            "44/44 [==============================] - 1s 15ms/step - loss: 0.0039\n",
            "Epoch 7/200\n",
            "44/44 [==============================] - 1s 16ms/step - loss: 0.0034\n",
            "Epoch 8/200\n",
            "44/44 [==============================] - 1s 16ms/step - loss: 0.0035\n",
            "Epoch 9/200\n",
            "44/44 [==============================] - 1s 15ms/step - loss: 0.0028\n",
            "Epoch 10/200\n",
            "44/44 [==============================] - 1s 15ms/step - loss: 0.0028\n",
            "Epoch 11/200\n",
            "44/44 [==============================] - 1s 15ms/step - loss: 0.0024\n",
            "Epoch 12/200\n",
            "44/44 [==============================] - 1s 15ms/step - loss: 0.0025\n",
            "Epoch 13/200\n",
            "44/44 [==============================] - 1s 15ms/step - loss: 0.0021\n",
            "Epoch 14/200\n",
            "44/44 [==============================] - 1s 16ms/step - loss: 0.0023\n",
            "Epoch 15/200\n",
            "44/44 [==============================] - 1s 15ms/step - loss: 0.0022\n",
            "Epoch 16/200\n",
            "44/44 [==============================] - 1s 16ms/step - loss: 0.0019\n",
            "Epoch 17/200\n",
            "44/44 [==============================] - 1s 15ms/step - loss: 0.0021\n",
            "Epoch 18/200\n",
            "44/44 [==============================] - 1s 15ms/step - loss: 0.0019\n",
            "Epoch 19/200\n",
            "44/44 [==============================] - 1s 15ms/step - loss: 0.0021\n",
            "Epoch 20/200\n",
            "44/44 [==============================] - 1s 16ms/step - loss: 0.0018\n",
            "Epoch 21/200\n",
            "44/44 [==============================] - 1s 15ms/step - loss: 0.0021\n",
            "Epoch 22/200\n",
            "44/44 [==============================] - 1s 16ms/step - loss: 0.0018\n",
            "Epoch 23/200\n",
            "44/44 [==============================] - 1s 14ms/step - loss: 0.0022\n",
            "Epoch 24/200\n",
            "44/44 [==============================] - 1s 15ms/step - loss: 0.0018\n",
            "Epoch 25/200\n",
            "44/44 [==============================] - 1s 15ms/step - loss: 0.0020\n",
            "Epoch 26/200\n",
            "44/44 [==============================] - 1s 15ms/step - loss: 0.0020\n",
            "Epoch 27/200\n",
            "44/44 [==============================] - 1s 14ms/step - loss: 0.0018\n",
            "Epoch 28/200\n",
            "44/44 [==============================] - 1s 16ms/step - loss: 0.0018\n",
            "Epoch 29/200\n",
            "44/44 [==============================] - 1s 15ms/step - loss: 0.0015\n",
            "Epoch 30/200\n",
            "44/44 [==============================] - 1s 16ms/step - loss: 0.0015\n",
            "Epoch 31/200\n",
            "44/44 [==============================] - 1s 16ms/step - loss: 0.0019\n",
            "Epoch 32/200\n",
            "44/44 [==============================] - 1s 15ms/step - loss: 0.0017\n",
            "Epoch 33/200\n",
            "44/44 [==============================] - 1s 15ms/step - loss: 0.0016\n",
            "Epoch 34/200\n",
            "44/44 [==============================] - 1s 15ms/step - loss: 0.0017\n",
            "Epoch 35/200\n",
            "44/44 [==============================] - 1s 15ms/step - loss: 0.0017\n",
            "Epoch 36/200\n",
            "44/44 [==============================] - 1s 15ms/step - loss: 0.0016\n",
            "Epoch 37/200\n",
            "44/44 [==============================] - 1s 16ms/step - loss: 0.0018\n",
            "Epoch 38/200\n",
            "44/44 [==============================] - 1s 16ms/step - loss: 0.0017\n",
            "Epoch 39/200\n",
            "44/44 [==============================] - 1s 14ms/step - loss: 0.0016\n",
            "Epoch 40/200\n",
            "44/44 [==============================] - 1s 16ms/step - loss: 0.0016\n",
            "Epoch 41/200\n",
            "44/44 [==============================] - 1s 15ms/step - loss: 0.0014\n",
            "Epoch 42/200\n",
            "44/44 [==============================] - 1s 15ms/step - loss: 0.0016\n",
            "Epoch 43/200\n",
            "44/44 [==============================] - 1s 15ms/step - loss: 0.0017\n",
            "Epoch 44/200\n",
            "44/44 [==============================] - 1s 15ms/step - loss: 0.0017\n",
            "Epoch 45/200\n",
            "44/44 [==============================] - 1s 15ms/step - loss: 0.0016\n",
            "Epoch 46/200\n",
            "44/44 [==============================] - 1s 15ms/step - loss: 0.0016\n",
            "Epoch 47/200\n",
            "44/44 [==============================] - 1s 15ms/step - loss: 0.0013\n",
            "Epoch 48/200\n",
            "44/44 [==============================] - 1s 16ms/step - loss: 0.0013\n",
            "Epoch 49/200\n",
            "44/44 [==============================] - 1s 15ms/step - loss: 0.0016\n",
            "Epoch 50/200\n",
            "44/44 [==============================] - 1s 15ms/step - loss: 0.0015\n",
            "Epoch 51/200\n",
            "44/44 [==============================] - 1s 15ms/step - loss: 0.0016\n",
            "Epoch 52/200\n",
            "44/44 [==============================] - 1s 15ms/step - loss: 0.0015\n",
            "Epoch 53/200\n",
            "44/44 [==============================] - 1s 14ms/step - loss: 0.0016\n",
            "Epoch 54/200\n",
            "44/44 [==============================] - 1s 15ms/step - loss: 0.0015\n",
            "Epoch 55/200\n",
            "44/44 [==============================] - 1s 15ms/step - loss: 0.0016\n",
            "Epoch 56/200\n",
            "44/44 [==============================] - 1s 14ms/step - loss: 0.0015\n",
            "Epoch 57/200\n",
            "44/44 [==============================] - 1s 15ms/step - loss: 0.0014\n",
            "Epoch 58/200\n",
            "44/44 [==============================] - 1s 14ms/step - loss: 0.0016\n",
            "Epoch 59/200\n",
            "44/44 [==============================] - 1s 15ms/step - loss: 0.0017\n",
            "Epoch 60/200\n",
            "44/44 [==============================] - 1s 14ms/step - loss: 0.0014\n",
            "Epoch 61/200\n",
            "44/44 [==============================] - 1s 15ms/step - loss: 0.0015\n",
            "Epoch 62/200\n",
            "44/44 [==============================] - 1s 15ms/step - loss: 0.0012\n",
            "Epoch 63/200\n",
            "44/44 [==============================] - 1s 14ms/step - loss: 0.0014\n",
            "Epoch 64/200\n",
            "44/44 [==============================] - 1s 15ms/step - loss: 0.0016\n",
            "Epoch 65/200\n",
            "44/44 [==============================] - 1s 14ms/step - loss: 0.0015\n",
            "Epoch 66/200\n",
            "44/44 [==============================] - 1s 15ms/step - loss: 0.0016\n",
            "Epoch 67/200\n",
            "44/44 [==============================] - 1s 15ms/step - loss: 0.0013\n",
            "Epoch 68/200\n",
            "44/44 [==============================] - 1s 14ms/step - loss: 0.0016\n",
            "Epoch 69/200\n",
            "44/44 [==============================] - 1s 15ms/step - loss: 0.0015\n",
            "Epoch 70/200\n",
            "44/44 [==============================] - 1s 15ms/step - loss: 0.0014\n",
            "Epoch 71/200\n",
            "44/44 [==============================] - 1s 14ms/step - loss: 0.0016\n",
            "Epoch 72/200\n",
            "44/44 [==============================] - 1s 15ms/step - loss: 0.0015\n",
            "Epoch 73/200\n",
            "44/44 [==============================] - 1s 14ms/step - loss: 0.0014\n",
            "Epoch 74/200\n",
            "44/44 [==============================] - 1s 14ms/step - loss: 0.0015\n",
            "Epoch 75/200\n",
            "44/44 [==============================] - 1s 15ms/step - loss: 0.0013\n",
            "Epoch 76/200\n",
            "44/44 [==============================] - 1s 15ms/step - loss: 0.0014\n",
            "Epoch 77/200\n",
            "44/44 [==============================] - 1s 15ms/step - loss: 0.0013\n",
            "Epoch 78/200\n",
            "44/44 [==============================] - 1s 15ms/step - loss: 0.0016\n",
            "Epoch 79/200\n",
            "44/44 [==============================] - 1s 15ms/step - loss: 0.0015\n",
            "Epoch 80/200\n",
            "44/44 [==============================] - 1s 15ms/step - loss: 0.0016\n",
            "Epoch 81/200\n",
            "44/44 [==============================] - 1s 15ms/step - loss: 0.0016\n",
            "Epoch 82/200\n",
            "44/44 [==============================] - 1s 15ms/step - loss: 0.0014\n",
            "Epoch 83/200\n",
            "44/44 [==============================] - 1s 15ms/step - loss: 0.0015\n",
            "Epoch 84/200\n",
            "44/44 [==============================] - 1s 15ms/step - loss: 0.0017\n",
            "Epoch 85/200\n",
            "44/44 [==============================] - 1s 15ms/step - loss: 0.0015\n",
            "Epoch 86/200\n",
            "44/44 [==============================] - 1s 15ms/step - loss: 0.0015\n",
            "Epoch 87/200\n",
            "44/44 [==============================] - 1s 15ms/step - loss: 0.0015\n",
            "Epoch 88/200\n",
            "44/44 [==============================] - 1s 15ms/step - loss: 0.0016\n",
            "Epoch 89/200\n",
            "44/44 [==============================] - 1s 15ms/step - loss: 0.0014\n",
            "Epoch 90/200\n",
            "44/44 [==============================] - 1s 15ms/step - loss: 0.0014\n",
            "Epoch 91/200\n",
            "44/44 [==============================] - 1s 16ms/step - loss: 0.0014\n",
            "Epoch 92/200\n",
            "44/44 [==============================] - 1s 15ms/step - loss: 0.0015\n",
            "Epoch 93/200\n",
            "44/44 [==============================] - 1s 15ms/step - loss: 0.0013\n",
            "Epoch 94/200\n",
            "44/44 [==============================] - 1s 15ms/step - loss: 0.0012\n",
            "Epoch 95/200\n",
            "44/44 [==============================] - 1s 14ms/step - loss: 0.0014\n",
            "Epoch 96/200\n",
            "44/44 [==============================] - 1s 15ms/step - loss: 0.0015\n",
            "Epoch 97/200\n",
            "44/44 [==============================] - 1s 15ms/step - loss: 0.0016\n",
            "Epoch 98/200\n",
            "44/44 [==============================] - 1s 14ms/step - loss: 0.0014\n",
            "Epoch 99/200\n",
            "44/44 [==============================] - 1s 16ms/step - loss: 0.0015\n",
            "Epoch 100/200\n",
            "44/44 [==============================] - 1s 15ms/step - loss: 0.0014\n",
            "Epoch 101/200\n",
            "44/44 [==============================] - 1s 15ms/step - loss: 0.0013\n",
            "Epoch 102/200\n",
            "44/44 [==============================] - 1s 16ms/step - loss: 0.0014\n",
            "Epoch 103/200\n",
            "44/44 [==============================] - 1s 15ms/step - loss: 0.0013\n",
            "Epoch 104/200\n",
            "44/44 [==============================] - 1s 15ms/step - loss: 0.0014\n",
            "Epoch 105/200\n",
            "44/44 [==============================] - 1s 15ms/step - loss: 0.0015\n",
            "Epoch 106/200\n",
            "44/44 [==============================] - 1s 15ms/step - loss: 0.0015\n",
            "Epoch 107/200\n",
            "44/44 [==============================] - 1s 15ms/step - loss: 0.0016\n",
            "Epoch 108/200\n",
            "44/44 [==============================] - 1s 15ms/step - loss: 0.0014\n",
            "Epoch 109/200\n",
            "44/44 [==============================] - 1s 15ms/step - loss: 0.0015\n",
            "Epoch 110/200\n",
            "44/44 [==============================] - 1s 15ms/step - loss: 0.0014\n",
            "Epoch 111/200\n",
            "44/44 [==============================] - 1s 16ms/step - loss: 0.0015\n",
            "Epoch 112/200\n",
            "44/44 [==============================] - 1s 14ms/step - loss: 0.0012\n",
            "Epoch 113/200\n",
            "44/44 [==============================] - 1s 15ms/step - loss: 0.0015\n",
            "Epoch 114/200\n",
            "44/44 [==============================] - 1s 15ms/step - loss: 0.0016\n",
            "Epoch 115/200\n",
            "44/44 [==============================] - 1s 15ms/step - loss: 0.0016\n",
            "Epoch 116/200\n",
            "44/44 [==============================] - 1s 15ms/step - loss: 0.0014\n",
            "Epoch 117/200\n",
            "44/44 [==============================] - 1s 15ms/step - loss: 0.0013\n",
            "Epoch 118/200\n",
            "44/44 [==============================] - 1s 15ms/step - loss: 0.0014\n",
            "Epoch 119/200\n",
            "44/44 [==============================] - 1s 15ms/step - loss: 0.0015\n",
            "Epoch 120/200\n",
            "44/44 [==============================] - 1s 16ms/step - loss: 0.0014\n",
            "Epoch 121/200\n",
            "44/44 [==============================] - 1s 15ms/step - loss: 0.0014\n",
            "Epoch 122/200\n",
            "44/44 [==============================] - 1s 15ms/step - loss: 0.0012\n",
            "Epoch 123/200\n",
            "44/44 [==============================] - 1s 15ms/step - loss: 0.0016\n",
            "Epoch 124/200\n",
            "44/44 [==============================] - 1s 15ms/step - loss: 0.0014\n",
            "Epoch 125/200\n",
            "44/44 [==============================] - 1s 15ms/step - loss: 0.0016\n",
            "Epoch 126/200\n",
            "44/44 [==============================] - 1s 14ms/step - loss: 0.0014\n",
            "Epoch 127/200\n",
            "44/44 [==============================] - 1s 14ms/step - loss: 0.0015\n",
            "Epoch 128/200\n",
            "44/44 [==============================] - 1s 15ms/step - loss: 0.0014\n",
            "Epoch 129/200\n",
            "44/44 [==============================] - 1s 16ms/step - loss: 0.0012\n",
            "Epoch 130/200\n",
            "44/44 [==============================] - 1s 15ms/step - loss: 0.0014\n",
            "Epoch 131/200\n",
            "44/44 [==============================] - 1s 15ms/step - loss: 0.0013\n",
            "Epoch 132/200\n",
            "44/44 [==============================] - 1s 16ms/step - loss: 0.0014\n",
            "Epoch 133/200\n",
            "44/44 [==============================] - 1s 15ms/step - loss: 0.0015\n",
            "Epoch 134/200\n",
            "44/44 [==============================] - 1s 14ms/step - loss: 0.0013\n",
            "Epoch 135/200\n",
            "44/44 [==============================] - 1s 15ms/step - loss: 0.0015\n",
            "Epoch 136/200\n",
            "44/44 [==============================] - 1s 15ms/step - loss: 0.0013\n",
            "Epoch 137/200\n",
            "44/44 [==============================] - 1s 15ms/step - loss: 0.0014\n",
            "Epoch 138/200\n",
            "44/44 [==============================] - 1s 15ms/step - loss: 0.0014\n",
            "Epoch 139/200\n",
            "44/44 [==============================] - 1s 15ms/step - loss: 0.0015\n",
            "Epoch 140/200\n",
            "44/44 [==============================] - 1s 16ms/step - loss: 0.0013\n",
            "Epoch 141/200\n",
            "44/44 [==============================] - 1s 15ms/step - loss: 0.0015\n",
            "Epoch 142/200\n",
            "44/44 [==============================] - 1s 16ms/step - loss: 0.0014\n",
            "Epoch 143/200\n",
            "44/44 [==============================] - 1s 15ms/step - loss: 0.0014\n",
            "Epoch 144/200\n",
            "44/44 [==============================] - 1s 16ms/step - loss: 0.0013\n",
            "Epoch 145/200\n",
            "44/44 [==============================] - 1s 15ms/step - loss: 0.0015\n",
            "Epoch 146/200\n",
            "44/44 [==============================] - 1s 15ms/step - loss: 0.0014\n",
            "Epoch 147/200\n",
            "44/44 [==============================] - 1s 15ms/step - loss: 0.0015\n",
            "Epoch 148/200\n",
            "44/44 [==============================] - 1s 15ms/step - loss: 0.0014\n",
            "Epoch 149/200\n",
            "44/44 [==============================] - 1s 14ms/step - loss: 0.0013\n",
            "Epoch 150/200\n",
            "44/44 [==============================] - 1s 15ms/step - loss: 0.0013\n",
            "Epoch 151/200\n",
            "44/44 [==============================] - 1s 14ms/step - loss: 0.0013\n",
            "Epoch 152/200\n",
            "44/44 [==============================] - 1s 15ms/step - loss: 0.0017\n",
            "Epoch 153/200\n",
            "44/44 [==============================] - 1s 15ms/step - loss: 0.0014\n",
            "Epoch 154/200\n",
            "44/44 [==============================] - 1s 15ms/step - loss: 0.0014\n",
            "Epoch 155/200\n",
            "44/44 [==============================] - 1s 15ms/step - loss: 0.0013\n",
            "Epoch 156/200\n",
            "44/44 [==============================] - 1s 15ms/step - loss: 0.0014\n",
            "Epoch 157/200\n",
            "44/44 [==============================] - 1s 15ms/step - loss: 0.0014\n",
            "Epoch 158/200\n",
            "44/44 [==============================] - 1s 15ms/step - loss: 0.0013\n",
            "Epoch 159/200\n",
            "44/44 [==============================] - 1s 15ms/step - loss: 0.0016\n",
            "Epoch 160/200\n",
            "44/44 [==============================] - 1s 15ms/step - loss: 0.0014\n",
            "Epoch 161/200\n",
            "44/44 [==============================] - 1s 15ms/step - loss: 0.0014\n",
            "Epoch 162/200\n",
            "44/44 [==============================] - 1s 15ms/step - loss: 0.0015\n",
            "Epoch 163/200\n",
            "44/44 [==============================] - 1s 16ms/step - loss: 0.0014\n",
            "Epoch 164/200\n",
            "44/44 [==============================] - 1s 15ms/step - loss: 0.0016\n",
            "Epoch 165/200\n",
            "44/44 [==============================] - 1s 15ms/step - loss: 0.0012\n",
            "Epoch 166/200\n",
            "44/44 [==============================] - 1s 15ms/step - loss: 0.0015\n",
            "Epoch 167/200\n",
            "44/44 [==============================] - 1s 15ms/step - loss: 0.0014\n",
            "Epoch 168/200\n",
            "44/44 [==============================] - 1s 15ms/step - loss: 0.0013\n",
            "Epoch 169/200\n",
            "44/44 [==============================] - 1s 15ms/step - loss: 0.0015\n",
            "Epoch 170/200\n",
            "44/44 [==============================] - 1s 15ms/step - loss: 0.0015\n",
            "Epoch 171/200\n",
            "44/44 [==============================] - 1s 15ms/step - loss: 0.0013\n",
            "Epoch 172/200\n",
            "44/44 [==============================] - 1s 16ms/step - loss: 0.0015\n",
            "Epoch 173/200\n",
            "44/44 [==============================] - 1s 16ms/step - loss: 0.0014\n",
            "Epoch 174/200\n",
            "44/44 [==============================] - 1s 15ms/step - loss: 0.0013\n",
            "Epoch 175/200\n",
            "44/44 [==============================] - 1s 15ms/step - loss: 0.0014\n",
            "Epoch 176/200\n",
            "44/44 [==============================] - 1s 15ms/step - loss: 0.0013\n",
            "Epoch 177/200\n",
            "44/44 [==============================] - 1s 15ms/step - loss: 0.0014\n",
            "Epoch 178/200\n",
            "44/44 [==============================] - 1s 15ms/step - loss: 0.0015\n",
            "Epoch 179/200\n",
            "44/44 [==============================] - 1s 15ms/step - loss: 0.0013\n",
            "Epoch 180/200\n",
            "44/44 [==============================] - 1s 15ms/step - loss: 0.0014\n",
            "Epoch 181/200\n",
            "44/44 [==============================] - 1s 16ms/step - loss: 0.0014\n",
            "Epoch 182/200\n",
            "44/44 [==============================] - 1s 15ms/step - loss: 0.0014\n",
            "Epoch 183/200\n",
            "44/44 [==============================] - 1s 15ms/step - loss: 0.0013\n",
            "Epoch 184/200\n",
            "44/44 [==============================] - 1s 15ms/step - loss: 0.0015\n",
            "Epoch 185/200\n",
            "44/44 [==============================] - 1s 15ms/step - loss: 0.0013\n",
            "Epoch 186/200\n",
            "44/44 [==============================] - 1s 15ms/step - loss: 0.0014\n",
            "Epoch 187/200\n",
            "44/44 [==============================] - 1s 15ms/step - loss: 0.0014\n",
            "Epoch 188/200\n",
            "44/44 [==============================] - 1s 16ms/step - loss: 0.0015\n",
            "Epoch 189/200\n",
            "44/44 [==============================] - 1s 15ms/step - loss: 0.0013\n",
            "Epoch 190/200\n",
            "44/44 [==============================] - 1s 16ms/step - loss: 0.0013\n",
            "Epoch 191/200\n",
            "44/44 [==============================] - 1s 15ms/step - loss: 0.0012\n",
            "Epoch 192/200\n",
            "44/44 [==============================] - 1s 15ms/step - loss: 0.0014\n",
            "Epoch 193/200\n",
            "44/44 [==============================] - 1s 15ms/step - loss: 0.0012\n",
            "Epoch 194/200\n",
            "44/44 [==============================] - 1s 15ms/step - loss: 0.0013\n",
            "Epoch 195/200\n",
            "44/44 [==============================] - 1s 15ms/step - loss: 0.0014\n",
            "Epoch 196/200\n",
            "44/44 [==============================] - 1s 15ms/step - loss: 0.0014\n",
            "Epoch 197/200\n",
            "44/44 [==============================] - 1s 15ms/step - loss: 0.0016\n",
            "Epoch 198/200\n",
            "44/44 [==============================] - 1s 15ms/step - loss: 0.0014\n",
            "Epoch 199/200\n",
            "44/44 [==============================] - 1s 15ms/step - loss: 0.0013\n",
            "Epoch 200/200\n",
            "44/44 [==============================] - 1s 15ms/step - loss: 0.0016\n"
          ],
          "name": "stdout"
        },
        {
          "output_type": "execute_result",
          "data": {
            "text/plain": [
              "<tensorflow.python.keras.callbacks.History at 0x7fba04a45a50>"
            ]
          },
          "metadata": {
            "tags": []
          },
          "execution_count": 42
        }
      ]
    },
    {
      "cell_type": "code",
      "metadata": {
        "colab": {
          "base_uri": "https://localhost:8080/",
          "height": 206
        },
        "id": "3CRQaBD6JSV-",
        "outputId": "51fdc306-acd6-499a-b385-9a3e121916d8"
      },
      "source": [
        "train_data_lagged.head()"
      ],
      "execution_count": 43,
      "outputs": [
        {
          "output_type": "execute_result",
          "data": {
            "text/html": [
              "<div>\n",
              "<style scoped>\n",
              "    .dataframe tbody tr th:only-of-type {\n",
              "        vertical-align: middle;\n",
              "    }\n",
              "\n",
              "    .dataframe tbody tr th {\n",
              "        vertical-align: top;\n",
              "    }\n",
              "\n",
              "    .dataframe thead th {\n",
              "        text-align: right;\n",
              "    }\n",
              "</style>\n",
              "<table border=\"1\" class=\"dataframe\">\n",
              "  <thead>\n",
              "    <tr style=\"text-align: right;\">\n",
              "      <th></th>\n",
              "      <th>Scaled_close</th>\n",
              "      <th>lag_1</th>\n",
              "      <th>lag_2</th>\n",
              "      <th>lag_3</th>\n",
              "      <th>lag_4</th>\n",
              "      <th>lag_5</th>\n",
              "      <th>lag_6</th>\n",
              "      <th>lag_7</th>\n",
              "      <th>lag_8</th>\n",
              "      <th>lag_9</th>\n",
              "      <th>lag_10</th>\n",
              "    </tr>\n",
              "  </thead>\n",
              "  <tbody>\n",
              "    <tr>\n",
              "      <th>2014-02-25</th>\n",
              "      <td>-0.115363</td>\n",
              "      <td>-0.362452</td>\n",
              "      <td>-0.384298</td>\n",
              "      <td>-0.406144</td>\n",
              "      <td>-0.427990</td>\n",
              "      <td>-0.424978</td>\n",
              "      <td>-0.557926</td>\n",
              "      <td>-0.476024</td>\n",
              "      <td>-0.487157</td>\n",
              "      <td>-0.498290</td>\n",
              "      <td>-0.509424</td>\n",
              "    </tr>\n",
              "    <tr>\n",
              "      <th>2014-02-26</th>\n",
              "      <td>-0.074656</td>\n",
              "      <td>-0.115363</td>\n",
              "      <td>-0.362452</td>\n",
              "      <td>-0.384298</td>\n",
              "      <td>-0.406144</td>\n",
              "      <td>-0.427990</td>\n",
              "      <td>-0.424978</td>\n",
              "      <td>-0.557926</td>\n",
              "      <td>-0.476024</td>\n",
              "      <td>-0.487157</td>\n",
              "      <td>-0.498290</td>\n",
              "    </tr>\n",
              "    <tr>\n",
              "      <th>2014-02-27</th>\n",
              "      <td>-0.078401</td>\n",
              "      <td>-0.074656</td>\n",
              "      <td>-0.115363</td>\n",
              "      <td>-0.362452</td>\n",
              "      <td>-0.384298</td>\n",
              "      <td>-0.406144</td>\n",
              "      <td>-0.427990</td>\n",
              "      <td>-0.424978</td>\n",
              "      <td>-0.557926</td>\n",
              "      <td>-0.476024</td>\n",
              "      <td>-0.487157</td>\n",
              "    </tr>\n",
              "    <tr>\n",
              "      <th>2014-02-28</th>\n",
              "      <td>-0.141333</td>\n",
              "      <td>-0.078401</td>\n",
              "      <td>-0.074656</td>\n",
              "      <td>-0.115363</td>\n",
              "      <td>-0.362452</td>\n",
              "      <td>-0.384298</td>\n",
              "      <td>-0.406144</td>\n",
              "      <td>-0.427990</td>\n",
              "      <td>-0.424978</td>\n",
              "      <td>-0.557926</td>\n",
              "      <td>-0.476024</td>\n",
              "    </tr>\n",
              "    <tr>\n",
              "      <th>2014-03-01</th>\n",
              "      <td>-0.125729</td>\n",
              "      <td>-0.141333</td>\n",
              "      <td>-0.078401</td>\n",
              "      <td>-0.074656</td>\n",
              "      <td>-0.115363</td>\n",
              "      <td>-0.362452</td>\n",
              "      <td>-0.384298</td>\n",
              "      <td>-0.406144</td>\n",
              "      <td>-0.427990</td>\n",
              "      <td>-0.424978</td>\n",
              "      <td>-0.557926</td>\n",
              "    </tr>\n",
              "  </tbody>\n",
              "</table>\n",
              "</div>"
            ],
            "text/plain": [
              "            Scaled_close     lag_1     lag_2  ...     lag_8     lag_9    lag_10\n",
              "2014-02-25     -0.115363 -0.362452 -0.384298  ... -0.487157 -0.498290 -0.509424\n",
              "2014-02-26     -0.074656 -0.115363 -0.362452  ... -0.476024 -0.487157 -0.498290\n",
              "2014-02-27     -0.078401 -0.074656 -0.115363  ... -0.557926 -0.476024 -0.487157\n",
              "2014-02-28     -0.141333 -0.078401 -0.074656  ... -0.424978 -0.557926 -0.476024\n",
              "2014-03-01     -0.125729 -0.141333 -0.078401  ... -0.427990 -0.424978 -0.557926\n",
              "\n",
              "[5 rows x 11 columns]"
            ]
          },
          "metadata": {
            "tags": []
          },
          "execution_count": 43
        }
      ]
    },
    {
      "cell_type": "code",
      "metadata": {
        "colab": {
          "base_uri": "https://localhost:8080/"
        },
        "id": "-hBxUSosKgaa",
        "outputId": "02e5d2c8-4a95-4aeb-a1d8-e0aab89db094"
      },
      "source": [
        "for i in range(20):\n",
        "  print(model(np.expand_dims(X_data[i],0)).numpy(),y_data[i])"
      ],
      "execution_count": 44,
      "outputs": [
        {
          "output_type": "stream",
          "text": [
            "[[-0.36185965]] -0.1153627592159081\n",
            "[[-0.08952471]] -0.07465609143844576\n",
            "[[-0.06301983]] -0.07840106636363631\n",
            "[[-0.0834146]] -0.14133347785061723\n",
            "[[-0.15866193]] -0.1257292862593129\n",
            "[[-0.1379754]] -0.11012509466800857\n",
            "[[-0.1180139]] -0.09452090307670424\n",
            "[[-0.10063669]] -0.059676036454070935\n",
            "[[-0.06313252]] -0.07742402186269093\n",
            "[[-0.08440562]] -0.07514445840530426\n",
            "[[-0.08191916]] -0.12993566056368433\n",
            "[[-0.14026473]] -0.14993619008080894\n",
            "[[-0.16022407]] -0.16993671959793377\n",
            "[[-0.17867403]] -0.18993724911505838\n",
            "[[-0.19734867]] -0.2260034213638733\n",
            "[[-0.23328024]] -0.16836276488376\n",
            "[[-0.16968334]] -0.19848576736387225\n",
            "[[-0.20113665]] -0.25400959761434705\n",
            "[[-0.2615031]] -0.24584111013084042\n",
            "[[-0.25130814]] -0.23767262264733358\n"
          ],
          "name": "stdout"
        }
      ]
    },
    {
      "cell_type": "code",
      "metadata": {
        "id": "Cb2-oQdbLb26"
      },
      "source": [
        "# test_dates = pd.date_range(start=datetime(year=2015,month=1,day=2),periods=20)\n",
        "# for i in test_dates:\n",
        "  # print(i)"
      ],
      "execution_count": 45,
      "outputs": []
    },
    {
      "cell_type": "code",
      "metadata": {
        "colab": {
          "base_uri": "https://localhost:8080/"
        },
        "id": "jYQJg-JESLjA",
        "outputId": "3867b6a5-04a4-49bf-8ecc-142a331e52fc"
      },
      "source": [
        "test_df = train_data['Scaled_close']['2015-01-01':'2015-01-10']\n",
        "test_df"
      ],
      "execution_count": 46,
      "outputs": [
        {
          "output_type": "execute_result",
          "data": {
            "text/plain": [
              "2015-01-01   -0.336319\n",
              "2015-01-02   -0.348938\n",
              "2015-01-03   -0.373959\n",
              "2015-01-04   -0.398980\n",
              "2015-01-05   -0.424001\n",
              "2015-01-06   -0.414312\n",
              "2015-01-07   -0.416999\n",
              "2015-01-08   -0.419686\n",
              "2015-01-09   -0.451925\n",
              "2015-01-10   -0.464002\n",
              "Freq: D, Name: Scaled_close, dtype: float64"
            ]
          },
          "metadata": {
            "tags": []
          },
          "execution_count": 46
        }
      ]
    },
    {
      "cell_type": "code",
      "metadata": {
        "colab": {
          "base_uri": "https://localhost:8080/"
        },
        "id": "7HQiXMjxrDkn",
        "outputId": "4fa99b9c-334a-4863-9997-c1cc2a73651b"
      },
      "source": [
        "test_input = np.array(test_df)\n",
        "test_input"
      ],
      "execution_count": 47,
      "outputs": [
        {
          "output_type": "execute_result",
          "data": {
            "text/plain": [
              "array([-0.33631853, -0.34893758, -0.37395858, -0.39897958, -0.42400059,\n",
              "       -0.41431244, -0.41699916, -0.41968572, -0.4519254 , -0.4640017 ])"
            ]
          },
          "metadata": {
            "tags": []
          },
          "execution_count": 47
        }
      ]
    },
    {
      "cell_type": "code",
      "metadata": {
        "colab": {
          "base_uri": "https://localhost:8080/"
        },
        "id": "2KkwijwwU6rv",
        "outputId": "0009ebfb-4fbc-4ba7-a2ea-97b5fa29ff16"
      },
      "source": [
        "test_start_date = test_df.index.min()\n",
        "test_start_date"
      ],
      "execution_count": 48,
      "outputs": [
        {
          "output_type": "execute_result",
          "data": {
            "text/plain": [
              "Timestamp('2015-01-01 00:00:00', freq='D')"
            ]
          },
          "metadata": {
            "tags": []
          },
          "execution_count": 48
        }
      ]
    },
    {
      "cell_type": "code",
      "metadata": {
        "id": "mkaf15KTVVs_"
      },
      "source": [
        "def predict(model, input_array, future_steps):\n",
        "  seq_length = len(input_array)\n",
        "  prediction = input_array\n",
        "  for i in range(future_steps):\n",
        "    input_seq = prediction[-seq_length:]\n",
        "    model_output = model(np.expand_dims(np.expand_dims(input_seq,1),0)).numpy()[0]\n",
        "    prediction = np.append(prediction, model_output)\n",
        "  return prediction\n"
      ],
      "execution_count": 49,
      "outputs": []
    },
    {
      "cell_type": "code",
      "metadata": {
        "colab": {
          "base_uri": "https://localhost:8080/",
          "height": 424
        },
        "id": "65oPTdzIvNR3",
        "outputId": "e3a3b11d-f9b0-4eaa-b754-8773c5e675f7"
      },
      "source": [
        "pred = scaler.inverse_transform(np.expand_dims(predict(model, test_input, 100),0))[0]\n",
        "pred_date_range = pd.date_range(test_start_date,periods=len(pred))\n",
        "pred_df = pd.DataFrame(data={'Predictions':pred}, index=pred_date_range)\n",
        "pred_df"
      ],
      "execution_count": 53,
      "outputs": [
        {
          "output_type": "execute_result",
          "data": {
            "text/html": [
              "<div>\n",
              "<style scoped>\n",
              "    .dataframe tbody tr th:only-of-type {\n",
              "        vertical-align: middle;\n",
              "    }\n",
              "\n",
              "    .dataframe tbody tr th {\n",
              "        vertical-align: top;\n",
              "    }\n",
              "\n",
              "    .dataframe thead th {\n",
              "        text-align: right;\n",
              "    }\n",
              "</style>\n",
              "<table border=\"1\" class=\"dataframe\">\n",
              "  <thead>\n",
              "    <tr style=\"text-align: right;\">\n",
              "      <th></th>\n",
              "      <th>Predictions</th>\n",
              "    </tr>\n",
              "  </thead>\n",
              "  <tbody>\n",
              "    <tr>\n",
              "      <th>2015-01-01</th>\n",
              "      <td>44.171999</td>\n",
              "    </tr>\n",
              "    <tr>\n",
              "      <th>2015-01-02</th>\n",
              "      <td>43.862000</td>\n",
              "    </tr>\n",
              "    <tr>\n",
              "      <th>2015-01-03</th>\n",
              "      <td>43.247334</td>\n",
              "    </tr>\n",
              "    <tr>\n",
              "      <th>2015-01-04</th>\n",
              "      <td>42.632668</td>\n",
              "    </tr>\n",
              "    <tr>\n",
              "      <th>2015-01-05</th>\n",
              "      <td>42.018002</td>\n",
              "    </tr>\n",
              "    <tr>\n",
              "      <th>...</th>\n",
              "      <td>...</td>\n",
              "    </tr>\n",
              "    <tr>\n",
              "      <th>2015-04-16</th>\n",
              "      <td>41.336956</td>\n",
              "    </tr>\n",
              "    <tr>\n",
              "      <th>2015-04-17</th>\n",
              "      <td>41.337948</td>\n",
              "    </tr>\n",
              "    <tr>\n",
              "      <th>2015-04-18</th>\n",
              "      <td>41.338924</td>\n",
              "    </tr>\n",
              "    <tr>\n",
              "      <th>2015-04-19</th>\n",
              "      <td>41.339883</td>\n",
              "    </tr>\n",
              "    <tr>\n",
              "      <th>2015-04-20</th>\n",
              "      <td>41.340823</td>\n",
              "    </tr>\n",
              "  </tbody>\n",
              "</table>\n",
              "<p>110 rows × 1 columns</p>\n",
              "</div>"
            ],
            "text/plain": [
              "            Predictions\n",
              "2015-01-01    44.171999\n",
              "2015-01-02    43.862000\n",
              "2015-01-03    43.247334\n",
              "2015-01-04    42.632668\n",
              "2015-01-05    42.018002\n",
              "...                 ...\n",
              "2015-04-16    41.336956\n",
              "2015-04-17    41.337948\n",
              "2015-04-18    41.338924\n",
              "2015-04-19    41.339883\n",
              "2015-04-20    41.340823\n",
              "\n",
              "[110 rows x 1 columns]"
            ]
          },
          "metadata": {
            "tags": []
          },
          "execution_count": 53
        }
      ]
    },
    {
      "cell_type": "code",
      "metadata": {
        "colab": {
          "base_uri": "https://localhost:8080/",
          "height": 283
        },
        "id": "sZTTJqEjvyyH",
        "outputId": "8fe9b39b-8a61-4a89-ee3c-6ee360f8affe"
      },
      "source": [
        "plt.plot(pred_df)\n",
        "plt.plot(df['2014':'2016'])"
      ],
      "execution_count": 54,
      "outputs": [
        {
          "output_type": "execute_result",
          "data": {
            "text/plain": [
              "[<matplotlib.lines.Line2D at 0x7fba0468bd50>]"
            ]
          },
          "metadata": {
            "tags": []
          },
          "execution_count": 54
        },
        {
          "output_type": "display_data",
          "data": {
            "image/png": "[encoded data removed]",
            "text/plain": [
              "<Figure size 432x288 with 1 Axes>"
            ]
          },
          "metadata": {
            "tags": []
          }
        }
      ]
    },
    {
      "cell_type": "code",
      "metadata": {
        "colab": {
          "base_uri": "https://localhost:8080/",
          "height": 283
        },
        "id": "Y3G0WJC00bJj",
        "outputId": "de89cc7a-fdf5-43e1-c6c8-f638f986aeb5"
      },
      "source": [
        "def predictEveryNPeriods(model, data, N, input_length, future_steps, scaler):\n",
        "  timestep = data.index.min()\n",
        "  while timestep<data.index.max() - timedelta(days=input_length):\n",
        "    input_seq = data[timestep:timestep+timedelta(days=input_length)]\n",
        "    pred = scaler.inverse_transform(np.expand_dims(predict(model, input_seq, future_steps=future_steps),0))[0]\n",
        "    pred_date_range = pd.date_range(timestep,periods=len(pred))\n",
        "    pred_df = pd.DataFrame(data={'Predictions':pred}, index=pred_date_range)\n",
        "    plt.plot(pred_df)\n",
        "\n",
        "    timestep += timedelta(days=N)\n",
        "  pass\n",
        "\n",
        "\n",
        "predictEveryNPeriods(model, train_data['Scaled_close'],100,input_length,100, scaler)\n",
        "plt.plot(df['2014':'2018'])"
      ],
      "execution_count": 61,
      "outputs": [
        {
          "output_type": "execute_result",
          "data": {
            "text/plain": [
              "[<matplotlib.lines.Line2D at 0x7fba160f3290>]"
            ]
          },
          "metadata": {
            "tags": []
          },
          "execution_count": 61
        },
        {
          "output_type": "display_data",
          "data": {
            "image/png": "[encoded data removed]",
            "text/plain": [
              "<Figure size 432x288 with 1 Axes>"
            ]
          },
          "metadata": {
            "tags": []
          }
        }
      ]
    }
  ]
}