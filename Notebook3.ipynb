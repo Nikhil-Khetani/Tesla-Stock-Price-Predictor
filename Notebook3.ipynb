{
  "nbformat": 4,
  "nbformat_minor": 0,
  "metadata": {
    "orig_nbformat": 2,
    "kernelspec": {
      "name": "python383jvsc74a57bd01ac84e56b93d5159a59e30071584351c46219097ffd3c74f7197133884cbbc55",
      "display_name": "Python 3.8.3 64-bit"
    },
    "metadata": {
      "interpreter": {
        "hash": "ddec2621c09c2d962b6aab7d66f58bee0f37e4a1fc33df0e38a1135b5b618ec9"
      }
    },
    "colab": {
      "name": "Notebook3.ipynb",
      "provenance": [],
      "include_colab_link": true
    },
    "language_info": {
      "name": "python",
      "version": "3.8.3"
    },
    "accelerator": "GPU"
  },
  "cells": [
    {
      "cell_type": "markdown",
      "metadata": {
        "id": "view-in-github",
        "colab_type": "text"
      },
      "source": [
        "<a href=\"https://colab.research.google.com/github/Nikhil-Khetani/Tesla-Stock-Price-Predictor/blob/main/Notebook3.ipynb\" target=\"_parent\"><img src=\"https://colab.research.google.com/assets/colab-badge.svg\" alt=\"Open In Colab\"/></a>"
      ]
    },
    {
      "cell_type": "code",
      "metadata": {
        "colab": {
          "base_uri": "https://localhost:8080/",
          "height": 206
        },
        "id": "lkn58yljPMB2",
        "outputId": "3690b145-da6a-4c4f-edb5-7dfbe6e35de5"
      },
      "source": [
        "from datetime import datetime, timedelta\n",
        "import matplotlib.pyplot as plt\n",
        "from matplotlib import style\n",
        "import matplotlib.dates as mdates\n",
        "import pandas as pd\n",
        "import pandas_datareader.data as web\n",
        "import numpy as np\n",
        "from sklearn.preprocessing import MinMaxScaler\n",
        "\n",
        "\n",
        "style.use('ggplot')\n",
        "\n",
        "num_epochs = 100\n",
        "input_length = 10\n",
        "batch_size = 16\n",
        "\n",
        "\n",
        "start = datetime(2011, 1, 1)\n",
        "end = datetime(2021, 1, 1)\n",
        "\n",
        "df = web.DataReader('TSLA', 'yahoo', start, end).reset_index(level=0)\n",
        "'''\n",
        "df.to_csv('tsla.csv')\n",
        "\n",
        "df = pd.read_csv('tsla.csv', index_col=0).reset_index()\n",
        "'''\n",
        "df.head()\n"
      ],
      "execution_count": 1,
      "outputs": [
        {
          "output_type": "execute_result",
          "data": {
            "text/html": [
              "<div>\n",
              "<style scoped>\n",
              "    .dataframe tbody tr th:only-of-type {\n",
              "        vertical-align: middle;\n",
              "    }\n",
              "\n",
              "    .dataframe tbody tr th {\n",
              "        vertical-align: top;\n",
              "    }\n",
              "\n",
              "    .dataframe thead th {\n",
              "        text-align: right;\n",
              "    }\n",
              "</style>\n",
              "<table border=\"1\" class=\"dataframe\">\n",
              "  <thead>\n",
              "    <tr style=\"text-align: right;\">\n",
              "      <th></th>\n",
              "      <th>Date</th>\n",
              "      <th>High</th>\n",
              "      <th>Low</th>\n",
              "      <th>Open</th>\n",
              "      <th>Close</th>\n",
              "      <th>Volume</th>\n",
              "      <th>Adj Close</th>\n",
              "    </tr>\n",
              "  </thead>\n",
              "  <tbody>\n",
              "    <tr>\n",
              "      <th>0</th>\n",
              "      <td>2011-01-03</td>\n",
              "      <td>5.400</td>\n",
              "      <td>5.180</td>\n",
              "      <td>5.368</td>\n",
              "      <td>5.324</td>\n",
              "      <td>6415000.0</td>\n",
              "      <td>5.324</td>\n",
              "    </tr>\n",
              "    <tr>\n",
              "      <th>1</th>\n",
              "      <td>2011-01-04</td>\n",
              "      <td>5.390</td>\n",
              "      <td>5.204</td>\n",
              "      <td>5.332</td>\n",
              "      <td>5.334</td>\n",
              "      <td>5937000.0</td>\n",
              "      <td>5.334</td>\n",
              "    </tr>\n",
              "    <tr>\n",
              "      <th>2</th>\n",
              "      <td>2011-01-05</td>\n",
              "      <td>5.380</td>\n",
              "      <td>5.238</td>\n",
              "      <td>5.296</td>\n",
              "      <td>5.366</td>\n",
              "      <td>7233500.0</td>\n",
              "      <td>5.366</td>\n",
              "    </tr>\n",
              "    <tr>\n",
              "      <th>3</th>\n",
              "      <td>2011-01-06</td>\n",
              "      <td>5.600</td>\n",
              "      <td>5.362</td>\n",
              "      <td>5.366</td>\n",
              "      <td>5.576</td>\n",
              "      <td>10306000.0</td>\n",
              "      <td>5.576</td>\n",
              "    </tr>\n",
              "    <tr>\n",
              "      <th>4</th>\n",
              "      <td>2011-01-07</td>\n",
              "      <td>5.716</td>\n",
              "      <td>5.580</td>\n",
              "      <td>5.600</td>\n",
              "      <td>5.648</td>\n",
              "      <td>11239500.0</td>\n",
              "      <td>5.648</td>\n",
              "    </tr>\n",
              "  </tbody>\n",
              "</table>\n",
              "</div>"
            ],
            "text/plain": [
              "        Date   High    Low   Open  Close      Volume  Adj Close\n",
              "0 2011-01-03  5.400  5.180  5.368  5.324   6415000.0      5.324\n",
              "1 2011-01-04  5.390  5.204  5.332  5.334   5937000.0      5.334\n",
              "2 2011-01-05  5.380  5.238  5.296  5.366   7233500.0      5.366\n",
              "3 2011-01-06  5.600  5.362  5.366  5.576  10306000.0      5.576\n",
              "4 2011-01-07  5.716  5.580  5.600  5.648  11239500.0      5.648"
            ]
          },
          "metadata": {
            "tags": []
          },
          "execution_count": 1
        }
      ]
    },
    {
      "cell_type": "code",
      "metadata": {
        "colab": {
          "base_uri": "https://localhost:8080/",
          "height": 206
        },
        "id": "upvHql2UPMCI",
        "outputId": "f0e21d50-ec9f-49d7-cea3-af87bbfcae72"
      },
      "source": [
        "df = pd.DataFrame(df[['Date','Adj Close']])\n",
        "df['Date']=pd.to_datetime(df['Date'])\n",
        "df.head()"
      ],
      "execution_count": 2,
      "outputs": [
        {
          "output_type": "execute_result",
          "data": {
            "text/html": [
              "<div>\n",
              "<style scoped>\n",
              "    .dataframe tbody tr th:only-of-type {\n",
              "        vertical-align: middle;\n",
              "    }\n",
              "\n",
              "    .dataframe tbody tr th {\n",
              "        vertical-align: top;\n",
              "    }\n",
              "\n",
              "    .dataframe thead th {\n",
              "        text-align: right;\n",
              "    }\n",
              "</style>\n",
              "<table border=\"1\" class=\"dataframe\">\n",
              "  <thead>\n",
              "    <tr style=\"text-align: right;\">\n",
              "      <th></th>\n",
              "      <th>Date</th>\n",
              "      <th>Adj Close</th>\n",
              "    </tr>\n",
              "  </thead>\n",
              "  <tbody>\n",
              "    <tr>\n",
              "      <th>0</th>\n",
              "      <td>2011-01-03</td>\n",
              "      <td>5.324</td>\n",
              "    </tr>\n",
              "    <tr>\n",
              "      <th>1</th>\n",
              "      <td>2011-01-04</td>\n",
              "      <td>5.334</td>\n",
              "    </tr>\n",
              "    <tr>\n",
              "      <th>2</th>\n",
              "      <td>2011-01-05</td>\n",
              "      <td>5.366</td>\n",
              "    </tr>\n",
              "    <tr>\n",
              "      <th>3</th>\n",
              "      <td>2011-01-06</td>\n",
              "      <td>5.576</td>\n",
              "    </tr>\n",
              "    <tr>\n",
              "      <th>4</th>\n",
              "      <td>2011-01-07</td>\n",
              "      <td>5.648</td>\n",
              "    </tr>\n",
              "  </tbody>\n",
              "</table>\n",
              "</div>"
            ],
            "text/plain": [
              "        Date  Adj Close\n",
              "0 2011-01-03      5.324\n",
              "1 2011-01-04      5.334\n",
              "2 2011-01-05      5.366\n",
              "3 2011-01-06      5.576\n",
              "4 2011-01-07      5.648"
            ]
          },
          "metadata": {
            "tags": []
          },
          "execution_count": 2
        }
      ]
    },
    {
      "cell_type": "code",
      "metadata": {
        "colab": {
          "base_uri": "https://localhost:8080/"
        },
        "id": "DPqahjicPMCK",
        "outputId": "8fa08a59-8a33-4226-bfdc-0096baa77a38"
      },
      "source": [
        "df.info()"
      ],
      "execution_count": 3,
      "outputs": [
        {
          "output_type": "stream",
          "text": [
            "<class 'pandas.core.frame.DataFrame'>\n",
            "RangeIndex: 2517 entries, 0 to 2516\n",
            "Data columns (total 2 columns):\n",
            " #   Column     Non-Null Count  Dtype         \n",
            "---  ------     --------------  -----         \n",
            " 0   Date       2517 non-null   datetime64[ns]\n",
            " 1   Adj Close  2517 non-null   float64       \n",
            "dtypes: datetime64[ns](1), float64(1)\n",
            "memory usage: 39.5 KB\n"
          ],
          "name": "stdout"
        }
      ]
    },
    {
      "cell_type": "code",
      "metadata": {
        "id": "IOUcpoJNPMCM"
      },
      "source": [
        "df.set_index('Date', inplace=True)"
      ],
      "execution_count": 4,
      "outputs": []
    },
    {
      "cell_type": "code",
      "metadata": {
        "colab": {
          "base_uri": "https://localhost:8080/",
          "height": 238
        },
        "id": "vhHpIk8hPMCN",
        "outputId": "b2ebc2fc-ec97-47c2-8d4f-758d7791c676"
      },
      "source": [
        "df['2015'].head()"
      ],
      "execution_count": 5,
      "outputs": [
        {
          "output_type": "execute_result",
          "data": {
            "text/html": [
              "<div>\n",
              "<style scoped>\n",
              "    .dataframe tbody tr th:only-of-type {\n",
              "        vertical-align: middle;\n",
              "    }\n",
              "\n",
              "    .dataframe tbody tr th {\n",
              "        vertical-align: top;\n",
              "    }\n",
              "\n",
              "    .dataframe thead th {\n",
              "        text-align: right;\n",
              "    }\n",
              "</style>\n",
              "<table border=\"1\" class=\"dataframe\">\n",
              "  <thead>\n",
              "    <tr style=\"text-align: right;\">\n",
              "      <th></th>\n",
              "      <th>Adj Close</th>\n",
              "    </tr>\n",
              "    <tr>\n",
              "      <th>Date</th>\n",
              "      <th></th>\n",
              "    </tr>\n",
              "  </thead>\n",
              "  <tbody>\n",
              "    <tr>\n",
              "      <th>2015-01-02</th>\n",
              "      <td>43.862000</td>\n",
              "    </tr>\n",
              "    <tr>\n",
              "      <th>2015-01-05</th>\n",
              "      <td>42.018002</td>\n",
              "    </tr>\n",
              "    <tr>\n",
              "      <th>2015-01-06</th>\n",
              "      <td>42.256001</td>\n",
              "    </tr>\n",
              "    <tr>\n",
              "      <th>2015-01-07</th>\n",
              "      <td>42.189999</td>\n",
              "    </tr>\n",
              "    <tr>\n",
              "      <th>2015-01-08</th>\n",
              "      <td>42.124001</td>\n",
              "    </tr>\n",
              "  </tbody>\n",
              "</table>\n",
              "</div>"
            ],
            "text/plain": [
              "            Adj Close\n",
              "Date                 \n",
              "2015-01-02  43.862000\n",
              "2015-01-05  42.018002\n",
              "2015-01-06  42.256001\n",
              "2015-01-07  42.189999\n",
              "2015-01-08  42.124001"
            ]
          },
          "metadata": {
            "tags": []
          },
          "execution_count": 5
        }
      ]
    },
    {
      "cell_type": "code",
      "metadata": {
        "colab": {
          "base_uri": "https://localhost:8080/"
        },
        "id": "vHjEwcslPMCO",
        "outputId": "9806254c-764d-4bdd-c211-102f1b5244ba"
      },
      "source": [
        "date_range = df.index.max()-df.index.min()\n",
        "print(date_range)"
      ],
      "execution_count": 6,
      "outputs": [
        {
          "output_type": "stream",
          "text": [
            "3650 days 00:00:00\n"
          ],
          "name": "stdout"
        }
      ]
    },
    {
      "cell_type": "code",
      "metadata": {
        "id": "SUUe9OtSPMCP"
      },
      "source": [
        "new_index = pd.date_range(df.index.min(),df.index.max())\n",
        "df = df.reindex(new_index)"
      ],
      "execution_count": 7,
      "outputs": []
    },
    {
      "cell_type": "code",
      "metadata": {
        "colab": {
          "base_uri": "https://localhost:8080/"
        },
        "id": "IX_FLUVCPMCQ",
        "outputId": "08621b4f-b977-4f7d-890e-be8aa829a1ba"
      },
      "source": [
        "df['Adj Close'].value_counts(dropna=False)"
      ],
      "execution_count": 8,
      "outputs": [
        {
          "output_type": "execute_result",
          "data": {
            "text/plain": [
              "NaN          1134\n",
              "5.484000        4\n",
              "42.018002       3\n",
              "5.424000        3\n",
              "6.492000        3\n",
              "             ... \n",
              "56.366001       1\n",
              "48.292000       1\n",
              "42.888000       1\n",
              "39.209999       1\n",
              "49.548000       1\n",
              "Name: Adj Close, Length: 2354, dtype: int64"
            ]
          },
          "metadata": {
            "tags": []
          },
          "execution_count": 8
        }
      ]
    },
    {
      "cell_type": "code",
      "metadata": {
        "id": "5lX-QDTzPMCR"
      },
      "source": [
        "df['Adj Close'].interpolate(method='linear', inplace=True)"
      ],
      "execution_count": 9,
      "outputs": []
    },
    {
      "cell_type": "code",
      "metadata": {
        "colab": {
          "base_uri": "https://localhost:8080/"
        },
        "id": "GEIUv-EePMCS",
        "outputId": "7d8aef22-1c77-4f01-e656-cb0cceb48f35"
      },
      "source": [
        "df['Adj Close'].value_counts(dropna=False)\n"
      ],
      "execution_count": 10,
      "outputs": [
        {
          "output_type": "execute_result",
          "data": {
            "text/plain": [
              "5.484000     4\n",
              "5.634000     3\n",
              "6.492000     3\n",
              "5.320000     3\n",
              "42.018002    3\n",
              "            ..\n",
              "45.557999    1\n",
              "4.748500     1\n",
              "34.335499    1\n",
              "25.804000    1\n",
              "6.750000     1\n",
              "Name: Adj Close, Length: 3471, dtype: int64"
            ]
          },
          "metadata": {
            "tags": []
          },
          "execution_count": 10
        }
      ]
    },
    {
      "cell_type": "code",
      "metadata": {
        "colab": {
          "base_uri": "https://localhost:8080/",
          "height": 283
        },
        "id": "NKaSA7q9PMCT",
        "outputId": "e1d4d77f-09e0-4e06-99fb-6ed9ac9d52d4"
      },
      "source": [
        "plt.plot(df)"
      ],
      "execution_count": 11,
      "outputs": [
        {
          "output_type": "execute_result",
          "data": {
            "text/plain": [
              "[<matplotlib.lines.Line2D at 0x7fa484524690>]"
            ]
          },
          "metadata": {
            "tags": []
          },
          "execution_count": 11
        },
        {
          "output_type": "display_data",
          "data": {
            "image/png": "[encoded data removed]",
            "text/plain": [
              "<Figure size 432x288 with 1 Axes>"
            ]
          },
          "metadata": {
            "tags": [],
            "needs_background": "light"
          }
        }
      ]
    },
    {
      "cell_type": "code",
      "metadata": {
        "colab": {
          "base_uri": "https://localhost:8080/",
          "height": 283
        },
        "id": "Sy1qtE9fPMCV",
        "outputId": "288797c6-dcb9-46e6-9777-30b9a1ad736b"
      },
      "source": [
        "train_data = pd.DataFrame(df['2014':'2017'])\n",
        "test_data = df['2018':'2019']\n",
        "\n",
        "plt.plot(train_data)\n",
        "plt.plot(test_data)"
      ],
      "execution_count": 12,
      "outputs": [
        {
          "output_type": "execute_result",
          "data": {
            "text/plain": [
              "[<matplotlib.lines.Line2D at 0x7fa4847610d0>]"
            ]
          },
          "metadata": {
            "tags": []
          },
          "execution_count": 12
        },
        {
          "output_type": "display_data",
          "data": {
            "image/png": "[encoded data removed]",
            "text/plain": [
              "<Figure size 432x288 with 1 Axes>"
            ]
          },
          "metadata": {
            "tags": [],
            "needs_background": "light"
          }
        }
      ]
    },
    {
      "cell_type": "code",
      "metadata": {
        "id": "DaH5qVQXPMCW"
      },
      "source": [
        "scaler = MinMaxScaler(feature_range=(-1,1))\n",
        "train_data_scaled = scaler.fit_transform(train_data)"
      ],
      "execution_count": 13,
      "outputs": []
    },
    {
      "cell_type": "code",
      "metadata": {
        "colab": {
          "base_uri": "https://localhost:8080/",
          "height": 424
        },
        "id": "CxAp3KtdPMCX",
        "outputId": "a100dd1c-816c-42d7-9209-408937ac5771"
      },
      "source": [
        "train_data['Scaled_close'] = train_data_scaled\n",
        "train_data = pd.DataFrame(train_data['Scaled_close'])\n",
        "train_data"
      ],
      "execution_count": 14,
      "outputs": [
        {
          "output_type": "execute_result",
          "data": {
            "text/html": [
              "<div>\n",
              "<style scoped>\n",
              "    .dataframe tbody tr th:only-of-type {\n",
              "        vertical-align: middle;\n",
              "    }\n",
              "\n",
              "    .dataframe tbody tr th {\n",
              "        vertical-align: top;\n",
              "    }\n",
              "\n",
              "    .dataframe thead th {\n",
              "        text-align: right;\n",
              "    }\n",
              "</style>\n",
              "<table border=\"1\" class=\"dataframe\">\n",
              "  <thead>\n",
              "    <tr style=\"text-align: right;\">\n",
              "      <th></th>\n",
              "      <th>Scaled_close</th>\n",
              "    </tr>\n",
              "  </thead>\n",
              "  <tbody>\n",
              "    <tr>\n",
              "      <th>2014-01-01</th>\n",
              "      <td>-0.911056</td>\n",
              "    </tr>\n",
              "    <tr>\n",
              "      <th>2014-01-02</th>\n",
              "      <td>-0.912399</td>\n",
              "    </tr>\n",
              "    <tr>\n",
              "      <th>2014-01-03</th>\n",
              "      <td>-0.916796</td>\n",
              "    </tr>\n",
              "    <tr>\n",
              "      <th>2014-01-04</th>\n",
              "      <td>-0.923743</td>\n",
              "    </tr>\n",
              "    <tr>\n",
              "      <th>2014-01-05</th>\n",
              "      <td>-0.930690</td>\n",
              "    </tr>\n",
              "    <tr>\n",
              "      <th>...</th>\n",
              "      <td>...</td>\n",
              "    </tr>\n",
              "    <tr>\n",
              "      <th>2017-12-27</th>\n",
              "      <td>0.402752</td>\n",
              "    </tr>\n",
              "    <tr>\n",
              "      <th>2017-12-28</th>\n",
              "      <td>0.433037</td>\n",
              "    </tr>\n",
              "    <tr>\n",
              "      <th>2017-12-29</th>\n",
              "      <td>0.400391</td>\n",
              "    </tr>\n",
              "    <tr>\n",
              "      <th>2017-12-30</th>\n",
              "      <td>0.419075</td>\n",
              "    </tr>\n",
              "    <tr>\n",
              "      <th>2017-12-31</th>\n",
              "      <td>0.437760</td>\n",
              "    </tr>\n",
              "  </tbody>\n",
              "</table>\n",
              "<p>1461 rows × 1 columns</p>\n",
              "</div>"
            ],
            "text/plain": [
              "            Scaled_close\n",
              "2014-01-01     -0.911056\n",
              "2014-01-02     -0.912399\n",
              "2014-01-03     -0.916796\n",
              "2014-01-04     -0.923743\n",
              "2014-01-05     -0.930690\n",
              "...                  ...\n",
              "2017-12-27      0.402752\n",
              "2017-12-28      0.433037\n",
              "2017-12-29      0.400391\n",
              "2017-12-30      0.419075\n",
              "2017-12-31      0.437760\n",
              "\n",
              "[1461 rows x 1 columns]"
            ]
          },
          "metadata": {
            "tags": []
          },
          "execution_count": 14
        }
      ]
    },
    {
      "cell_type": "code",
      "metadata": {
        "colab": {
          "base_uri": "https://localhost:8080/",
          "height": 424
        },
        "id": "9paEEfei_JrA",
        "outputId": "46133015-f297-4128-9f7a-89e85f847f3a"
      },
      "source": [
        "train_data_lagged=train_data\n",
        "for lag in range(1, input_length + 1):\n",
        "            train_data_lagged['lag_' + str(lag)] = train_data_lagged[train_data_lagged.columns[0]].shift(lag)\n",
        "            train_data_lagged.dropna(inplace=True)\n",
        "train_data_lagged"
      ],
      "execution_count": 15,
      "outputs": [
        {
          "output_type": "execute_result",
          "data": {
            "text/html": [
              "<div>\n",
              "<style scoped>\n",
              "    .dataframe tbody tr th:only-of-type {\n",
              "        vertical-align: middle;\n",
              "    }\n",
              "\n",
              "    .dataframe tbody tr th {\n",
              "        vertical-align: top;\n",
              "    }\n",
              "\n",
              "    .dataframe thead th {\n",
              "        text-align: right;\n",
              "    }\n",
              "</style>\n",
              "<table border=\"1\" class=\"dataframe\">\n",
              "  <thead>\n",
              "    <tr style=\"text-align: right;\">\n",
              "      <th></th>\n",
              "      <th>Scaled_close</th>\n",
              "      <th>lag_1</th>\n",
              "      <th>lag_2</th>\n",
              "      <th>lag_3</th>\n",
              "      <th>lag_4</th>\n",
              "      <th>lag_5</th>\n",
              "      <th>lag_6</th>\n",
              "      <th>lag_7</th>\n",
              "      <th>lag_8</th>\n",
              "      <th>lag_9</th>\n",
              "      <th>lag_10</th>\n",
              "    </tr>\n",
              "  </thead>\n",
              "  <tbody>\n",
              "    <tr>\n",
              "      <th>2014-02-25</th>\n",
              "      <td>-0.115363</td>\n",
              "      <td>-0.362452</td>\n",
              "      <td>-0.384298</td>\n",
              "      <td>-0.406144</td>\n",
              "      <td>-0.427990</td>\n",
              "      <td>-0.424978</td>\n",
              "      <td>-0.557926</td>\n",
              "      <td>-0.476024</td>\n",
              "      <td>-0.487157</td>\n",
              "      <td>-0.498290</td>\n",
              "      <td>-0.509424</td>\n",
              "    </tr>\n",
              "    <tr>\n",
              "      <th>2014-02-26</th>\n",
              "      <td>-0.074656</td>\n",
              "      <td>-0.115363</td>\n",
              "      <td>-0.362452</td>\n",
              "      <td>-0.384298</td>\n",
              "      <td>-0.406144</td>\n",
              "      <td>-0.427990</td>\n",
              "      <td>-0.424978</td>\n",
              "      <td>-0.557926</td>\n",
              "      <td>-0.476024</td>\n",
              "      <td>-0.487157</td>\n",
              "      <td>-0.498290</td>\n",
              "    </tr>\n",
              "    <tr>\n",
              "      <th>2014-02-27</th>\n",
              "      <td>-0.078401</td>\n",
              "      <td>-0.074656</td>\n",
              "      <td>-0.115363</td>\n",
              "      <td>-0.362452</td>\n",
              "      <td>-0.384298</td>\n",
              "      <td>-0.406144</td>\n",
              "      <td>-0.427990</td>\n",
              "      <td>-0.424978</td>\n",
              "      <td>-0.557926</td>\n",
              "      <td>-0.476024</td>\n",
              "      <td>-0.487157</td>\n",
              "    </tr>\n",
              "    <tr>\n",
              "      <th>2014-02-28</th>\n",
              "      <td>-0.141333</td>\n",
              "      <td>-0.078401</td>\n",
              "      <td>-0.074656</td>\n",
              "      <td>-0.115363</td>\n",
              "      <td>-0.362452</td>\n",
              "      <td>-0.384298</td>\n",
              "      <td>-0.406144</td>\n",
              "      <td>-0.427990</td>\n",
              "      <td>-0.424978</td>\n",
              "      <td>-0.557926</td>\n",
              "      <td>-0.476024</td>\n",
              "    </tr>\n",
              "    <tr>\n",
              "      <th>2014-03-01</th>\n",
              "      <td>-0.125729</td>\n",
              "      <td>-0.141333</td>\n",
              "      <td>-0.078401</td>\n",
              "      <td>-0.074656</td>\n",
              "      <td>-0.115363</td>\n",
              "      <td>-0.362452</td>\n",
              "      <td>-0.384298</td>\n",
              "      <td>-0.406144</td>\n",
              "      <td>-0.427990</td>\n",
              "      <td>-0.424978</td>\n",
              "      <td>-0.557926</td>\n",
              "    </tr>\n",
              "    <tr>\n",
              "      <th>...</th>\n",
              "      <td>...</td>\n",
              "      <td>...</td>\n",
              "      <td>...</td>\n",
              "      <td>...</td>\n",
              "      <td>...</td>\n",
              "      <td>...</td>\n",
              "      <td>...</td>\n",
              "      <td>...</td>\n",
              "      <td>...</td>\n",
              "      <td>...</td>\n",
              "      <td>...</td>\n",
              "    </tr>\n",
              "    <tr>\n",
              "      <th>2017-12-27</th>\n",
              "      <td>0.402752</td>\n",
              "      <td>0.448750</td>\n",
              "      <td>0.464850</td>\n",
              "      <td>0.480949</td>\n",
              "      <td>0.497049</td>\n",
              "      <td>0.513148</td>\n",
              "      <td>0.565741</td>\n",
              "      <td>0.543922</td>\n",
              "      <td>0.561182</td>\n",
              "      <td>0.624440</td>\n",
              "      <td>0.636869</td>\n",
              "    </tr>\n",
              "    <tr>\n",
              "      <th>2017-12-28</th>\n",
              "      <td>0.433037</td>\n",
              "      <td>0.402752</td>\n",
              "      <td>0.448750</td>\n",
              "      <td>0.464850</td>\n",
              "      <td>0.480949</td>\n",
              "      <td>0.497049</td>\n",
              "      <td>0.513148</td>\n",
              "      <td>0.565741</td>\n",
              "      <td>0.543922</td>\n",
              "      <td>0.561182</td>\n",
              "      <td>0.624440</td>\n",
              "    </tr>\n",
              "    <tr>\n",
              "      <th>2017-12-29</th>\n",
              "      <td>0.400391</td>\n",
              "      <td>0.433037</td>\n",
              "      <td>0.402752</td>\n",
              "      <td>0.448750</td>\n",
              "      <td>0.464850</td>\n",
              "      <td>0.480949</td>\n",
              "      <td>0.497049</td>\n",
              "      <td>0.513148</td>\n",
              "      <td>0.565741</td>\n",
              "      <td>0.543922</td>\n",
              "      <td>0.561182</td>\n",
              "    </tr>\n",
              "    <tr>\n",
              "      <th>2017-12-30</th>\n",
              "      <td>0.419075</td>\n",
              "      <td>0.400391</td>\n",
              "      <td>0.433037</td>\n",
              "      <td>0.402752</td>\n",
              "      <td>0.448750</td>\n",
              "      <td>0.464850</td>\n",
              "      <td>0.480949</td>\n",
              "      <td>0.497049</td>\n",
              "      <td>0.513148</td>\n",
              "      <td>0.565741</td>\n",
              "      <td>0.543922</td>\n",
              "    </tr>\n",
              "    <tr>\n",
              "      <th>2017-12-31</th>\n",
              "      <td>0.437760</td>\n",
              "      <td>0.419075</td>\n",
              "      <td>0.400391</td>\n",
              "      <td>0.433037</td>\n",
              "      <td>0.402752</td>\n",
              "      <td>0.448750</td>\n",
              "      <td>0.464850</td>\n",
              "      <td>0.480949</td>\n",
              "      <td>0.497049</td>\n",
              "      <td>0.513148</td>\n",
              "      <td>0.565741</td>\n",
              "    </tr>\n",
              "  </tbody>\n",
              "</table>\n",
              "<p>1406 rows × 11 columns</p>\n",
              "</div>"
            ],
            "text/plain": [
              "            Scaled_close     lag_1     lag_2  ...     lag_8     lag_9    lag_10\n",
              "2014-02-25     -0.115363 -0.362452 -0.384298  ... -0.487157 -0.498290 -0.509424\n",
              "2014-02-26     -0.074656 -0.115363 -0.362452  ... -0.476024 -0.487157 -0.498290\n",
              "2014-02-27     -0.078401 -0.074656 -0.115363  ... -0.557926 -0.476024 -0.487157\n",
              "2014-02-28     -0.141333 -0.078401 -0.074656  ... -0.424978 -0.557926 -0.476024\n",
              "2014-03-01     -0.125729 -0.141333 -0.078401  ... -0.427990 -0.424978 -0.557926\n",
              "...                  ...       ...       ...  ...       ...       ...       ...\n",
              "2017-12-27      0.402752  0.448750  0.464850  ...  0.561182  0.624440  0.636869\n",
              "2017-12-28      0.433037  0.402752  0.448750  ...  0.543922  0.561182  0.624440\n",
              "2017-12-29      0.400391  0.433037  0.402752  ...  0.565741  0.543922  0.561182\n",
              "2017-12-30      0.419075  0.400391  0.433037  ...  0.513148  0.565741  0.543922\n",
              "2017-12-31      0.437760  0.419075  0.400391  ...  0.497049  0.513148  0.565741\n",
              "\n",
              "[1406 rows x 11 columns]"
            ]
          },
          "metadata": {
            "tags": []
          },
          "execution_count": 15
        }
      ]
    },
    {
      "cell_type": "code",
      "metadata": {
        "colab": {
          "base_uri": "https://localhost:8080/"
        },
        "id": "_ZtMdwTUDZsx",
        "outputId": "16edb566-a9d9-4939-a973-237e8a95a46f"
      },
      "source": [
        "lag_features  = [i for i in reversed(train_data_lagged.columns) if i!='Scaled_close']\n",
        "print(lag_features)\n",
        "X_data = np.array(train_data_lagged[lag_features])\n",
        "y_data = np.array(train_data_lagged['Scaled_close'])\n",
        "X_data.shape"
      ],
      "execution_count": 16,
      "outputs": [
        {
          "output_type": "stream",
          "text": [
            "['lag_10', 'lag_9', 'lag_8', 'lag_7', 'lag_6', 'lag_5', 'lag_4', 'lag_3', 'lag_2', 'lag_1']\n"
          ],
          "name": "stdout"
        },
        {
          "output_type": "execute_result",
          "data": {
            "text/plain": [
              "(1406, 10)"
            ]
          },
          "metadata": {
            "tags": []
          },
          "execution_count": 16
        }
      ]
    },
    {
      "cell_type": "code",
      "metadata": {
        "id": "JgYOjhp_Gezq"
      },
      "source": [
        "for i in range(len(X_data)):\n",
        "  print(X_data[i],y_data[i])\n"
      ],
      "execution_count": null,
      "outputs": []
    },
    {
      "cell_type": "code",
      "metadata": {
        "id": "uWeKAhi1HfRA"
      },
      "source": [
        "import tensorflow as tf"
      ],
      "execution_count": 18,
      "outputs": []
    },
    {
      "cell_type": "code",
      "metadata": {
        "colab": {
          "base_uri": "https://localhost:8080/"
        },
        "id": "aT7y0GViIAaS",
        "outputId": "1602a874-0acd-4acf-bc5e-89d2e720e383"
      },
      "source": [
        "n_features = 1\n",
        "\n",
        "\n",
        "model = tf.keras.models.Sequential()\n",
        "model.add(tf.keras.layers.LSTM(50, activation='relu', input_shape=(input_length, n_features)))\n",
        "model.add(tf.keras.layers.Dense(1))\n",
        "model.compile(optimizer='adam', loss='mse')"
      ],
      "execution_count": 19,
      "outputs": [
        {
          "output_type": "stream",
          "text": [
            "WARNING:tensorflow:Layer lstm will not use cuDNN kernel since it doesn't meet the cuDNN kernel criteria. It will use generic GPU kernel as fallback when running on GPU\n"
          ],
          "name": "stdout"
        }
      ]
    },
    {
      "cell_type": "code",
      "metadata": {
        "id": "m3mlr-7NI9h7"
      },
      "source": [
        "# reshape from [samples, timesteps] into [samples, timesteps, features]\n",
        "n_features = 1\n",
        "X_data = X_data.reshape((X_data.shape[0], X_data.shape[1], n_features))"
      ],
      "execution_count": 20,
      "outputs": []
    },
    {
      "cell_type": "code",
      "metadata": {
        "colab": {
          "base_uri": "https://localhost:8080/",
          "height": 472
        },
        "id": "O8WGnLczJF7e",
        "outputId": "be005ff3-5384-4270-a10b-c580bdd0d07e"
      },
      "source": [
        "model.fit(X_data, y_data, epochs=200, verbose=1)"
      ],
      "execution_count": 21,
      "outputs": [
        {
          "output_type": "stream",
          "text": [
            "Epoch 1/200\n",
            "44/44 [==============================] - 4s 16ms/step - loss: 0.1297\n",
            "Epoch 2/200\n",
            "44/44 [==============================] - 1s 16ms/step - loss: 0.0101\n",
            "Epoch 3/200\n",
            "44/44 [==============================] - 1s 18ms/step - loss: 0.0050\n",
            "Epoch 4/200\n",
            "16/44 [=========>....................] - ETA: 0s - loss: 0.0052"
          ],
          "name": "stdout"
        },
        {
          "output_type": "error",
          "ename": "KeyboardInterrupt",
          "evalue": "ignored",
          "traceback": [
            "\u001b[0;31m---------------------------------------------------------------------------\u001b[0m",
            "\u001b[0;31mKeyboardInterrupt\u001b[0m                         Traceback (most recent call last)",
            "\u001b[0;32m<ipython-input-21-70bee9e75a0b>\u001b[0m in \u001b[0;36m<module>\u001b[0;34m()\u001b[0m\n\u001b[0;32m----> 1\u001b[0;31m \u001b[0mmodel\u001b[0m\u001b[0;34m.\u001b[0m\u001b[0mfit\u001b[0m\u001b[0;34m(\u001b[0m\u001b[0mX_data\u001b[0m\u001b[0;34m,\u001b[0m \u001b[0my_data\u001b[0m\u001b[0;34m,\u001b[0m \u001b[0mepochs\u001b[0m\u001b[0;34m=\u001b[0m\u001b[0;36m200\u001b[0m\u001b[0;34m,\u001b[0m \u001b[0mverbose\u001b[0m\u001b[0;34m=\u001b[0m\u001b[0;36m1\u001b[0m\u001b[0;34m)\u001b[0m\u001b[0;34m\u001b[0m\u001b[0;34m\u001b[0m\u001b[0m\n\u001b[0m",
            "\u001b[0;32m/usr/local/lib/python3.7/dist-packages/tensorflow/python/keras/engine/training.py\u001b[0m in \u001b[0;36mfit\u001b[0;34m(self, x, y, batch_size, epochs, verbose, callbacks, validation_split, validation_data, shuffle, class_weight, sample_weight, initial_epoch, steps_per_epoch, validation_steps, validation_batch_size, validation_freq, max_queue_size, workers, use_multiprocessing)\u001b[0m\n\u001b[1;32m   1103\u001b[0m               \u001b[0mlogs\u001b[0m \u001b[0;34m=\u001b[0m \u001b[0mtmp_logs\u001b[0m  \u001b[0;31m# No error, now safe to assign to logs.\u001b[0m\u001b[0;34m\u001b[0m\u001b[0;34m\u001b[0m\u001b[0m\n\u001b[1;32m   1104\u001b[0m               \u001b[0mend_step\u001b[0m \u001b[0;34m=\u001b[0m \u001b[0mstep\u001b[0m \u001b[0;34m+\u001b[0m \u001b[0mdata_handler\u001b[0m\u001b[0;34m.\u001b[0m\u001b[0mstep_increment\u001b[0m\u001b[0;34m\u001b[0m\u001b[0;34m\u001b[0m\u001b[0m\n\u001b[0;32m-> 1105\u001b[0;31m               \u001b[0mcallbacks\u001b[0m\u001b[0;34m.\u001b[0m\u001b[0mon_train_batch_end\u001b[0m\u001b[0;34m(\u001b[0m\u001b[0mend_step\u001b[0m\u001b[0;34m,\u001b[0m \u001b[0mlogs\u001b[0m\u001b[0;34m)\u001b[0m\u001b[0;34m\u001b[0m\u001b[0;34m\u001b[0m\u001b[0m\n\u001b[0m\u001b[1;32m   1106\u001b[0m               \u001b[0;32mif\u001b[0m \u001b[0mself\u001b[0m\u001b[0;34m.\u001b[0m\u001b[0mstop_training\u001b[0m\u001b[0;34m:\u001b[0m\u001b[0;34m\u001b[0m\u001b[0;34m\u001b[0m\u001b[0m\n\u001b[1;32m   1107\u001b[0m                 \u001b[0;32mbreak\u001b[0m\u001b[0;34m\u001b[0m\u001b[0;34m\u001b[0m\u001b[0m\n",
            "\u001b[0;32m/usr/local/lib/python3.7/dist-packages/tensorflow/python/keras/callbacks.py\u001b[0m in \u001b[0;36mon_train_batch_end\u001b[0;34m(self, batch, logs)\u001b[0m\n\u001b[1;32m    452\u001b[0m     \"\"\"\n\u001b[1;32m    453\u001b[0m     \u001b[0;32mif\u001b[0m \u001b[0mself\u001b[0m\u001b[0;34m.\u001b[0m\u001b[0m_should_call_train_batch_hooks\u001b[0m\u001b[0;34m:\u001b[0m\u001b[0;34m\u001b[0m\u001b[0;34m\u001b[0m\u001b[0m\n\u001b[0;32m--> 454\u001b[0;31m       \u001b[0mself\u001b[0m\u001b[0;34m.\u001b[0m\u001b[0m_call_batch_hook\u001b[0m\u001b[0;34m(\u001b[0m\u001b[0mModeKeys\u001b[0m\u001b[0;34m.\u001b[0m\u001b[0mTRAIN\u001b[0m\u001b[0;34m,\u001b[0m \u001b[0;34m'end'\u001b[0m\u001b[0;34m,\u001b[0m \u001b[0mbatch\u001b[0m\u001b[0;34m,\u001b[0m \u001b[0mlogs\u001b[0m\u001b[0;34m=\u001b[0m\u001b[0mlogs\u001b[0m\u001b[0;34m)\u001b[0m\u001b[0;34m\u001b[0m\u001b[0;34m\u001b[0m\u001b[0m\n\u001b[0m\u001b[1;32m    455\u001b[0m \u001b[0;34m\u001b[0m\u001b[0m\n\u001b[1;32m    456\u001b[0m   \u001b[0;32mdef\u001b[0m \u001b[0mon_test_batch_begin\u001b[0m\u001b[0;34m(\u001b[0m\u001b[0mself\u001b[0m\u001b[0;34m,\u001b[0m \u001b[0mbatch\u001b[0m\u001b[0;34m,\u001b[0m \u001b[0mlogs\u001b[0m\u001b[0;34m=\u001b[0m\u001b[0;32mNone\u001b[0m\u001b[0;34m)\u001b[0m\u001b[0;34m:\u001b[0m\u001b[0;34m\u001b[0m\u001b[0;34m\u001b[0m\u001b[0m\n",
            "\u001b[0;32m/usr/local/lib/python3.7/dist-packages/tensorflow/python/keras/callbacks.py\u001b[0m in \u001b[0;36m_call_batch_hook\u001b[0;34m(self, mode, hook, batch, logs)\u001b[0m\n\u001b[1;32m    294\u001b[0m       \u001b[0mself\u001b[0m\u001b[0;34m.\u001b[0m\u001b[0m_call_batch_begin_hook\u001b[0m\u001b[0;34m(\u001b[0m\u001b[0mmode\u001b[0m\u001b[0;34m,\u001b[0m \u001b[0mbatch\u001b[0m\u001b[0;34m,\u001b[0m \u001b[0mlogs\u001b[0m\u001b[0;34m)\u001b[0m\u001b[0;34m\u001b[0m\u001b[0;34m\u001b[0m\u001b[0m\n\u001b[1;32m    295\u001b[0m     \u001b[0;32melif\u001b[0m \u001b[0mhook\u001b[0m \u001b[0;34m==\u001b[0m \u001b[0;34m'end'\u001b[0m\u001b[0;34m:\u001b[0m\u001b[0;34m\u001b[0m\u001b[0;34m\u001b[0m\u001b[0m\n\u001b[0;32m--> 296\u001b[0;31m       \u001b[0mself\u001b[0m\u001b[0;34m.\u001b[0m\u001b[0m_call_batch_end_hook\u001b[0m\u001b[0;34m(\u001b[0m\u001b[0mmode\u001b[0m\u001b[0;34m,\u001b[0m \u001b[0mbatch\u001b[0m\u001b[0;34m,\u001b[0m \u001b[0mlogs\u001b[0m\u001b[0;34m)\u001b[0m\u001b[0;34m\u001b[0m\u001b[0;34m\u001b[0m\u001b[0m\n\u001b[0m\u001b[1;32m    297\u001b[0m     \u001b[0;32melse\u001b[0m\u001b[0;34m:\u001b[0m\u001b[0;34m\u001b[0m\u001b[0;34m\u001b[0m\u001b[0m\n\u001b[1;32m    298\u001b[0m       \u001b[0;32mraise\u001b[0m \u001b[0mValueError\u001b[0m\u001b[0;34m(\u001b[0m\u001b[0;34m'Unrecognized hook: {}'\u001b[0m\u001b[0;34m.\u001b[0m\u001b[0mformat\u001b[0m\u001b[0;34m(\u001b[0m\u001b[0mhook\u001b[0m\u001b[0;34m)\u001b[0m\u001b[0;34m)\u001b[0m\u001b[0;34m\u001b[0m\u001b[0;34m\u001b[0m\u001b[0m\n",
            "\u001b[0;32m/usr/local/lib/python3.7/dist-packages/tensorflow/python/keras/callbacks.py\u001b[0m in \u001b[0;36m_call_batch_end_hook\u001b[0;34m(self, mode, batch, logs)\u001b[0m\n\u001b[1;32m    314\u001b[0m       \u001b[0mself\u001b[0m\u001b[0;34m.\u001b[0m\u001b[0m_batch_times\u001b[0m\u001b[0;34m.\u001b[0m\u001b[0mappend\u001b[0m\u001b[0;34m(\u001b[0m\u001b[0mbatch_time\u001b[0m\u001b[0;34m)\u001b[0m\u001b[0;34m\u001b[0m\u001b[0;34m\u001b[0m\u001b[0m\n\u001b[1;32m    315\u001b[0m \u001b[0;34m\u001b[0m\u001b[0m\n\u001b[0;32m--> 316\u001b[0;31m     \u001b[0mself\u001b[0m\u001b[0;34m.\u001b[0m\u001b[0m_call_batch_hook_helper\u001b[0m\u001b[0;34m(\u001b[0m\u001b[0mhook_name\u001b[0m\u001b[0;34m,\u001b[0m \u001b[0mbatch\u001b[0m\u001b[0;34m,\u001b[0m \u001b[0mlogs\u001b[0m\u001b[0;34m)\u001b[0m\u001b[0;34m\u001b[0m\u001b[0;34m\u001b[0m\u001b[0m\n\u001b[0m\u001b[1;32m    317\u001b[0m \u001b[0;34m\u001b[0m\u001b[0m\n\u001b[1;32m    318\u001b[0m     \u001b[0;32mif\u001b[0m \u001b[0mlen\u001b[0m\u001b[0;34m(\u001b[0m\u001b[0mself\u001b[0m\u001b[0;34m.\u001b[0m\u001b[0m_batch_times\u001b[0m\u001b[0;34m)\u001b[0m \u001b[0;34m>=\u001b[0m \u001b[0mself\u001b[0m\u001b[0;34m.\u001b[0m\u001b[0m_num_batches_for_timing_check\u001b[0m\u001b[0;34m:\u001b[0m\u001b[0;34m\u001b[0m\u001b[0;34m\u001b[0m\u001b[0m\n",
            "\u001b[0;32m/usr/local/lib/python3.7/dist-packages/tensorflow/python/keras/callbacks.py\u001b[0m in \u001b[0;36m_call_batch_hook_helper\u001b[0;34m(self, hook_name, batch, logs)\u001b[0m\n\u001b[1;32m    354\u001b[0m       \u001b[0mhook\u001b[0m \u001b[0;34m=\u001b[0m \u001b[0mgetattr\u001b[0m\u001b[0;34m(\u001b[0m\u001b[0mcallback\u001b[0m\u001b[0;34m,\u001b[0m \u001b[0mhook_name\u001b[0m\u001b[0;34m)\u001b[0m\u001b[0;34m\u001b[0m\u001b[0;34m\u001b[0m\u001b[0m\n\u001b[1;32m    355\u001b[0m       \u001b[0;32mif\u001b[0m \u001b[0mgetattr\u001b[0m\u001b[0;34m(\u001b[0m\u001b[0mcallback\u001b[0m\u001b[0;34m,\u001b[0m \u001b[0;34m'_supports_tf_logs'\u001b[0m\u001b[0;34m,\u001b[0m \u001b[0;32mFalse\u001b[0m\u001b[0;34m)\u001b[0m\u001b[0;34m:\u001b[0m\u001b[0;34m\u001b[0m\u001b[0;34m\u001b[0m\u001b[0m\n\u001b[0;32m--> 356\u001b[0;31m         \u001b[0mhook\u001b[0m\u001b[0;34m(\u001b[0m\u001b[0mbatch\u001b[0m\u001b[0;34m,\u001b[0m \u001b[0mlogs\u001b[0m\u001b[0;34m)\u001b[0m\u001b[0;34m\u001b[0m\u001b[0;34m\u001b[0m\u001b[0m\n\u001b[0m\u001b[1;32m    357\u001b[0m       \u001b[0;32melse\u001b[0m\u001b[0;34m:\u001b[0m\u001b[0;34m\u001b[0m\u001b[0;34m\u001b[0m\u001b[0m\n\u001b[1;32m    358\u001b[0m         \u001b[0;32mif\u001b[0m \u001b[0mnumpy_logs\u001b[0m \u001b[0;32mis\u001b[0m \u001b[0;32mNone\u001b[0m\u001b[0;34m:\u001b[0m  \u001b[0;31m# Only convert once.\u001b[0m\u001b[0;34m\u001b[0m\u001b[0;34m\u001b[0m\u001b[0m\n",
            "\u001b[0;32m/usr/local/lib/python3.7/dist-packages/tensorflow/python/keras/callbacks.py\u001b[0m in \u001b[0;36mon_train_batch_end\u001b[0;34m(self, batch, logs)\u001b[0m\n\u001b[1;32m   1018\u001b[0m \u001b[0;34m\u001b[0m\u001b[0m\n\u001b[1;32m   1019\u001b[0m   \u001b[0;32mdef\u001b[0m \u001b[0mon_train_batch_end\u001b[0m\u001b[0;34m(\u001b[0m\u001b[0mself\u001b[0m\u001b[0;34m,\u001b[0m \u001b[0mbatch\u001b[0m\u001b[0;34m,\u001b[0m \u001b[0mlogs\u001b[0m\u001b[0;34m=\u001b[0m\u001b[0;32mNone\u001b[0m\u001b[0;34m)\u001b[0m\u001b[0;34m:\u001b[0m\u001b[0;34m\u001b[0m\u001b[0;34m\u001b[0m\u001b[0m\n\u001b[0;32m-> 1020\u001b[0;31m     \u001b[0mself\u001b[0m\u001b[0;34m.\u001b[0m\u001b[0m_batch_update_progbar\u001b[0m\u001b[0;34m(\u001b[0m\u001b[0mbatch\u001b[0m\u001b[0;34m,\u001b[0m \u001b[0mlogs\u001b[0m\u001b[0;34m)\u001b[0m\u001b[0;34m\u001b[0m\u001b[0;34m\u001b[0m\u001b[0m\n\u001b[0m\u001b[1;32m   1021\u001b[0m \u001b[0;34m\u001b[0m\u001b[0m\n\u001b[1;32m   1022\u001b[0m   \u001b[0;32mdef\u001b[0m \u001b[0mon_test_batch_end\u001b[0m\u001b[0;34m(\u001b[0m\u001b[0mself\u001b[0m\u001b[0;34m,\u001b[0m \u001b[0mbatch\u001b[0m\u001b[0;34m,\u001b[0m \u001b[0mlogs\u001b[0m\u001b[0;34m=\u001b[0m\u001b[0;32mNone\u001b[0m\u001b[0;34m)\u001b[0m\u001b[0;34m:\u001b[0m\u001b[0;34m\u001b[0m\u001b[0;34m\u001b[0m\u001b[0m\n",
            "\u001b[0;32m/usr/local/lib/python3.7/dist-packages/tensorflow/python/keras/callbacks.py\u001b[0m in \u001b[0;36m_batch_update_progbar\u001b[0;34m(self, batch, logs)\u001b[0m\n\u001b[1;32m   1082\u001b[0m     \u001b[0;32mif\u001b[0m \u001b[0mself\u001b[0m\u001b[0;34m.\u001b[0m\u001b[0mverbose\u001b[0m \u001b[0;34m==\u001b[0m \u001b[0;36m1\u001b[0m\u001b[0;34m:\u001b[0m\u001b[0;34m\u001b[0m\u001b[0;34m\u001b[0m\u001b[0m\n\u001b[1;32m   1083\u001b[0m       \u001b[0;31m# Only block async when verbose = 1.\u001b[0m\u001b[0;34m\u001b[0m\u001b[0;34m\u001b[0m\u001b[0;34m\u001b[0m\u001b[0m\n\u001b[0;32m-> 1084\u001b[0;31m       \u001b[0mlogs\u001b[0m \u001b[0;34m=\u001b[0m \u001b[0mtf_utils\u001b[0m\u001b[0;34m.\u001b[0m\u001b[0mto_numpy_or_python_type\u001b[0m\u001b[0;34m(\u001b[0m\u001b[0mlogs\u001b[0m\u001b[0;34m)\u001b[0m\u001b[0;34m\u001b[0m\u001b[0;34m\u001b[0m\u001b[0m\n\u001b[0m\u001b[1;32m   1085\u001b[0m       \u001b[0mself\u001b[0m\u001b[0;34m.\u001b[0m\u001b[0mprogbar\u001b[0m\u001b[0;34m.\u001b[0m\u001b[0mupdate\u001b[0m\u001b[0;34m(\u001b[0m\u001b[0mself\u001b[0m\u001b[0;34m.\u001b[0m\u001b[0mseen\u001b[0m\u001b[0;34m,\u001b[0m \u001b[0mlist\u001b[0m\u001b[0;34m(\u001b[0m\u001b[0mlogs\u001b[0m\u001b[0;34m.\u001b[0m\u001b[0mitems\u001b[0m\u001b[0;34m(\u001b[0m\u001b[0;34m)\u001b[0m\u001b[0;34m)\u001b[0m\u001b[0;34m,\u001b[0m \u001b[0mfinalize\u001b[0m\u001b[0;34m=\u001b[0m\u001b[0;32mFalse\u001b[0m\u001b[0;34m)\u001b[0m\u001b[0;34m\u001b[0m\u001b[0;34m\u001b[0m\u001b[0m\n\u001b[1;32m   1086\u001b[0m \u001b[0;34m\u001b[0m\u001b[0m\n",
            "\u001b[0;32m/usr/local/lib/python3.7/dist-packages/tensorflow/python/keras/utils/tf_utils.py\u001b[0m in \u001b[0;36mto_numpy_or_python_type\u001b[0;34m(tensors)\u001b[0m\n\u001b[1;32m    512\u001b[0m     \u001b[0;32mreturn\u001b[0m \u001b[0mt\u001b[0m  \u001b[0;31m# Don't turn ragged or sparse tensors to NumPy.\u001b[0m\u001b[0;34m\u001b[0m\u001b[0;34m\u001b[0m\u001b[0m\n\u001b[1;32m    513\u001b[0m \u001b[0;34m\u001b[0m\u001b[0m\n\u001b[0;32m--> 514\u001b[0;31m   \u001b[0;32mreturn\u001b[0m \u001b[0mnest\u001b[0m\u001b[0;34m.\u001b[0m\u001b[0mmap_structure\u001b[0m\u001b[0;34m(\u001b[0m\u001b[0m_to_single_numpy_or_python_type\u001b[0m\u001b[0;34m,\u001b[0m \u001b[0mtensors\u001b[0m\u001b[0;34m)\u001b[0m\u001b[0;34m\u001b[0m\u001b[0;34m\u001b[0m\u001b[0m\n\u001b[0m\u001b[1;32m    515\u001b[0m \u001b[0;34m\u001b[0m\u001b[0m\n\u001b[1;32m    516\u001b[0m \u001b[0;34m\u001b[0m\u001b[0m\n",
            "\u001b[0;32m/usr/local/lib/python3.7/dist-packages/tensorflow/python/util/nest.py\u001b[0m in \u001b[0;36mmap_structure\u001b[0;34m(func, *structure, **kwargs)\u001b[0m\n\u001b[1;32m    657\u001b[0m \u001b[0;34m\u001b[0m\u001b[0m\n\u001b[1;32m    658\u001b[0m   return pack_sequence_as(\n\u001b[0;32m--> 659\u001b[0;31m       \u001b[0mstructure\u001b[0m\u001b[0;34m[\u001b[0m\u001b[0;36m0\u001b[0m\u001b[0;34m]\u001b[0m\u001b[0;34m,\u001b[0m \u001b[0;34m[\u001b[0m\u001b[0mfunc\u001b[0m\u001b[0;34m(\u001b[0m\u001b[0;34m*\u001b[0m\u001b[0mx\u001b[0m\u001b[0;34m)\u001b[0m \u001b[0;32mfor\u001b[0m \u001b[0mx\u001b[0m \u001b[0;32min\u001b[0m \u001b[0mentries\u001b[0m\u001b[0;34m]\u001b[0m\u001b[0;34m,\u001b[0m\u001b[0;34m\u001b[0m\u001b[0;34m\u001b[0m\u001b[0m\n\u001b[0m\u001b[1;32m    660\u001b[0m       expand_composites=expand_composites)\n\u001b[1;32m    661\u001b[0m \u001b[0;34m\u001b[0m\u001b[0m\n",
            "\u001b[0;32m/usr/local/lib/python3.7/dist-packages/tensorflow/python/util/nest.py\u001b[0m in \u001b[0;36m<listcomp>\u001b[0;34m(.0)\u001b[0m\n\u001b[1;32m    657\u001b[0m \u001b[0;34m\u001b[0m\u001b[0m\n\u001b[1;32m    658\u001b[0m   return pack_sequence_as(\n\u001b[0;32m--> 659\u001b[0;31m       \u001b[0mstructure\u001b[0m\u001b[0;34m[\u001b[0m\u001b[0;36m0\u001b[0m\u001b[0;34m]\u001b[0m\u001b[0;34m,\u001b[0m \u001b[0;34m[\u001b[0m\u001b[0mfunc\u001b[0m\u001b[0;34m(\u001b[0m\u001b[0;34m*\u001b[0m\u001b[0mx\u001b[0m\u001b[0;34m)\u001b[0m \u001b[0;32mfor\u001b[0m \u001b[0mx\u001b[0m \u001b[0;32min\u001b[0m \u001b[0mentries\u001b[0m\u001b[0;34m]\u001b[0m\u001b[0;34m,\u001b[0m\u001b[0;34m\u001b[0m\u001b[0;34m\u001b[0m\u001b[0m\n\u001b[0m\u001b[1;32m    660\u001b[0m       expand_composites=expand_composites)\n\u001b[1;32m    661\u001b[0m \u001b[0;34m\u001b[0m\u001b[0m\n",
            "\u001b[0;32m/usr/local/lib/python3.7/dist-packages/tensorflow/python/keras/utils/tf_utils.py\u001b[0m in \u001b[0;36m_to_single_numpy_or_python_type\u001b[0;34m(t)\u001b[0m\n\u001b[1;32m    508\u001b[0m   \u001b[0;32mdef\u001b[0m \u001b[0m_to_single_numpy_or_python_type\u001b[0m\u001b[0;34m(\u001b[0m\u001b[0mt\u001b[0m\u001b[0;34m)\u001b[0m\u001b[0;34m:\u001b[0m\u001b[0;34m\u001b[0m\u001b[0;34m\u001b[0m\u001b[0m\n\u001b[1;32m    509\u001b[0m     \u001b[0;32mif\u001b[0m \u001b[0misinstance\u001b[0m\u001b[0;34m(\u001b[0m\u001b[0mt\u001b[0m\u001b[0;34m,\u001b[0m \u001b[0mops\u001b[0m\u001b[0;34m.\u001b[0m\u001b[0mTensor\u001b[0m\u001b[0;34m)\u001b[0m\u001b[0;34m:\u001b[0m\u001b[0;34m\u001b[0m\u001b[0;34m\u001b[0m\u001b[0m\n\u001b[0;32m--> 510\u001b[0;31m       \u001b[0mx\u001b[0m \u001b[0;34m=\u001b[0m \u001b[0mt\u001b[0m\u001b[0;34m.\u001b[0m\u001b[0mnumpy\u001b[0m\u001b[0;34m(\u001b[0m\u001b[0;34m)\u001b[0m\u001b[0;34m\u001b[0m\u001b[0;34m\u001b[0m\u001b[0m\n\u001b[0m\u001b[1;32m    511\u001b[0m       \u001b[0;32mreturn\u001b[0m \u001b[0mx\u001b[0m\u001b[0;34m.\u001b[0m\u001b[0mitem\u001b[0m\u001b[0;34m(\u001b[0m\u001b[0;34m)\u001b[0m \u001b[0;32mif\u001b[0m \u001b[0mnp\u001b[0m\u001b[0;34m.\u001b[0m\u001b[0mndim\u001b[0m\u001b[0;34m(\u001b[0m\u001b[0mx\u001b[0m\u001b[0;34m)\u001b[0m \u001b[0;34m==\u001b[0m \u001b[0;36m0\u001b[0m \u001b[0;32melse\u001b[0m \u001b[0mx\u001b[0m\u001b[0;34m\u001b[0m\u001b[0;34m\u001b[0m\u001b[0m\n\u001b[1;32m    512\u001b[0m     \u001b[0;32mreturn\u001b[0m \u001b[0mt\u001b[0m  \u001b[0;31m# Don't turn ragged or sparse tensors to NumPy.\u001b[0m\u001b[0;34m\u001b[0m\u001b[0;34m\u001b[0m\u001b[0m\n",
            "\u001b[0;32m/usr/local/lib/python3.7/dist-packages/tensorflow/python/framework/ops.py\u001b[0m in \u001b[0;36mnumpy\u001b[0;34m(self)\u001b[0m\n\u001b[1;32m   1069\u001b[0m     \"\"\"\n\u001b[1;32m   1070\u001b[0m     \u001b[0;31m# TODO(slebedev): Consider avoiding a copy for non-CPU or remote tensors.\u001b[0m\u001b[0;34m\u001b[0m\u001b[0;34m\u001b[0m\u001b[0;34m\u001b[0m\u001b[0m\n\u001b[0;32m-> 1071\u001b[0;31m     \u001b[0mmaybe_arr\u001b[0m \u001b[0;34m=\u001b[0m \u001b[0mself\u001b[0m\u001b[0;34m.\u001b[0m\u001b[0m_numpy\u001b[0m\u001b[0;34m(\u001b[0m\u001b[0;34m)\u001b[0m  \u001b[0;31m# pylint: disable=protected-access\u001b[0m\u001b[0;34m\u001b[0m\u001b[0;34m\u001b[0m\u001b[0m\n\u001b[0m\u001b[1;32m   1072\u001b[0m     \u001b[0;32mreturn\u001b[0m \u001b[0mmaybe_arr\u001b[0m\u001b[0;34m.\u001b[0m\u001b[0mcopy\u001b[0m\u001b[0;34m(\u001b[0m\u001b[0;34m)\u001b[0m \u001b[0;32mif\u001b[0m \u001b[0misinstance\u001b[0m\u001b[0;34m(\u001b[0m\u001b[0mmaybe_arr\u001b[0m\u001b[0;34m,\u001b[0m \u001b[0mnp\u001b[0m\u001b[0;34m.\u001b[0m\u001b[0mndarray\u001b[0m\u001b[0;34m)\u001b[0m \u001b[0;32melse\u001b[0m \u001b[0mmaybe_arr\u001b[0m\u001b[0;34m\u001b[0m\u001b[0;34m\u001b[0m\u001b[0m\n\u001b[1;32m   1073\u001b[0m \u001b[0;34m\u001b[0m\u001b[0m\n",
            "\u001b[0;32m/usr/local/lib/python3.7/dist-packages/tensorflow/python/framework/ops.py\u001b[0m in \u001b[0;36m_numpy\u001b[0;34m(self)\u001b[0m\n\u001b[1;32m   1035\u001b[0m   \u001b[0;32mdef\u001b[0m \u001b[0m_numpy\u001b[0m\u001b[0;34m(\u001b[0m\u001b[0mself\u001b[0m\u001b[0;34m)\u001b[0m\u001b[0;34m:\u001b[0m\u001b[0;34m\u001b[0m\u001b[0;34m\u001b[0m\u001b[0m\n\u001b[1;32m   1036\u001b[0m     \u001b[0;32mtry\u001b[0m\u001b[0;34m:\u001b[0m\u001b[0;34m\u001b[0m\u001b[0;34m\u001b[0m\u001b[0m\n\u001b[0;32m-> 1037\u001b[0;31m       \u001b[0;32mreturn\u001b[0m \u001b[0mself\u001b[0m\u001b[0;34m.\u001b[0m\u001b[0m_numpy_internal\u001b[0m\u001b[0;34m(\u001b[0m\u001b[0;34m)\u001b[0m\u001b[0;34m\u001b[0m\u001b[0;34m\u001b[0m\u001b[0m\n\u001b[0m\u001b[1;32m   1038\u001b[0m     \u001b[0;32mexcept\u001b[0m \u001b[0mcore\u001b[0m\u001b[0;34m.\u001b[0m\u001b[0m_NotOkStatusException\u001b[0m \u001b[0;32mas\u001b[0m \u001b[0me\u001b[0m\u001b[0;34m:\u001b[0m  \u001b[0;31m# pylint: disable=protected-access\u001b[0m\u001b[0;34m\u001b[0m\u001b[0;34m\u001b[0m\u001b[0m\n\u001b[1;32m   1039\u001b[0m       \u001b[0msix\u001b[0m\u001b[0;34m.\u001b[0m\u001b[0mraise_from\u001b[0m\u001b[0;34m(\u001b[0m\u001b[0mcore\u001b[0m\u001b[0;34m.\u001b[0m\u001b[0m_status_to_exception\u001b[0m\u001b[0;34m(\u001b[0m\u001b[0me\u001b[0m\u001b[0;34m.\u001b[0m\u001b[0mcode\u001b[0m\u001b[0;34m,\u001b[0m \u001b[0me\u001b[0m\u001b[0;34m.\u001b[0m\u001b[0mmessage\u001b[0m\u001b[0;34m)\u001b[0m\u001b[0;34m,\u001b[0m \u001b[0;32mNone\u001b[0m\u001b[0;34m)\u001b[0m  \u001b[0;31m# pylint: disable=protected-access\u001b[0m\u001b[0;34m\u001b[0m\u001b[0;34m\u001b[0m\u001b[0m\n",
            "\u001b[0;31mKeyboardInterrupt\u001b[0m: "
          ]
        }
      ]
    },
    {
      "cell_type": "code",
      "metadata": {
        "colab": {
          "base_uri": "https://localhost:8080/",
          "height": 206
        },
        "id": "3CRQaBD6JSV-",
        "outputId": "b4e562b0-5683-40cc-d91a-03d8e95b3965"
      },
      "source": [
        "train_data_lagged.head()"
      ],
      "execution_count": 22,
      "outputs": [
        {
          "output_type": "execute_result",
          "data": {
            "text/html": [
              "<div>\n",
              "<style scoped>\n",
              "    .dataframe tbody tr th:only-of-type {\n",
              "        vertical-align: middle;\n",
              "    }\n",
              "\n",
              "    .dataframe tbody tr th {\n",
              "        vertical-align: top;\n",
              "    }\n",
              "\n",
              "    .dataframe thead th {\n",
              "        text-align: right;\n",
              "    }\n",
              "</style>\n",
              "<table border=\"1\" class=\"dataframe\">\n",
              "  <thead>\n",
              "    <tr style=\"text-align: right;\">\n",
              "      <th></th>\n",
              "      <th>Scaled_close</th>\n",
              "      <th>lag_1</th>\n",
              "      <th>lag_2</th>\n",
              "      <th>lag_3</th>\n",
              "      <th>lag_4</th>\n",
              "      <th>lag_5</th>\n",
              "      <th>lag_6</th>\n",
              "      <th>lag_7</th>\n",
              "      <th>lag_8</th>\n",
              "      <th>lag_9</th>\n",
              "      <th>lag_10</th>\n",
              "    </tr>\n",
              "  </thead>\n",
              "  <tbody>\n",
              "    <tr>\n",
              "      <th>2014-02-25</th>\n",
              "      <td>-0.115363</td>\n",
              "      <td>-0.362452</td>\n",
              "      <td>-0.384298</td>\n",
              "      <td>-0.406144</td>\n",
              "      <td>-0.427990</td>\n",
              "      <td>-0.424978</td>\n",
              "      <td>-0.557926</td>\n",
              "      <td>-0.476024</td>\n",
              "      <td>-0.487157</td>\n",
              "      <td>-0.498290</td>\n",
              "      <td>-0.509424</td>\n",
              "    </tr>\n",
              "    <tr>\n",
              "      <th>2014-02-26</th>\n",
              "      <td>-0.074656</td>\n",
              "      <td>-0.115363</td>\n",
              "      <td>-0.362452</td>\n",
              "      <td>-0.384298</td>\n",
              "      <td>-0.406144</td>\n",
              "      <td>-0.427990</td>\n",
              "      <td>-0.424978</td>\n",
              "      <td>-0.557926</td>\n",
              "      <td>-0.476024</td>\n",
              "      <td>-0.487157</td>\n",
              "      <td>-0.498290</td>\n",
              "    </tr>\n",
              "    <tr>\n",
              "      <th>2014-02-27</th>\n",
              "      <td>-0.078401</td>\n",
              "      <td>-0.074656</td>\n",
              "      <td>-0.115363</td>\n",
              "      <td>-0.362452</td>\n",
              "      <td>-0.384298</td>\n",
              "      <td>-0.406144</td>\n",
              "      <td>-0.427990</td>\n",
              "      <td>-0.424978</td>\n",
              "      <td>-0.557926</td>\n",
              "      <td>-0.476024</td>\n",
              "      <td>-0.487157</td>\n",
              "    </tr>\n",
              "    <tr>\n",
              "      <th>2014-02-28</th>\n",
              "      <td>-0.141333</td>\n",
              "      <td>-0.078401</td>\n",
              "      <td>-0.074656</td>\n",
              "      <td>-0.115363</td>\n",
              "      <td>-0.362452</td>\n",
              "      <td>-0.384298</td>\n",
              "      <td>-0.406144</td>\n",
              "      <td>-0.427990</td>\n",
              "      <td>-0.424978</td>\n",
              "      <td>-0.557926</td>\n",
              "      <td>-0.476024</td>\n",
              "    </tr>\n",
              "    <tr>\n",
              "      <th>2014-03-01</th>\n",
              "      <td>-0.125729</td>\n",
              "      <td>-0.141333</td>\n",
              "      <td>-0.078401</td>\n",
              "      <td>-0.074656</td>\n",
              "      <td>-0.115363</td>\n",
              "      <td>-0.362452</td>\n",
              "      <td>-0.384298</td>\n",
              "      <td>-0.406144</td>\n",
              "      <td>-0.427990</td>\n",
              "      <td>-0.424978</td>\n",
              "      <td>-0.557926</td>\n",
              "    </tr>\n",
              "  </tbody>\n",
              "</table>\n",
              "</div>"
            ],
            "text/plain": [
              "            Scaled_close     lag_1     lag_2  ...     lag_8     lag_9    lag_10\n",
              "2014-02-25     -0.115363 -0.362452 -0.384298  ... -0.487157 -0.498290 -0.509424\n",
              "2014-02-26     -0.074656 -0.115363 -0.362452  ... -0.476024 -0.487157 -0.498290\n",
              "2014-02-27     -0.078401 -0.074656 -0.115363  ... -0.557926 -0.476024 -0.487157\n",
              "2014-02-28     -0.141333 -0.078401 -0.074656  ... -0.424978 -0.557926 -0.476024\n",
              "2014-03-01     -0.125729 -0.141333 -0.078401  ... -0.427990 -0.424978 -0.557926\n",
              "\n",
              "[5 rows x 11 columns]"
            ]
          },
          "metadata": {
            "tags": []
          },
          "execution_count": 22
        }
      ]
    },
    {
      "cell_type": "code",
      "metadata": {
        "colab": {
          "base_uri": "https://localhost:8080/"
        },
        "id": "-hBxUSosKgaa",
        "outputId": "99d0b649-242d-4d83-a60d-12cf057fe535"
      },
      "source": [
        "for i in range(20):\n",
        "  print(model(np.expand_dims(X_data[i],0)).numpy(),y_data[i])"
      ],
      "execution_count": 23,
      "outputs": [
        {
          "output_type": "stream",
          "text": [
            "[[-0.4170128]] -0.1153627592159081\n",
            "[[-0.34858403]] -0.07465609143844576\n",
            "[[-0.2825712]] -0.07840106636363631\n",
            "[[-0.22858772]] -0.14133347785061723\n",
            "[[-0.19841471]] -0.1257292862593129\n",
            "[[-0.16999722]] -0.11012509466800857\n",
            "[[-0.14709984]] -0.09452090307670424\n",
            "[[-0.1257804]] -0.059676036454070935\n",
            "[[-0.10225631]] -0.07742402186269093\n",
            "[[-0.08781385]] -0.07514445840530426\n",
            "[[-0.07712311]] -0.12993566056368433\n",
            "[[-0.08484204]] -0.14993619008080894\n",
            "[[-0.09682064]] -0.16993671959793377\n",
            "[[-0.11106932]] -0.18993724911505838\n",
            "[[-0.12558262]] -0.2260034213638733\n",
            "[[-0.14570156]] -0.16836276488376\n",
            "[[-0.15083015]] -0.19848576736387225\n",
            "[[-0.16132744]] -0.25400959761434705\n",
            "[[-0.18252023]] -0.24584111013084042\n",
            "[[-0.19809258]] -0.23767262264733358\n"
          ],
          "name": "stdout"
        }
      ]
    },
    {
      "cell_type": "code",
      "metadata": {
        "id": "Cb2-oQdbLb26"
      },
      "source": [
        "# test_dates = pd.date_range(start=datetime(year=2015,month=1,day=2),periods=20)\n",
        "# for i in test_dates:\n",
        "  # print(i)"
      ],
      "execution_count": 24,
      "outputs": []
    },
    {
      "cell_type": "code",
      "metadata": {
        "colab": {
          "base_uri": "https://localhost:8080/"
        },
        "id": "jYQJg-JESLjA",
        "outputId": "e1f72e6d-f86e-4a50-ff94-afced382486f"
      },
      "source": [
        "test_df = train_data['Scaled_close']['2015-01-01':'2015-01-10']\n",
        "test_df"
      ],
      "execution_count": 25,
      "outputs": [
        {
          "output_type": "execute_result",
          "data": {
            "text/plain": [
              "2015-01-01   -0.336319\n",
              "2015-01-02   -0.348938\n",
              "2015-01-03   -0.373959\n",
              "2015-01-04   -0.398980\n",
              "2015-01-05   -0.424001\n",
              "2015-01-06   -0.414312\n",
              "2015-01-07   -0.416999\n",
              "2015-01-08   -0.419686\n",
              "2015-01-09   -0.451925\n",
              "2015-01-10   -0.464002\n",
              "Freq: D, Name: Scaled_close, dtype: float64"
            ]
          },
          "metadata": {
            "tags": []
          },
          "execution_count": 25
        }
      ]
    },
    {
      "cell_type": "code",
      "metadata": {
        "colab": {
          "base_uri": "https://localhost:8080/"
        },
        "id": "7HQiXMjxrDkn",
        "outputId": "2ad91c61-c5df-4f1f-80af-89162168a827"
      },
      "source": [
        "test_input = np.array(test_df)\n",
        "test_input"
      ],
      "execution_count": 31,
      "outputs": [
        {
          "output_type": "execute_result",
          "data": {
            "text/plain": [
              "array([-0.33631853, -0.34893758, -0.37395858, -0.39897958, -0.42400059,\n",
              "       -0.41431244, -0.41699916, -0.41968572, -0.4519254 , -0.4640017 ])"
            ]
          },
          "metadata": {
            "tags": []
          },
          "execution_count": 31
        }
      ]
    },
    {
      "cell_type": "code",
      "metadata": {
        "colab": {
          "base_uri": "https://localhost:8080/"
        },
        "id": "2KkwijwwU6rv",
        "outputId": "fb4daad0-212d-44b7-cbd7-3aab577b56be"
      },
      "source": [
        "test_start_date = test_df.index.min()\n",
        "test_start_date"
      ],
      "execution_count": 26,
      "outputs": [
        {
          "output_type": "execute_result",
          "data": {
            "text/plain": [
              "Timestamp('2015-01-01 00:00:00', freq='D')"
            ]
          },
          "metadata": {
            "tags": []
          },
          "execution_count": 26
        }
      ]
    },
    {
      "cell_type": "code",
      "metadata": {
        "id": "mkaf15KTVVs_"
      },
      "source": [
        "def predict(model, input_array, future_steps):\n",
        "  seq_length = len(input_array)\n",
        "  prediction = input_array\n",
        "  for i in range(future_steps):\n",
        "    input_seq = prediction[-seq_length:]\n",
        "    model_output = model(np.expand_dims(np.expand_dims(input_seq,1),0)).numpy()[0]\n",
        "    prediction = np.append(prediction, model_output)\n",
        "  return prediction\n"
      ],
      "execution_count": 59,
      "outputs": []
    },
    {
      "cell_type": "code",
      "metadata": {
        "colab": {
          "base_uri": "https://localhost:8080/"
        },
        "id": "aVCxuOjpqj6a",
        "outputId": "4721315a-dc62-4707-ff6d-618cc5a272e1"
      },
      "source": [
        "pred = scaler.inverse_transform(np.expand_dims(predict(model, test_input, 100),0))[0]\n",
        "pred"
      ],
      "execution_count": 71,
      "outputs": [
        {
          "output_type": "execute_result",
          "data": {
            "text/plain": [
              "array([44.17199898, 43.86199951, 43.24733353, 42.63266754, 42.01800156,\n",
              "       42.25600052, 42.18999863, 42.12400055, 41.33200073, 41.03533427,\n",
              "       42.11965177, 42.08090924, 42.05081163, 42.03515956, 42.0476042 ,\n",
              "       42.08559923, 42.10654456, 42.11874907, 42.1312391 , 42.17231125,\n",
              "       42.22677614, 42.25096185, 42.27627064, 42.30302976, 42.33114918,\n",
              "       42.359784  , 42.38783826, 42.41558868, 42.44363049, 42.4721965 ,\n",
              "       42.500343  , 42.52759704, 42.55478007, 42.58187597, 42.60884595,\n",
              "       42.63564608, 42.66223974, 42.68864086, 42.71485822, 42.74088302,\n",
              "       42.76669258, 42.79228178, 42.81767183, 42.84285836, 42.86783549,\n",
              "       42.89259666, 42.91716014, 42.94154646, 42.96572485, 42.98969385,\n",
              "       43.013616  , 43.03755791, 43.06136511, 43.08503761, 43.10857173,\n",
              "       43.13197333, 43.15524169, 43.17837315, 43.20135671, 43.22420776,\n",
              "       43.24693069, 43.26951671, 43.2919585 , 43.31428096, 43.33647749,\n",
              "       43.35852906, 43.3805206 , 43.40246015, 43.42431258, 43.44605739,\n",
              "       43.46773192, 43.48932591, 43.51082546, 43.53222764, 43.55353391,\n",
              "       43.57474354, 43.59586311, 43.61687873, 43.63779404, 43.65860466,\n",
              "       43.67931059, 43.69990963, 43.72040031, 43.74078117, 43.76105075,\n",
              "       43.78122369, 43.80152842, 43.82177969, 43.84196801, 43.86209922,\n",
              "       43.88216307, 43.90215738, 43.92208798, 43.9419549 , 43.9617464 ,\n",
              "       43.98147201, 44.00118079, 44.02083538, 44.04042995, 44.05996008,\n",
              "       44.07942799, 44.09883   , 44.11816466, 44.13743416, 44.15663484,\n",
              "       44.17576524, 44.19482462, 44.21381152, 44.23273399, 44.25158764])"
            ]
          },
          "metadata": {
            "tags": []
          },
          "execution_count": 71
        }
      ]
    },
    {
      "cell_type": "code",
      "metadata": {
        "colab": {
          "base_uri": "https://localhost:8080/",
          "height": 424
        },
        "id": "65oPTdzIvNR3",
        "outputId": "7a38c756-a8c3-468c-e7ee-b94beaaa461f"
      },
      "source": [
        "pred_date_range = pd.date_range(test_start_date,periods=len(pred))\n",
        "pred_df=pd.DataFrame(data={'Predictions':pred}, index=pred_date_range)\n",
        "pred_df"
      ],
      "execution_count": 72,
      "outputs": [
        {
          "output_type": "execute_result",
          "data": {
            "text/html": [
              "<div>\n",
              "<style scoped>\n",
              "    .dataframe tbody tr th:only-of-type {\n",
              "        vertical-align: middle;\n",
              "    }\n",
              "\n",
              "    .dataframe tbody tr th {\n",
              "        vertical-align: top;\n",
              "    }\n",
              "\n",
              "    .dataframe thead th {\n",
              "        text-align: right;\n",
              "    }\n",
              "</style>\n",
              "<table border=\"1\" class=\"dataframe\">\n",
              "  <thead>\n",
              "    <tr style=\"text-align: right;\">\n",
              "      <th></th>\n",
              "      <th>Predictions</th>\n",
              "    </tr>\n",
              "  </thead>\n",
              "  <tbody>\n",
              "    <tr>\n",
              "      <th>2015-01-01</th>\n",
              "      <td>44.171999</td>\n",
              "    </tr>\n",
              "    <tr>\n",
              "      <th>2015-01-02</th>\n",
              "      <td>43.862000</td>\n",
              "    </tr>\n",
              "    <tr>\n",
              "      <th>2015-01-03</th>\n",
              "      <td>43.247334</td>\n",
              "    </tr>\n",
              "    <tr>\n",
              "      <th>2015-01-04</th>\n",
              "      <td>42.632668</td>\n",
              "    </tr>\n",
              "    <tr>\n",
              "      <th>2015-01-05</th>\n",
              "      <td>42.018002</td>\n",
              "    </tr>\n",
              "    <tr>\n",
              "      <th>...</th>\n",
              "      <td>...</td>\n",
              "    </tr>\n",
              "    <tr>\n",
              "      <th>2015-04-16</th>\n",
              "      <td>44.175765</td>\n",
              "    </tr>\n",
              "    <tr>\n",
              "      <th>2015-04-17</th>\n",
              "      <td>44.194825</td>\n",
              "    </tr>\n",
              "    <tr>\n",
              "      <th>2015-04-18</th>\n",
              "      <td>44.213812</td>\n",
              "    </tr>\n",
              "    <tr>\n",
              "      <th>2015-04-19</th>\n",
              "      <td>44.232734</td>\n",
              "    </tr>\n",
              "    <tr>\n",
              "      <th>2015-04-20</th>\n",
              "      <td>44.251588</td>\n",
              "    </tr>\n",
              "  </tbody>\n",
              "</table>\n",
              "<p>110 rows × 1 columns</p>\n",
              "</div>"
            ],
            "text/plain": [
              "            Predictions\n",
              "2015-01-01    44.171999\n",
              "2015-01-02    43.862000\n",
              "2015-01-03    43.247334\n",
              "2015-01-04    42.632668\n",
              "2015-01-05    42.018002\n",
              "...                 ...\n",
              "2015-04-16    44.175765\n",
              "2015-04-17    44.194825\n",
              "2015-04-18    44.213812\n",
              "2015-04-19    44.232734\n",
              "2015-04-20    44.251588\n",
              "\n",
              "[110 rows x 1 columns]"
            ]
          },
          "metadata": {
            "tags": []
          },
          "execution_count": 72
        }
      ]
    },
    {
      "cell_type": "code",
      "metadata": {
        "colab": {
          "base_uri": "https://localhost:8080/",
          "height": 283
        },
        "id": "sZTTJqEjvyyH",
        "outputId": "4503f6ce-5d1f-4184-909b-f0253187ae60"
      },
      "source": [
        "plt.plot(pred_df)\n",
        "plt.plot(df['2014':'2016'])"
      ],
      "execution_count": 79,
      "outputs": [
        {
          "output_type": "execute_result",
          "data": {
            "text/plain": [
              "[<matplotlib.lines.Line2D at 0x7fa3e18695d0>]"
            ]
          },
          "metadata": {
            "tags": []
          },
          "execution_count": 79
        },
        {
          "output_type": "display_data",
          "data": {
            "image/png": "[encoded data removed]",
            "text/plain": [
              "<Figure size 432x288 with 1 Axes>"
            ]
          },
          "metadata": {
            "tags": [],
            "needs_background": "light"
          }
        }
      ]
    }
  ]
}