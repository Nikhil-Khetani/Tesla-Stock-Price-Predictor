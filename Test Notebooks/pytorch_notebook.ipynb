{
  "nbformat": 4,
  "nbformat_minor": 0,
  "metadata": {
    "orig_nbformat": 2,
    "kernelspec": {
      "name": "python3",
      "display_name": "Python 3"
    },
    "metadata": {
      "interpreter": {
        "hash": "ddec2621c09c2d962b6aab7d66f58bee0f37e4a1fc33df0e38a1135b5b618ec9"
      }
    },
    "colab": {
      "name": "pytorch_notebook.ipynb",
      "provenance": [],
      "include_colab_link": true
    },
    "language_info": {
      "name": "python"
    },
    "accelerator": "GPU"
  },
  "cells": [
    {
      "cell_type": "markdown",
      "metadata": {
        "id": "view-in-github",
        "colab_type": "text"
      },
      "source": [
        "<a href=\"https://colab.research.google.com/github/Nikhil-Khetani/Tesla-Stock-Price-Predictor/blob/main/pytorch_notebook.ipynb\" target=\"_parent\"><img src=\"https://colab.research.google.com/assets/colab-badge.svg\" alt=\"Open In Colab\"/></a>"
      ]
    },
    {
      "cell_type": "code",
      "metadata": {
        "colab": {
          "base_uri": "https://localhost:8080/",
          "height": 206
        },
        "id": "lkn58yljPMB2",
        "outputId": "15b5a7fe-904a-45e8-a638-7c5a06859039"
      },
      "source": [
        "from datetime import datetime, timedelta\n",
        "import matplotlib.pyplot as plt\n",
        "from matplotlib import style\n",
        "import matplotlib.dates as mdates\n",
        "import pandas as pd\n",
        "import pandas_datareader.data as web\n",
        "import numpy as np\n",
        "from sklearn.preprocessing import MinMaxScaler\n",
        "import torch\n",
        "import torch.nn as nn\n",
        "style.use('ggplot')\n",
        "\n",
        "device = torch.device(\"cuda:0\" if torch.cuda.is_available() else \"cpu\")\n",
        "\n",
        "start = datetime(2011, 1, 1)\n",
        "end = datetime(2021, 1, 1)\n",
        "\n",
        "df = web.DataReader('TSLA', 'yahoo', start, end).reset_index(level=0)\n",
        "'''\n",
        "df.to_csv('tsla.csv')\n",
        "\n",
        "df = pd.read_csv('tsla.csv', index_col=0).reset_index()\n",
        "'''\n",
        "df.head()\n"
      ],
      "execution_count": 43,
      "outputs": [
        {
          "output_type": "execute_result",
          "data": {
            "text/html": [
              "<div>\n",
              "<style scoped>\n",
              "    .dataframe tbody tr th:only-of-type {\n",
              "        vertical-align: middle;\n",
              "    }\n",
              "\n",
              "    .dataframe tbody tr th {\n",
              "        vertical-align: top;\n",
              "    }\n",
              "\n",
              "    .dataframe thead th {\n",
              "        text-align: right;\n",
              "    }\n",
              "</style>\n",
              "<table border=\"1\" class=\"dataframe\">\n",
              "  <thead>\n",
              "    <tr style=\"text-align: right;\">\n",
              "      <th></th>\n",
              "      <th>Date</th>\n",
              "      <th>High</th>\n",
              "      <th>Low</th>\n",
              "      <th>Open</th>\n",
              "      <th>Close</th>\n",
              "      <th>Volume</th>\n",
              "      <th>Adj Close</th>\n",
              "    </tr>\n",
              "  </thead>\n",
              "  <tbody>\n",
              "    <tr>\n",
              "      <th>0</th>\n",
              "      <td>2011-01-03</td>\n",
              "      <td>5.400</td>\n",
              "      <td>5.180</td>\n",
              "      <td>5.368</td>\n",
              "      <td>5.324</td>\n",
              "      <td>6415000.0</td>\n",
              "      <td>5.324</td>\n",
              "    </tr>\n",
              "    <tr>\n",
              "      <th>1</th>\n",
              "      <td>2011-01-04</td>\n",
              "      <td>5.390</td>\n",
              "      <td>5.204</td>\n",
              "      <td>5.332</td>\n",
              "      <td>5.334</td>\n",
              "      <td>5937000.0</td>\n",
              "      <td>5.334</td>\n",
              "    </tr>\n",
              "    <tr>\n",
              "      <th>2</th>\n",
              "      <td>2011-01-05</td>\n",
              "      <td>5.380</td>\n",
              "      <td>5.238</td>\n",
              "      <td>5.296</td>\n",
              "      <td>5.366</td>\n",
              "      <td>7233500.0</td>\n",
              "      <td>5.366</td>\n",
              "    </tr>\n",
              "    <tr>\n",
              "      <th>3</th>\n",
              "      <td>2011-01-06</td>\n",
              "      <td>5.600</td>\n",
              "      <td>5.362</td>\n",
              "      <td>5.366</td>\n",
              "      <td>5.576</td>\n",
              "      <td>10306000.0</td>\n",
              "      <td>5.576</td>\n",
              "    </tr>\n",
              "    <tr>\n",
              "      <th>4</th>\n",
              "      <td>2011-01-07</td>\n",
              "      <td>5.716</td>\n",
              "      <td>5.580</td>\n",
              "      <td>5.600</td>\n",
              "      <td>5.648</td>\n",
              "      <td>11239500.0</td>\n",
              "      <td>5.648</td>\n",
              "    </tr>\n",
              "  </tbody>\n",
              "</table>\n",
              "</div>"
            ],
            "text/plain": [
              "        Date   High    Low   Open  Close      Volume  Adj Close\n",
              "0 2011-01-03  5.400  5.180  5.368  5.324   6415000.0      5.324\n",
              "1 2011-01-04  5.390  5.204  5.332  5.334   5937000.0      5.334\n",
              "2 2011-01-05  5.380  5.238  5.296  5.366   7233500.0      5.366\n",
              "3 2011-01-06  5.600  5.362  5.366  5.576  10306000.0      5.576\n",
              "4 2011-01-07  5.716  5.580  5.600  5.648  11239500.0      5.648"
            ]
          },
          "metadata": {
            "tags": []
          },
          "execution_count": 43
        }
      ]
    },
    {
      "cell_type": "code",
      "metadata": {
        "colab": {
          "base_uri": "https://localhost:8080/",
          "height": 206
        },
        "id": "upvHql2UPMCI",
        "outputId": "23974a32-f6d5-40b6-bb7b-c9a167e5d5cc"
      },
      "source": [
        "df = pd.DataFrame(df[['Date','Adj Close']])\n",
        "df['Date']=pd.to_datetime(df['Date'])\n",
        "df.head()"
      ],
      "execution_count": 2,
      "outputs": [
        {
          "output_type": "execute_result",
          "data": {
            "text/html": [
              "<div>\n",
              "<style scoped>\n",
              "    .dataframe tbody tr th:only-of-type {\n",
              "        vertical-align: middle;\n",
              "    }\n",
              "\n",
              "    .dataframe tbody tr th {\n",
              "        vertical-align: top;\n",
              "    }\n",
              "\n",
              "    .dataframe thead th {\n",
              "        text-align: right;\n",
              "    }\n",
              "</style>\n",
              "<table border=\"1\" class=\"dataframe\">\n",
              "  <thead>\n",
              "    <tr style=\"text-align: right;\">\n",
              "      <th></th>\n",
              "      <th>Date</th>\n",
              "      <th>Adj Close</th>\n",
              "    </tr>\n",
              "  </thead>\n",
              "  <tbody>\n",
              "    <tr>\n",
              "      <th>0</th>\n",
              "      <td>2011-01-03</td>\n",
              "      <td>5.324</td>\n",
              "    </tr>\n",
              "    <tr>\n",
              "      <th>1</th>\n",
              "      <td>2011-01-04</td>\n",
              "      <td>5.334</td>\n",
              "    </tr>\n",
              "    <tr>\n",
              "      <th>2</th>\n",
              "      <td>2011-01-05</td>\n",
              "      <td>5.366</td>\n",
              "    </tr>\n",
              "    <tr>\n",
              "      <th>3</th>\n",
              "      <td>2011-01-06</td>\n",
              "      <td>5.576</td>\n",
              "    </tr>\n",
              "    <tr>\n",
              "      <th>4</th>\n",
              "      <td>2011-01-07</td>\n",
              "      <td>5.648</td>\n",
              "    </tr>\n",
              "  </tbody>\n",
              "</table>\n",
              "</div>"
            ],
            "text/plain": [
              "        Date  Adj Close\n",
              "0 2011-01-03      5.324\n",
              "1 2011-01-04      5.334\n",
              "2 2011-01-05      5.366\n",
              "3 2011-01-06      5.576\n",
              "4 2011-01-07      5.648"
            ]
          },
          "metadata": {
            "tags": []
          },
          "execution_count": 2
        }
      ]
    },
    {
      "cell_type": "code",
      "metadata": {
        "colab": {
          "base_uri": "https://localhost:8080/"
        },
        "id": "DPqahjicPMCK",
        "outputId": "92809ba7-52bf-4f0b-e4f0-12f77fd61151"
      },
      "source": [
        "df.info()"
      ],
      "execution_count": 3,
      "outputs": [
        {
          "output_type": "stream",
          "text": [
            "<class 'pandas.core.frame.DataFrame'>\n",
            "RangeIndex: 2517 entries, 0 to 2516\n",
            "Data columns (total 2 columns):\n",
            " #   Column     Non-Null Count  Dtype         \n",
            "---  ------     --------------  -----         \n",
            " 0   Date       2517 non-null   datetime64[ns]\n",
            " 1   Adj Close  2517 non-null   float64       \n",
            "dtypes: datetime64[ns](1), float64(1)\n",
            "memory usage: 39.5 KB\n"
          ],
          "name": "stdout"
        }
      ]
    },
    {
      "cell_type": "code",
      "metadata": {
        "id": "IOUcpoJNPMCM"
      },
      "source": [
        "df.set_index('Date', inplace=True)"
      ],
      "execution_count": 4,
      "outputs": []
    },
    {
      "cell_type": "code",
      "metadata": {
        "colab": {
          "base_uri": "https://localhost:8080/",
          "height": 238
        },
        "id": "vhHpIk8hPMCN",
        "outputId": "a46dc0b2-65e6-4459-ea20-de914f3e8d7b"
      },
      "source": [
        "df['2015'].head()"
      ],
      "execution_count": 5,
      "outputs": [
        {
          "output_type": "execute_result",
          "data": {
            "text/html": [
              "<div>\n",
              "<style scoped>\n",
              "    .dataframe tbody tr th:only-of-type {\n",
              "        vertical-align: middle;\n",
              "    }\n",
              "\n",
              "    .dataframe tbody tr th {\n",
              "        vertical-align: top;\n",
              "    }\n",
              "\n",
              "    .dataframe thead th {\n",
              "        text-align: right;\n",
              "    }\n",
              "</style>\n",
              "<table border=\"1\" class=\"dataframe\">\n",
              "  <thead>\n",
              "    <tr style=\"text-align: right;\">\n",
              "      <th></th>\n",
              "      <th>Adj Close</th>\n",
              "    </tr>\n",
              "    <tr>\n",
              "      <th>Date</th>\n",
              "      <th></th>\n",
              "    </tr>\n",
              "  </thead>\n",
              "  <tbody>\n",
              "    <tr>\n",
              "      <th>2015-01-02</th>\n",
              "      <td>43.862000</td>\n",
              "    </tr>\n",
              "    <tr>\n",
              "      <th>2015-01-05</th>\n",
              "      <td>42.018002</td>\n",
              "    </tr>\n",
              "    <tr>\n",
              "      <th>2015-01-06</th>\n",
              "      <td>42.256001</td>\n",
              "    </tr>\n",
              "    <tr>\n",
              "      <th>2015-01-07</th>\n",
              "      <td>42.189999</td>\n",
              "    </tr>\n",
              "    <tr>\n",
              "      <th>2015-01-08</th>\n",
              "      <td>42.124001</td>\n",
              "    </tr>\n",
              "  </tbody>\n",
              "</table>\n",
              "</div>"
            ],
            "text/plain": [
              "            Adj Close\n",
              "Date                 \n",
              "2015-01-02  43.862000\n",
              "2015-01-05  42.018002\n",
              "2015-01-06  42.256001\n",
              "2015-01-07  42.189999\n",
              "2015-01-08  42.124001"
            ]
          },
          "metadata": {
            "tags": []
          },
          "execution_count": 5
        }
      ]
    },
    {
      "cell_type": "code",
      "metadata": {
        "colab": {
          "base_uri": "https://localhost:8080/"
        },
        "id": "vHjEwcslPMCO",
        "outputId": "10b519d6-fd1b-482c-f2cf-3e35a70b3da9"
      },
      "source": [
        "date_range = df.index.max()-df.index.min()\n",
        "print(date_range)"
      ],
      "execution_count": 6,
      "outputs": [
        {
          "output_type": "stream",
          "text": [
            "3650 days 00:00:00\n"
          ],
          "name": "stdout"
        }
      ]
    },
    {
      "cell_type": "code",
      "metadata": {
        "id": "SUUe9OtSPMCP"
      },
      "source": [
        "new_index = pd.date_range(df.index.min(),df.index.max())\n",
        "df = df.reindex(new_index)"
      ],
      "execution_count": 7,
      "outputs": []
    },
    {
      "cell_type": "code",
      "metadata": {
        "colab": {
          "base_uri": "https://localhost:8080/"
        },
        "id": "IX_FLUVCPMCQ",
        "outputId": "675e8f87-385c-49ab-d7da-4266d867f8a5"
      },
      "source": [
        "df['Adj Close'].value_counts(dropna=False)"
      ],
      "execution_count": 8,
      "outputs": [
        {
          "output_type": "execute_result",
          "data": {
            "text/plain": [
              "NaN          1134\n",
              "5.484000        4\n",
              "42.018002       3\n",
              "5.424000        3\n",
              "6.492000        3\n",
              "             ... \n",
              "56.366001       1\n",
              "48.292000       1\n",
              "42.888000       1\n",
              "39.209999       1\n",
              "49.548000       1\n",
              "Name: Adj Close, Length: 2354, dtype: int64"
            ]
          },
          "metadata": {
            "tags": []
          },
          "execution_count": 8
        }
      ]
    },
    {
      "cell_type": "code",
      "metadata": {
        "id": "5lX-QDTzPMCR"
      },
      "source": [
        "df['Adj Close'].interpolate(method='linear', inplace=True)"
      ],
      "execution_count": 9,
      "outputs": []
    },
    {
      "cell_type": "code",
      "metadata": {
        "colab": {
          "base_uri": "https://localhost:8080/"
        },
        "id": "GEIUv-EePMCS",
        "outputId": "bb4cb65b-d03b-4bff-f673-d96eddc464c3"
      },
      "source": [
        "df['Adj Close'].value_counts(dropna=False)\n"
      ],
      "execution_count": 10,
      "outputs": [
        {
          "output_type": "execute_result",
          "data": {
            "text/plain": [
              "5.484000     4\n",
              "5.634000     3\n",
              "6.492000     3\n",
              "5.320000     3\n",
              "42.018002    3\n",
              "            ..\n",
              "45.557999    1\n",
              "4.748500     1\n",
              "34.335499    1\n",
              "25.804000    1\n",
              "6.750000     1\n",
              "Name: Adj Close, Length: 3471, dtype: int64"
            ]
          },
          "metadata": {
            "tags": []
          },
          "execution_count": 10
        }
      ]
    },
    {
      "cell_type": "code",
      "metadata": {
        "colab": {
          "base_uri": "https://localhost:8080/",
          "height": 283
        },
        "id": "NKaSA7q9PMCT",
        "outputId": "c3b01429-15d8-4ecb-81ff-f22dbeccd2f5"
      },
      "source": [
        "plt.plot(df)"
      ],
      "execution_count": 11,
      "outputs": [
        {
          "output_type": "execute_result",
          "data": {
            "text/plain": [
              "[<matplotlib.lines.Line2D at 0x7f760c0dead0>]"
            ]
          },
          "metadata": {
            "tags": []
          },
          "execution_count": 11
        },
        {
          "output_type": "display_data",
          "data": {
            "image/png": "[encoded data removed]",
            "text/plain": [
              "<Figure size 432x288 with 1 Axes>"
            ]
          },
          "metadata": {
            "tags": [],
            "needs_background": "light"
          }
        }
      ]
    },
    {
      "cell_type": "code",
      "metadata": {
        "colab": {
          "base_uri": "https://localhost:8080/",
          "height": 283
        },
        "id": "Sy1qtE9fPMCV",
        "outputId": "82e77990-1546-4c7d-d948-95d4afc473c2"
      },
      "source": [
        "train_data = df['2014':'2017']\n",
        "test_data = df['2018':'2019']\n",
        "\n",
        "plt.plot(train_data)\n",
        "plt.plot(test_data)"
      ],
      "execution_count": 12,
      "outputs": [
        {
          "output_type": "execute_result",
          "data": {
            "text/plain": [
              "[<matplotlib.lines.Line2D at 0x7f760c370450>]"
            ]
          },
          "metadata": {
            "tags": []
          },
          "execution_count": 12
        },
        {
          "output_type": "display_data",
          "data": {
            "image/png": "[encoded data removed]",
            "text/plain": [
              "<Figure size 432x288 with 1 Axes>"
            ]
          },
          "metadata": {
            "tags": [],
            "needs_background": "light"
          }
        }
      ]
    },
    {
      "cell_type": "code",
      "metadata": {
        "id": "DaH5qVQXPMCW"
      },
      "source": [
        "scaler = MinMaxScaler(feature_range=(-1,1))\n",
        "train_data_scaled = scaler.fit_transform(train_data)"
      ],
      "execution_count": 13,
      "outputs": []
    },
    {
      "cell_type": "code",
      "metadata": {
        "colab": {
          "base_uri": "https://localhost:8080/"
        },
        "id": "CxAp3KtdPMCX",
        "outputId": "325ae559-4de0-4c56-e0b7-eeeab3abd6fc"
      },
      "source": [
        "train_data_scaled"
      ],
      "execution_count": 14,
      "outputs": [
        {
          "output_type": "execute_result",
          "data": {
            "text/plain": [
              "array([[-0.91105591],\n",
              "       [-0.91239923],\n",
              "       [-0.91679555],\n",
              "       ...,\n",
              "       [ 0.4003908 ],\n",
              "       [ 0.41907519],\n",
              "       [ 0.43775957]])"
            ]
          },
          "metadata": {
            "tags": []
          },
          "execution_count": 14
        }
      ]
    },
    {
      "cell_type": "code",
      "metadata": {
        "id": "ccwdhHZyPMCX"
      },
      "source": [
        "train_data_scaled = torch.FloatTensor(train_data_scaled).view(-1).to(device)"
      ],
      "execution_count": 15,
      "outputs": []
    },
    {
      "cell_type": "code",
      "metadata": {
        "colab": {
          "base_uri": "https://localhost:8080/"
        },
        "id": "UW_nlC-mPMCY",
        "outputId": "f30ec5cb-5d8a-4131-8cc3-35f8e329dd24"
      },
      "source": [
        "train_data_scaled"
      ],
      "execution_count": 16,
      "outputs": [
        {
          "output_type": "execute_result",
          "data": {
            "text/plain": [
              "tensor([-0.9111, -0.9124, -0.9168,  ...,  0.4004,  0.4191,  0.4378],\n",
              "       device='cuda:0')"
            ]
          },
          "metadata": {
            "tags": []
          },
          "execution_count": 16
        }
      ]
    },
    {
      "cell_type": "code",
      "metadata": {
        "id": "ygz20MdcPMCY"
      },
      "source": [
        "def create_inout_sequences(input_data, tw):\n",
        "    inout_seq = []\n",
        "    L = len(input_data)\n",
        "    for i in range(L-tw):\n",
        "        train_seq = input_data[i:i+tw]\n",
        "        train_label = input_data[i+tw:i+tw+1]\n",
        "        inout_seq.append((train_seq ,train_label))\n",
        "    return inout_seq"
      ],
      "execution_count": 17,
      "outputs": []
    },
    {
      "cell_type": "code",
      "metadata": {
        "id": "PVk3z3rdPMCZ"
      },
      "source": [
        "train_window = 30\n",
        "train_inout_seq = create_inout_sequences(train_data_scaled, train_window)"
      ],
      "execution_count": 18,
      "outputs": []
    },
    {
      "cell_type": "code",
      "metadata": {
        "colab": {
          "base_uri": "https://localhost:8080/"
        },
        "id": "CScBe1sAPMCZ",
        "outputId": "2a05d486-b1ee-4b42-e8d8-3f97bf26e406"
      },
      "source": [
        "train_inout_seq[:5]"
      ],
      "execution_count": 19,
      "outputs": [
        {
          "output_type": "execute_result",
          "data": {
            "text/plain": [
              "[(tensor([-0.9111, -0.9124, -0.9168, -0.9237, -0.9307, -0.9376, -0.9184, -0.9028,\n",
              "          -0.9333, -0.9481, -0.9654, -0.9827, -1.0000, -0.8215, -0.7982, -0.7425,\n",
              "          -0.7503, -0.7367, -0.7232, -0.7096, -0.6960, -0.6807, -0.6568, -0.7129,\n",
              "          -0.7265, -0.7400, -0.7535, -0.6822, -0.7078, -0.6459], device='cuda:0'),\n",
              "  tensor([-0.6575], device='cuda:0')),\n",
              " (tensor([-0.9124, -0.9168, -0.9237, -0.9307, -0.9376, -0.9184, -0.9028, -0.9333,\n",
              "          -0.9481, -0.9654, -0.9827, -1.0000, -0.8215, -0.7982, -0.7425, -0.7503,\n",
              "          -0.7367, -0.7232, -0.7096, -0.6960, -0.6807, -0.6568, -0.7129, -0.7265,\n",
              "          -0.7400, -0.7535, -0.6822, -0.7078, -0.6459, -0.6575], device='cuda:0'),\n",
              "  tensor([-0.6692], device='cuda:0')),\n",
              " (tensor([-0.9168, -0.9237, -0.9307, -0.9376, -0.9184, -0.9028, -0.9333, -0.9481,\n",
              "          -0.9654, -0.9827, -1.0000, -0.8215, -0.7982, -0.7425, -0.7503, -0.7367,\n",
              "          -0.7232, -0.7096, -0.6960, -0.6807, -0.6568, -0.7129, -0.7265, -0.7400,\n",
              "          -0.7535, -0.6822, -0.7078, -0.6459, -0.6575, -0.6692], device='cuda:0'),\n",
              "  tensor([-0.6808], device='cuda:0')),\n",
              " (tensor([-0.9237, -0.9307, -0.9376, -0.9184, -0.9028, -0.9333, -0.9481, -0.9654,\n",
              "          -0.9827, -1.0000, -0.8215, -0.7982, -0.7425, -0.7503, -0.7367, -0.7232,\n",
              "          -0.7096, -0.6960, -0.6807, -0.6568, -0.7129, -0.7265, -0.7400, -0.7535,\n",
              "          -0.6822, -0.7078, -0.6459, -0.6575, -0.6692, -0.6808], device='cuda:0'),\n",
              "  tensor([-0.6925], device='cuda:0')),\n",
              " (tensor([-0.9307, -0.9376, -0.9184, -0.9028, -0.9333, -0.9481, -0.9654, -0.9827,\n",
              "          -1.0000, -0.8215, -0.7982, -0.7425, -0.7503, -0.7367, -0.7232, -0.7096,\n",
              "          -0.6960, -0.6807, -0.6568, -0.7129, -0.7265, -0.7400, -0.7535, -0.6822,\n",
              "          -0.7078, -0.6459, -0.6575, -0.6692, -0.6808, -0.6925], device='cuda:0'),\n",
              "  tensor([-0.6793], device='cuda:0'))]"
            ]
          },
          "metadata": {
            "tags": []
          },
          "execution_count": 19
        }
      ]
    },
    {
      "cell_type": "code",
      "metadata": {
        "id": "GDiiMBEqPMCa"
      },
      "source": [
        "class LSTM(nn.Module):\n",
        "    def __init__(self, input_size=1, hidden_layer_size=100, output_size=1):\n",
        "        super().__init__()\n",
        "        self.hidden_layer_size = hidden_layer_size\n",
        "\n",
        "        self.lstm = nn.LSTM(input_size, hidden_layer_size)\n",
        "\n",
        "        self.linear = nn.Linear(hidden_layer_size, output_size)\n",
        "\n",
        "        self.hidden_cell = (torch.zeros(1,1,self.hidden_layer_size),\n",
        "                            torch.zeros(1,1,self.hidden_layer_size))\n",
        "\n",
        "    def forward(self, input_seq):\n",
        "        lstm_out, self.hidden_cell = self.lstm(input_seq.view(len(input_seq) ,1, -1), self.hidden_cell)\n",
        "        predictions = self.linear(lstm_out.view(len(input_seq), -1))\n",
        "        return predictions[-1]"
      ],
      "execution_count": 20,
      "outputs": []
    },
    {
      "cell_type": "code",
      "metadata": {
        "id": "reDalwgOPMCa"
      },
      "source": [
        "model = LSTM().to(device)\n",
        "loss_function = nn.MSELoss()\n",
        "optimizer = torch.optim.Adam(model.parameters(), lr=0.001)"
      ],
      "execution_count": 21,
      "outputs": []
    },
    {
      "cell_type": "code",
      "metadata": {
        "colab": {
          "base_uri": "https://localhost:8080/"
        },
        "id": "bKXTb2U3PMCb",
        "outputId": "98c0c0ec-1621-4138-d2f6-2d38400d678d"
      },
      "source": [
        "print(model)"
      ],
      "execution_count": 22,
      "outputs": [
        {
          "output_type": "stream",
          "text": [
            "LSTM(\n",
            "  (lstm): LSTM(1, 100)\n",
            "  (linear): Linear(in_features=100, out_features=1, bias=True)\n",
            ")\n"
          ],
          "name": "stdout"
        }
      ]
    },
    {
      "cell_type": "code",
      "metadata": {
        "colab": {
          "base_uri": "https://localhost:8080/"
        },
        "id": "9e9-Z7tEPMCb",
        "outputId": "5e22bf21-cbe3-4810-dbe0-8408cc473671"
      },
      "source": [
        "epochs = 150\n",
        "model.train()\n",
        "for i in range(epochs):\n",
        "    for seq, labels in train_inout_seq:\n",
        "        optimizer.zero_grad()\n",
        "        model.hidden_cell = (torch.zeros(1, 1, model.hidden_layer_size).to(device),\n",
        "                        torch.zeros(1, 1, model.hidden_layer_size).to(device))\n",
        "\n",
        "        y_pred = model(seq)\n",
        "\n",
        "        single_loss = loss_function(y_pred, labels)\n",
        "        single_loss.backward()\n",
        "        optimizer.step()\n",
        "\n",
        "\n",
        "    print(f'epoch: {i:3} loss: {single_loss.item():10.8f}')\n",
        "\n",
        "print(f'epoch: {i:3} loss: {single_loss.item():10.10f}')"
      ],
      "execution_count": 54,
      "outputs": [
        {
          "output_type": "stream",
          "text": [
            "epoch:   0 loss: 0.00028149\n",
            "epoch:   1 loss: 0.00026116\n",
            "epoch:   2 loss: 0.00026323\n",
            "epoch:   3 loss: 0.00038162\n",
            "epoch:   4 loss: 0.00105803\n",
            "epoch:   5 loss: 0.00256502\n",
            "epoch:   6 loss: 0.00012053\n",
            "epoch:   7 loss: 0.00008631\n",
            "epoch:   8 loss: 0.00013354\n",
            "epoch:   9 loss: 0.00005923\n",
            "epoch:  10 loss: 0.00011114\n",
            "epoch:  11 loss: 0.00000111\n",
            "epoch:  12 loss: 0.00065212\n",
            "epoch:  13 loss: 0.00016569\n",
            "epoch:  14 loss: 0.00023289\n",
            "epoch:  15 loss: 0.00030661\n",
            "epoch:  16 loss: 0.00055735\n",
            "epoch:  17 loss: 0.00073313\n",
            "epoch:  18 loss: 0.00035949\n",
            "epoch:  19 loss: 0.00026764\n",
            "epoch:  20 loss: 0.00048124\n",
            "epoch:  21 loss: 0.00022257\n",
            "epoch:  22 loss: 0.00044220\n",
            "epoch:  23 loss: 0.00248502\n",
            "epoch:  24 loss: 0.00013968\n",
            "epoch:  25 loss: 0.00041970\n",
            "epoch:  26 loss: 0.00044915\n",
            "epoch:  27 loss: 0.00043219\n",
            "epoch:  28 loss: 0.00046533\n",
            "epoch:  29 loss: 0.00024282\n",
            "epoch:  30 loss: 0.00010203\n",
            "epoch:  31 loss: 0.00124673\n",
            "epoch:  32 loss: 0.00023896\n",
            "epoch:  33 loss: 0.00002614\n",
            "epoch:  34 loss: 0.00002391\n",
            "epoch:  35 loss: 0.00000458\n",
            "epoch:  36 loss: 0.00019563\n",
            "epoch:  37 loss: 0.00016272\n",
            "epoch:  38 loss: 0.00047658\n",
            "epoch:  39 loss: 0.00047139\n",
            "epoch:  40 loss: 0.00024419\n",
            "epoch:  41 loss: 0.00006161\n",
            "epoch:  42 loss: 0.00001409\n",
            "epoch:  43 loss: 0.00008560\n",
            "epoch:  44 loss: 0.00009240\n",
            "epoch:  45 loss: 0.00014610\n",
            "epoch:  46 loss: 0.00043694\n",
            "epoch:  47 loss: 0.00108201\n",
            "epoch:  48 loss: 0.00000041\n",
            "epoch:  49 loss: 0.00011077\n",
            "epoch:  50 loss: 0.00044186\n",
            "epoch:  51 loss: 0.00015334\n",
            "epoch:  52 loss: 0.00042835\n",
            "epoch:  53 loss: 0.00002655\n",
            "epoch:  54 loss: 0.00049833\n",
            "epoch:  55 loss: 0.00038384\n",
            "epoch:  56 loss: 0.00033199\n",
            "epoch:  57 loss: 0.00005724\n",
            "epoch:  58 loss: 0.00041112\n",
            "epoch:  59 loss: 0.00040655\n",
            "epoch:  60 loss: 0.00017655\n",
            "epoch:  61 loss: 0.00012815\n",
            "epoch:  62 loss: 0.00001065\n",
            "epoch:  63 loss: 0.00012661\n",
            "epoch:  64 loss: 0.00002009\n",
            "epoch:  65 loss: 0.00077204\n",
            "epoch:  66 loss: 0.00011292\n",
            "epoch:  67 loss: 0.00000584\n",
            "epoch:  68 loss: 0.00009534\n",
            "epoch:  69 loss: 0.00030067\n",
            "epoch:  70 loss: 0.00000158\n",
            "epoch:  71 loss: 0.00006086\n",
            "epoch:  72 loss: 0.00003587\n",
            "epoch:  73 loss: 0.00007950\n",
            "epoch:  74 loss: 0.00007521\n",
            "epoch:  75 loss: 0.00015041\n",
            "epoch:  76 loss: 0.00011728\n",
            "epoch:  77 loss: 0.00035972\n",
            "epoch:  78 loss: 0.00021248\n",
            "epoch:  79 loss: 0.00016916\n",
            "epoch:  80 loss: 0.00001847\n",
            "epoch:  81 loss: 0.00037189\n",
            "epoch:  82 loss: 0.00036061\n",
            "epoch:  83 loss: 0.00000610\n",
            "epoch:  84 loss: 0.00054132\n",
            "epoch:  85 loss: 0.00034194\n",
            "epoch:  86 loss: 0.00017908\n",
            "epoch:  87 loss: 0.00016321\n",
            "epoch:  88 loss: 0.00000024\n",
            "epoch:  89 loss: 0.00039790\n",
            "epoch:  90 loss: 0.00000085\n",
            "epoch:  91 loss: 0.00000001\n",
            "epoch:  92 loss: 0.00037831\n",
            "epoch:  93 loss: 0.00107125\n",
            "epoch:  94 loss: 0.00008971\n",
            "epoch:  95 loss: 0.00000019\n",
            "epoch:  96 loss: 0.00054474\n",
            "epoch:  97 loss: 0.00000093\n",
            "epoch:  98 loss: 0.00000094\n",
            "epoch:  99 loss: 0.00000498\n",
            "epoch: 100 loss: 0.00133015\n",
            "epoch: 101 loss: 0.00004181\n",
            "epoch: 102 loss: 0.00174725\n",
            "epoch: 103 loss: 0.00031458\n",
            "epoch: 104 loss: 0.00001302\n",
            "epoch: 105 loss: 0.00000093\n",
            "epoch: 106 loss: 0.00000003\n",
            "epoch: 107 loss: 0.00007488\n",
            "epoch: 108 loss: 0.00001103\n",
            "epoch: 109 loss: 0.00024892\n",
            "epoch: 110 loss: 0.00024938\n",
            "epoch: 111 loss: 0.00047610\n",
            "epoch: 112 loss: 0.00028129\n",
            "epoch: 113 loss: 0.00038572\n",
            "epoch: 114 loss: 0.00018837\n",
            "epoch: 115 loss: 0.00048571\n",
            "epoch: 116 loss: 0.00003268\n",
            "epoch: 117 loss: 0.00029583\n",
            "epoch: 118 loss: 0.00000030\n",
            "epoch: 119 loss: 0.00025321\n",
            "epoch: 120 loss: 0.00005315\n",
            "epoch: 121 loss: 0.00015448\n",
            "epoch: 122 loss: 0.00020888\n",
            "epoch: 123 loss: 0.00007043\n",
            "epoch: 124 loss: 0.00000654\n",
            "epoch: 125 loss: 0.00009540\n",
            "epoch: 126 loss: 0.00000598\n",
            "epoch: 127 loss: 0.00010751\n",
            "epoch: 128 loss: 0.00004195\n",
            "epoch: 129 loss: 0.00016235\n",
            "epoch: 130 loss: 0.00000482\n",
            "epoch: 131 loss: 0.00000196\n",
            "epoch: 132 loss: 0.00007665\n",
            "epoch: 133 loss: 0.00000080\n",
            "epoch: 134 loss: 0.00031322\n",
            "epoch: 135 loss: 0.00025556\n",
            "epoch: 136 loss: 0.00006011\n",
            "epoch: 137 loss: 0.00005426\n",
            "epoch: 138 loss: 0.00004475\n",
            "epoch: 139 loss: 0.00008107\n",
            "epoch: 140 loss: 0.00000343\n",
            "epoch: 141 loss: 0.00014827\n",
            "epoch: 142 loss: 0.00012577\n",
            "epoch: 143 loss: 0.00009016\n",
            "epoch: 144 loss: 0.00007839\n",
            "epoch: 145 loss: 0.00028173\n",
            "epoch: 146 loss: 0.00002320\n",
            "epoch: 147 loss: 0.00005115\n",
            "epoch: 148 loss: 0.00008881\n",
            "epoch: 149 loss: 0.00010054\n",
            "epoch: 149 loss: 0.0001005382\n"
          ],
          "name": "stdout"
        }
      ]
    },
    {
      "cell_type": "code",
      "metadata": {
        "colab": {
          "base_uri": "https://localhost:8080/"
        },
        "id": "1Clcm1UFPMCc",
        "outputId": "5de03f91-f36b-4ae4-c24c-657a3ab51f65"
      },
      "source": [
        "fut_pred = 400\n",
        "\n",
        "test_inputs = torch.Tensor(train_data_scaled[-train_window:].tolist()).to(device)\n",
        "print(test_inputs)"
      ],
      "execution_count": 50,
      "outputs": [
        {
          "output_type": "stream",
          "text": [
            "tensor([0.3575, 0.3539, 0.3503, 0.3381, 0.4159, 0.3995, 0.4312, 0.4686, 0.5060,\n",
            "        0.5434, 0.6420, 0.6257, 0.6165, 0.6617, 0.6493, 0.6369, 0.6244, 0.5612,\n",
            "        0.5439, 0.5657, 0.5131, 0.4970, 0.4809, 0.4648, 0.4488, 0.4028, 0.4330,\n",
            "        0.4004, 0.4191, 0.4378], device='cuda:0')\n"
          ],
          "name": "stdout"
        }
      ]
    },
    {
      "cell_type": "code",
      "metadata": {
        "id": "d3GdS5n5PMCc"
      },
      "source": [
        "model.eval()\n",
        "\n",
        "for i in range(fut_pred):\n",
        "    seq = test_inputs[-train_window:]\n",
        "    with torch.no_grad():\n",
        "        model.hidden = (torch.zeros(1, 1, model.hidden_layer_size),\n",
        "                        torch.zeros(1, 1, model.hidden_layer_size))\n",
        "        test_inputs = torch.cat((test_inputs, model(seq)), 0)\n",
        "        # test_inputs.append(model(seq).item())"
      ],
      "execution_count": 51,
      "outputs": []
    },
    {
      "cell_type": "code",
      "metadata": {
        "colab": {
          "base_uri": "https://localhost:8080/"
        },
        "id": "nxolJhU6PMCd",
        "outputId": "615f2826-9bfb-44dd-ce91-75959077ee9e"
      },
      "source": [
        "actual_predictions = scaler.inverse_transform(np.array(test_inputs[train_window:].cpu() ).reshape(-1, 1))\n",
        "print(actual_predictions)"
      ],
      "execution_count": 52,
      "outputs": [
        {
          "output_type": "stream",
          "text": [
            "[[65.20967 ]\n",
            " [67.00727 ]\n",
            " [68.604515]\n",
            " [69.722855]\n",
            " [70.54435 ]\n",
            " [71.09363 ]\n",
            " [71.467995]\n",
            " [71.725   ]\n",
            " [71.91009 ]\n",
            " [72.05176 ]\n",
            " [72.16718 ]\n",
            " [72.26569 ]\n",
            " [72.35227 ]\n",
            " [72.4294  ]\n",
            " [72.49819 ]\n",
            " [72.55942 ]\n",
            " [72.61374 ]\n",
            " [72.6618  ]\n",
            " [72.704475]\n",
            " [72.7425  ]\n",
            " [72.77635 ]\n",
            " [72.80676 ]\n",
            " [72.83427 ]\n",
            " [72.85935 ]\n",
            " [72.8823  ]\n",
            " [72.90347 ]\n",
            " [72.92332 ]\n",
            " [72.94172 ]\n",
            " [72.95894 ]\n",
            " [72.974945]\n",
            " [72.98971 ]\n",
            " [73.00273 ]\n",
            " [73.013695]\n",
            " [73.022545]\n",
            " [73.02948 ]\n",
            " [73.03483 ]\n",
            " [73.03894 ]\n",
            " [73.042145]\n",
            " [73.0447  ]\n",
            " [73.0468  ]\n",
            " [73.04856 ]\n",
            " [73.05008 ]\n",
            " [73.051414]\n",
            " [73.052574]\n",
            " [73.05361 ]\n",
            " [73.05451 ]\n",
            " [73.05531 ]\n",
            " [73.056   ]\n",
            " [73.05661 ]\n",
            " [73.05714 ]\n",
            " [73.057594]\n",
            " [73.058   ]\n",
            " [73.05835 ]\n",
            " [73.05865 ]\n",
            " [73.05891 ]\n",
            " [73.059135]\n",
            " [73.05933 ]\n",
            " [73.0595  ]\n",
            " [73.05965 ]\n",
            " [73.05978 ]\n",
            " [73.05988 ]\n",
            " [73.059975]\n",
            " [73.06005 ]\n",
            " [73.06011 ]\n",
            " [73.06017 ]\n",
            " [73.06022 ]\n",
            " [73.06026 ]\n",
            " [73.06029 ]\n",
            " [73.06032 ]\n",
            " [73.06034 ]\n",
            " [73.060356]\n",
            " [73.06037 ]\n",
            " [73.06039 ]\n",
            " [73.0604  ]\n",
            " [73.06042 ]\n",
            " [73.060425]\n",
            " [73.06043 ]\n",
            " [73.06044 ]\n",
            " [73.06044 ]\n",
            " [73.06045 ]\n",
            " [73.060455]\n",
            " [73.06046 ]\n",
            " [73.06046 ]\n",
            " [73.06046 ]\n",
            " [73.06046 ]\n",
            " [73.06047 ]\n",
            " [73.06048 ]\n",
            " [73.06048 ]\n",
            " [73.06048 ]\n",
            " [73.06048 ]\n",
            " [73.06048 ]\n",
            " [73.06048 ]\n",
            " [73.06048 ]\n",
            " [73.060486]\n",
            " [73.060486]\n",
            " [73.060486]\n",
            " [73.060486]\n",
            " [73.060486]\n",
            " [73.060486]\n",
            " [73.060486]\n",
            " [73.060486]\n",
            " [73.060486]\n",
            " [73.060486]\n",
            " [73.060486]\n",
            " [73.060486]\n",
            " [73.060486]\n",
            " [73.060486]\n",
            " [73.060486]\n",
            " [73.060486]\n",
            " [73.060486]\n",
            " [73.060486]\n",
            " [73.060486]\n",
            " [73.060486]\n",
            " [73.060486]\n",
            " [73.060486]\n",
            " [73.060486]\n",
            " [73.060486]\n",
            " [73.060486]\n",
            " [73.060486]\n",
            " [73.060486]\n",
            " [73.060486]\n",
            " [73.060486]\n",
            " [73.060486]\n",
            " [73.060486]\n",
            " [73.060486]\n",
            " [73.060486]\n",
            " [73.060486]\n",
            " [73.060486]\n",
            " [73.060486]\n",
            " [73.060486]\n",
            " [73.060486]\n",
            " [73.060486]\n",
            " [73.060486]\n",
            " [73.060486]\n",
            " [73.060486]\n",
            " [73.060486]\n",
            " [73.060486]\n",
            " [73.060486]\n",
            " [73.060486]\n",
            " [73.060486]\n",
            " [73.060486]\n",
            " [73.060486]\n",
            " [73.060486]\n",
            " [73.060486]\n",
            " [73.060486]\n",
            " [73.060486]\n",
            " [73.060486]\n",
            " [73.060486]\n",
            " [73.060486]\n",
            " [73.060486]\n",
            " [73.060486]\n",
            " [73.060486]\n",
            " [73.060486]\n",
            " [73.060486]\n",
            " [73.060486]\n",
            " [73.060486]\n",
            " [73.060486]\n",
            " [73.060486]\n",
            " [73.060486]\n",
            " [73.060486]\n",
            " [73.060486]\n",
            " [73.060486]\n",
            " [73.060486]\n",
            " [73.060486]\n",
            " [73.060486]\n",
            " [73.060486]\n",
            " [73.060486]\n",
            " [73.060486]\n",
            " [73.060486]\n",
            " [73.060486]\n",
            " [73.060486]\n",
            " [73.060486]\n",
            " [73.060486]\n",
            " [73.060486]\n",
            " [73.060486]\n",
            " [73.060486]\n",
            " [73.060486]\n",
            " [73.060486]\n",
            " [73.060486]\n",
            " [73.060486]\n",
            " [73.060486]\n",
            " [73.060486]\n",
            " [73.060486]\n",
            " [73.060486]\n",
            " [73.060486]\n",
            " [73.060486]\n",
            " [73.060486]\n",
            " [73.060486]\n",
            " [73.060486]\n",
            " [73.060486]\n",
            " [73.060486]\n",
            " [73.060486]\n",
            " [73.060486]\n",
            " [73.060486]\n",
            " [73.060486]\n",
            " [73.060486]\n",
            " [73.060486]\n",
            " [73.060486]\n",
            " [73.060486]\n",
            " [73.060486]\n",
            " [73.060486]\n",
            " [73.060486]\n",
            " [73.060486]\n",
            " [73.060486]\n",
            " [73.060486]\n",
            " [73.060486]\n",
            " [73.060486]\n",
            " [73.060486]\n",
            " [73.060486]\n",
            " [73.060486]\n",
            " [73.060486]\n",
            " [73.060486]\n",
            " [73.060486]\n",
            " [73.060486]\n",
            " [73.060486]\n",
            " [73.060486]\n",
            " [73.060486]\n",
            " [73.060486]\n",
            " [73.060486]\n",
            " [73.060486]\n",
            " [73.060486]\n",
            " [73.060486]\n",
            " [73.060486]\n",
            " [73.060486]\n",
            " [73.060486]\n",
            " [73.060486]\n",
            " [73.060486]\n",
            " [73.060486]\n",
            " [73.060486]\n",
            " [73.060486]\n",
            " [73.060486]\n",
            " [73.060486]\n",
            " [73.060486]\n",
            " [73.060486]\n",
            " [73.060486]\n",
            " [73.060486]\n",
            " [73.060486]\n",
            " [73.060486]\n",
            " [73.060486]\n",
            " [73.060486]\n",
            " [73.060486]\n",
            " [73.060486]\n",
            " [73.060486]\n",
            " [73.060486]\n",
            " [73.060486]\n",
            " [73.060486]\n",
            " [73.060486]\n",
            " [73.060486]\n",
            " [73.060486]\n",
            " [73.060486]\n",
            " [73.060486]\n",
            " [73.060486]\n",
            " [73.060486]\n",
            " [73.060486]\n",
            " [73.060486]\n",
            " [73.060486]\n",
            " [73.060486]\n",
            " [73.060486]\n",
            " [73.060486]\n",
            " [73.060486]\n",
            " [73.060486]\n",
            " [73.060486]\n",
            " [73.060486]\n",
            " [73.060486]\n",
            " [73.060486]\n",
            " [73.060486]\n",
            " [73.060486]\n",
            " [73.060486]\n",
            " [73.060486]\n",
            " [73.060486]\n",
            " [73.060486]\n",
            " [73.060486]\n",
            " [73.060486]\n",
            " [73.060486]\n",
            " [73.060486]\n",
            " [73.060486]\n",
            " [73.060486]\n",
            " [73.060486]\n",
            " [73.060486]\n",
            " [73.060486]\n",
            " [73.060486]\n",
            " [73.060486]\n",
            " [73.060486]\n",
            " [73.060486]\n",
            " [73.060486]\n",
            " [73.060486]\n",
            " [73.060486]\n",
            " [73.060486]\n",
            " [73.060486]\n",
            " [73.060486]\n",
            " [73.060486]\n",
            " [73.060486]\n",
            " [73.060486]\n",
            " [73.060486]\n",
            " [73.060486]\n",
            " [73.060486]\n",
            " [73.060486]\n",
            " [73.060486]\n",
            " [73.060486]\n",
            " [73.060486]\n",
            " [73.060486]\n",
            " [73.060486]\n",
            " [73.060486]\n",
            " [73.060486]\n",
            " [73.060486]\n",
            " [73.060486]\n",
            " [73.060486]\n",
            " [73.060486]\n",
            " [73.060486]\n",
            " [73.060486]\n",
            " [73.060486]\n",
            " [73.060486]\n",
            " [73.060486]\n",
            " [73.060486]\n",
            " [73.060486]\n",
            " [73.060486]\n",
            " [73.060486]\n",
            " [73.060486]\n",
            " [73.060486]\n",
            " [73.060486]\n",
            " [73.060486]\n",
            " [73.060486]\n",
            " [73.060486]\n",
            " [73.060486]\n",
            " [73.060486]\n",
            " [73.060486]\n",
            " [73.060486]\n",
            " [73.060486]\n",
            " [73.060486]\n",
            " [73.060486]\n",
            " [73.060486]\n",
            " [73.060486]\n",
            " [73.060486]\n",
            " [73.060486]\n",
            " [73.060486]\n",
            " [73.060486]\n",
            " [73.060486]\n",
            " [73.060486]\n",
            " [73.060486]\n",
            " [73.060486]\n",
            " [73.060486]\n",
            " [73.060486]\n",
            " [73.060486]\n",
            " [73.060486]\n",
            " [73.060486]\n",
            " [73.060486]\n",
            " [73.060486]\n",
            " [73.060486]\n",
            " [73.060486]\n",
            " [73.060486]\n",
            " [73.060486]\n",
            " [73.060486]\n",
            " [73.060486]\n",
            " [73.060486]\n",
            " [73.060486]\n",
            " [73.060486]\n",
            " [73.060486]\n",
            " [73.060486]\n",
            " [73.060486]\n",
            " [73.060486]\n",
            " [73.060486]\n",
            " [73.060486]\n",
            " [73.060486]\n",
            " [73.060486]\n",
            " [73.060486]\n",
            " [73.060486]\n",
            " [73.060486]\n",
            " [73.060486]\n",
            " [73.060486]\n",
            " [73.060486]\n",
            " [73.060486]\n",
            " [73.060486]\n",
            " [73.060486]\n",
            " [73.060486]\n",
            " [73.060486]\n",
            " [73.060486]\n",
            " [73.060486]\n",
            " [73.060486]\n",
            " [73.060486]\n",
            " [73.060486]\n",
            " [73.060486]\n",
            " [73.060486]\n",
            " [73.060486]\n",
            " [73.060486]\n",
            " [73.060486]\n",
            " [73.060486]\n",
            " [73.060486]\n",
            " [73.060486]\n",
            " [73.060486]\n",
            " [73.060486]\n",
            " [73.060486]\n",
            " [73.060486]\n",
            " [73.060486]\n",
            " [73.060486]\n",
            " [73.060486]\n",
            " [73.060486]\n",
            " [73.060486]\n",
            " [73.060486]\n",
            " [73.060486]\n",
            " [73.060486]]\n"
          ],
          "name": "stdout"
        }
      ]
    },
    {
      "cell_type": "code",
      "metadata": {
        "colab": {
          "base_uri": "https://localhost:8080/",
          "height": 283
        },
        "id": "WNahbfPhPMCd",
        "outputId": "aa9193b6-0bdb-49fb-e284-bdd7b501b12e"
      },
      "source": [
        "test_dates = pd.date_range(train_data.index[-train_window]+timedelta(days=30),train_data.index[-1]+timedelta(days=fut_pred))\n",
        "plt.plot(train_data)\n",
        "plt.plot(test_data)\n",
        "plt.plot(test_dates, actual_predictions)\n"
      ],
      "execution_count": 53,
      "outputs": [
        {
          "output_type": "execute_result",
          "data": {
            "text/plain": [
              "[<matplotlib.lines.Line2D at 0x7f75b0a6e4d0>]"
            ]
          },
          "metadata": {
            "tags": []
          },
          "execution_count": 53
        },
        {
          "output_type": "display_data",
          "data": {
            "image/png": "[encoded data removed]",
            "text/plain": [
              "<Figure size 432x288 with 1 Axes>"
            ]
          },
          "metadata": {
            "tags": []
          }
        }
      ]
    }
  ]
}